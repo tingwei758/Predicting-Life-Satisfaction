{
 "cells": [
  {
   "cell_type": "code",
   "execution_count": 4,
   "metadata": {},
   "outputs": [],
   "source": [
    "SEED = 123321\n",
    "MISSING = -9999"
   ]
  },
  {
   "cell_type": "code",
   "execution_count": 1,
   "metadata": {},
   "outputs": [],
   "source": [
    "import pandas as pd\n",
    "import numpy as np\n",
    "from matplotlib import pyplot as plt\n",
    "import seaborn as sns\n",
    "import xgboost as xgb\n",
    "from sklearn.model_selection import StratifiedKFold, RandomizedSearchCV, GridSearchCV,train_test_split\n",
    "from sklearn.metrics import *\n",
    "from sklearn.impute import SimpleImputer\n",
    "from sklearn.ensemble import RandomForestClassifier\n",
    "from sklearn.model_selection import KFold\n",
    "from catboost import CatBoostClassifier\n",
    "from sklearn.linear_model import LogisticRegression"
   ]
  },
  {
   "cell_type": "code",
   "execution_count": 5,
   "metadata": {},
   "outputs": [],
   "source": [
    "df = pd.read_csv(\"../data/processed/data_encoded_stacking_final.csv\")"
   ]
  },
  {
   "cell_type": "code",
   "execution_count": 6,
   "metadata": {},
   "outputs": [
    {
     "data": {
      "text/plain": [
       "(39325, 353)"
      ]
     },
     "execution_count": 6,
     "metadata": {},
     "output_type": "execute_result"
    }
   ],
   "source": [
    "df.shape"
   ]
  },
  {
   "cell_type": "code",
   "execution_count": 7,
   "metadata": {},
   "outputs": [],
   "source": [
    "df_labeled = df[df[\"test\"] == 0].drop(columns=[\"test\"]).set_index(\"id\")\n",
    "df_unlabeled = df[df[\"test\"] == 1].drop(columns=[\"test\"]).set_index(\"id\")"
   ]
  },
  {
   "cell_type": "code",
   "execution_count": 8,
   "metadata": {},
   "outputs": [],
   "source": [
    "X = df_labeled.drop(columns=[\"satisfied\"])\n",
    "y = df_labeled[\"satisfied\"]"
   ]
  },
  {
   "cell_type": "code",
   "execution_count": null,
   "metadata": {},
   "outputs": [],
   "source": [
    "X_train, X_test, y_train, y_test = train_test_split(X, y, test_size=0.30, random_state=SEED)"
   ]
  },
  {
   "cell_type": "code",
   "execution_count": 9,
   "metadata": {},
   "outputs": [],
   "source": [
    "X_train[\"satisfied\"] = y_train\n",
    "X_test[\"satisfied\"] = y_test\n",
    "X_online = df_unlabeled.drop(columns=[\"satisfied\"]) # should be all null"
   ]
  },
  {
   "cell_type": "code",
   "execution_count": 13,
   "metadata": {},
   "outputs": [],
   "source": [
    "X_train = X_train.reset_index(drop=True)\n",
    "X_test = X_test.reset_index(drop=True)\n",
    "X_online = X_online.reset_index(drop=True)"
   ]
  },
  {
   "cell_type": "code",
   "execution_count": 17,
   "metadata": {},
   "outputs": [],
   "source": [
    "class SklearnWrapper(object):\n",
    "    def __init__(self, clf, seed=0, params=None):\n",
    "        params['random_state'] = seed\n",
    "        self.clf = clf(**params)\n",
    "\n",
    "    def train(self, x_train, y_train):\n",
    "        imp = SimpleImputer(missing_values=MISSING, strategy='constant', fill_value=0)\n",
    "        x_train = imp.fit_transform(x_train)\n",
    "        self.clf.fit(x_train, y_train)\n",
    "\n",
    "    def predict(self, x):\n",
    "        imp = SimpleImputer(missing_values=MISSING, strategy='constant', fill_value=0)\n",
    "        x = imp.fit_transform(x)\n",
    "        return self.clf.predict_proba(x)[:,1]"
   ]
  },
  {
   "cell_type": "code",
   "execution_count": 18,
   "metadata": {},
   "outputs": [],
   "source": [
    "class CatboostWrapper(object):\n",
    "    def __init__(self, clf, seed=0, params=None):\n",
    "        params['random_seed'] = seed\n",
    "        self.clf = clf(**params)\n",
    "\n",
    "    def train(self, x_train, y_train):\n",
    "        self.clf.fit(x_train, y_train)\n",
    "\n",
    "    def predict(self, x):\n",
    "        return self.clf.predict_proba(x)[:,1]"
   ]
  },
  {
   "cell_type": "code",
   "execution_count": 19,
   "metadata": {},
   "outputs": [],
   "source": [
    "class XgbWrapper(object):\n",
    "    def __init__(self, clf, seed=0, params=None):\n",
    "        params['random_state'] = seed\n",
    "        self.clf = clf(**params)\n",
    "\n",
    "    def train(self, x_train, y_train):\n",
    "        self.clf.fit(x_train, y_train)\n",
    "\n",
    "    def predict(self, x):\n",
    "        return self.clf.predict_proba(x)[:,1]"
   ]
  },
  {
   "cell_type": "code",
   "execution_count": 20,
   "metadata": {},
   "outputs": [],
   "source": [
    "class LightGBMWrapper(object):\n",
    "    def __init__(self, seed=0, params=None):\n",
    "        params['seed'] = seed\n",
    "        self.params = params\n",
    "\n",
    "    def train(self, x_train, y_train):\n",
    "        dtrain = lgb.Dataset(x_train,label=y_train)\n",
    "        bst = lgb.cv(self.params, dtrain, num_boost_round=1000, nfold=3, early_stopping_rounds=30) #cv寻找较优的迭代次数\n",
    "        self.lgbc = lgb.train(self.params,dtrain,num_boost_round=len(bst['auc-mean']))\n",
    "\n",
    "    def predict(self, x):\n",
    "        return self.lgbc.predict(np.array(x))"
   ]
  },
  {
   "cell_type": "code",
   "execution_count": 23,
   "metadata": {},
   "outputs": [],
   "source": [
    "class ModelStacking():\n",
    "    def __init__(self, train_data, test_data, online_data, predictors, models=['et','rf','xgb','cb','lgb'], dep='y',nfolds=5, seed=0):\n",
    "        '''\n",
    "        train_data: DataFrame, training data;\n",
    "        test_data: DataFrame, test data (labeled);\n",
    "        online_data: DataFrame, online data (unlabeled);\n",
    "        predictors：list or array, feature column name;\n",
    "        dep: str, label column name;\n",
    "        models: list, models name;\n",
    "        nfolds: int, number of folds;\n",
    "        seed: int, random seed number;\n",
    "        '''\n",
    "        self.train_data = train_data # training data\n",
    "        self.test_data = test_data # test data (labeled)\n",
    "        self.online_data = online_data # online data (unlabeled)\n",
    "        self.predictors = predictors # feature columns name\n",
    "        self.dep = dep # label column name\n",
    "        self.nfolds = nfolds # number of folds\n",
    "        self.seed = seed # random seed number\n",
    "        self.ntrain = self.train_data.shape[0]\n",
    "        self.ntest = self.test_data.shape[0]\n",
    "        self.nonline = self.online_data.shape[0]\n",
    "        self.models = models # models name\n",
    "        \n",
    "        self.params_list() # hyper-params of each model\n",
    "\n",
    "    def get_oof(self,clf):\n",
    "        '''\n",
    "        clf: model wrapper object;\n",
    "        return features (probabilities) for the next layers;\n",
    "        '''\n",
    "        kf = KFold(n_splits = self.nfolds, shuffle=True, random_state=0)\n",
    "        oof_train = np.zeros((self.ntrain,)) # container for training results\n",
    "        oof_test = np.zeros((self.ntest,)) # container for test results\n",
    "        oof_online = np.zeros((self.nonline,)) # container for online results\n",
    "        oof_test_skf = np.empty((self.nfolds, self.ntest)) # container for final (nfold) test results\n",
    "        oof_online_skf = np.empty((self.nfolds, self.nonline)) # container for final (nfold) online results\n",
    "    \n",
    "        for i, (train_index, test_index) in enumerate(kf.split(self.train_data)):\n",
    "            x_tr = self.train_data.loc[train_index,self.predictors]\n",
    "            y_tr = self.train_data[self.dep].loc[train_index]\n",
    "            x_te = self.train_data.loc[test_index,self.predictors]\n",
    "    \n",
    "            # train on the ith fold data\n",
    "            clf.train(x_tr, y_tr)\n",
    "\n",
    "            # save the ith fold result\n",
    "            oof_train[test_index] = clf.predict(x_te)\n",
    "            oof_test_skf[i, :] = clf.predict(self.test_data[self.predictors])\n",
    "            oof_online_skf[i,:] = clf.predict(self.online_data[self.predictors])\n",
    "    \n",
    "        # averaging out-of-fold predictions for test and online results\n",
    "        oof_test[:] = oof_test_skf.mean(axis=0)\n",
    "        oof_online[:] = oof_online_skf.mean(axis=0)\n",
    "        return oof_train.reshape(-1, 1), oof_test.reshape(-1, 1), oof_online.reshape(-1, 1)\n",
    "\n",
    "    def params_list(self):\n",
    "        '''\n",
    "        : initialize params\n",
    "        '''\n",
    "        \n",
    "        et_params = {\n",
    "            'n_jobs': 4,\n",
    "            'n_estimators': 300,\n",
    "            'max_features': 'sqrt',\n",
    "            'max_depth': 38,\n",
    "            'min_samples_leaf': 2,\n",
    "        }\n",
    "        \n",
    "        lr_params = {\n",
    "            'n_jobs': 1,\n",
    "            'solver': 'saga',\n",
    "            'penalty': 'l1',\n",
    "            'C': 0.116,\n",
    "        }\n",
    "        \n",
    "        rf_params = {\n",
    "            'n_jobs': 4,\n",
    "            'n_estimators': 100,\n",
    "            'max_features': 'sqrt',\n",
    "            'max_depth': 24,\n",
    "            'min_samples_leaf': 2,\n",
    "        }\n",
    "        \n",
    "        xgb_params ={\n",
    "            'booster': 'gbtree',\n",
    "            'objective': 'binary:logistic',\n",
    "            'max_depth': 8,\n",
    "            'subsample': 0.6,\n",
    "            'scale_pos_weight': 0.7,\n",
    "            'colsample_bytree': 0.8,\n",
    "            'colsample_bynode': 0.7,\n",
    "            'colsample_bylevel': 0.6,\n",
    "            'eta': 0.1,\n",
    "            'lambda': 10,\n",
    "            'min_child_weight': 1,\n",
    "            'seed': 0,\n",
    "            'nthread': 4,\n",
    "            'silent': 1,\n",
    "            'eval_metric': 'auc',\n",
    "            'missing': MISSING,\n",
    "        }\n",
    "        \n",
    "        cb_params = {\n",
    "            'iterations': 300,\n",
    "            'learning_rate': 0.1,\n",
    "            'depth': 8,\n",
    "            'l2_leaf_reg': 3,\n",
    "            'bootstrap_type': 'Bernoulli',\n",
    "            'subsample': 0.75,\n",
    "            'scale_pos_weight': 5,\n",
    "            'eval_metric': 'AUC',\n",
    "            'od_type': 'Iter',\n",
    "            'logging_level': 'Silent',\n",
    "            'allow_writing_files': False,\n",
    "        }\n",
    "        \n",
    "        lgb_params = {\n",
    "            'boosting_type': 'gbdt',\n",
    "            'objective': 'binary',\n",
    "            'metric': 'auc',\n",
    "            'min_child_weight': 1,\n",
    "            'num_leaves': 2 ** 5,\n",
    "            'lambda_l2': 10,\n",
    "            'subsample': 0.8,\n",
    "            'learning_rate': 0.1,\n",
    "            'seed': 0,\n",
    "            'colsample_bytree': 0.8,\n",
    "            'nthread': 4\n",
    "        }\n",
    "        \n",
    "        \n",
    "        self.params_dic = {}\n",
    "        self.params_dic['et_params'] = et_params\n",
    "        self.params_dic['rf_params'] = rf_params\n",
    "        self.params_dic['xgb_params'] = xgb_params\n",
    "        self.params_dic['cb_params'] = cb_params\n",
    "        self.params_dic['lgb_params'] = lgb_params\n",
    "        self.params_dic['lr_params'] = lr_params\n",
    "\n",
    "    def model_train_predict(self):\n",
    "        '''\n",
    "        ：train the selected models and generate results\n",
    "        '''\n",
    "        self.build_models = {}\n",
    "        self.models_oof_return = {}\n",
    "        for mm in self.models:\n",
    "            if mm == 'et':\n",
    "                self.build_models['et'] = SklearnWrapper(clf=ExtraTreesClassifier, seed=self.seed, params=self.params_dic['et_params'])\n",
    "                et_oof_train, et_oof_test, et_oof_online = self.get_oof(self.build_models['et'])\n",
    "                self.models_oof_return['et'] = [et_oof_train, et_oof_test, et_oof_online]\n",
    "                print ('et-CV AUC is %.5f'%roc_auc_score(self.train_data[self.dep],et_oof_train))\n",
    "            elif mm == 'rf':\n",
    "                self.build_models['rf'] = SklearnWrapper(clf=RandomForestClassifier, seed=self.seed, params=self.params_dic['rf_params'])\n",
    "                rf_oof_train, rf_oof_test, rf_oof_online = self.get_oof(self.build_models['rf'])\n",
    "                self.models_oof_return['rf'] = [rf_oof_train, rf_oof_test, rf_oof_online]\n",
    "                print ('rf-CV AUC is %.5f'%roc_auc_score(self.train_data[self.dep],rf_oof_train))\n",
    "            elif mm == 'cb':\n",
    "                self.build_models['cb'] = CatboostWrapper(clf= CatBoostClassifier, seed=self.seed, params=self.params_dic['cb_params'])\n",
    "                cb_oof_train, cb_oof_test, cb_oof_online = self.get_oof(self.build_models['cb'])\n",
    "                self.models_oof_return['cb'] = [cb_oof_train, cb_oof_test, cb_oof_online]\n",
    "                print ('cb-CV AUC is %.5f'%roc_auc_score(self.train_data[self.dep],cb_oof_train))\n",
    "            elif mm == 'lgb':\n",
    "                self.build_models['lgb'] = LightGBMWrapper(seed=self.seed, params=self.params_dic['lgb_params'])\n",
    "                lgb_oof_train, lgb_oof_test, lgb_oof_online = self.get_oof(self.build_models['lgb'])\n",
    "                self.models_oof_return['lgb'] = [lgb_oof_train, lgb_oof_test, lgb_oof_online]\n",
    "                print ('lgb-CV AUC is %.5f'%roc_auc_score(self.train_data[self.dep],lgb_oof_train))\n",
    "            elif mm == 'xgb':\n",
    "                self.build_models['xgb'] = XgbWrapper(clf=xgb.XGBClassifier, seed=self.seed, params=self.params_dic['xgb_params'])\n",
    "                xgb_oof_train, xgb_oof_test, xcb_oof_online = self.get_oof(self.build_models['xgb'])\n",
    "                self.models_oof_return['xgb'] = [xgb_oof_train, xgb_oof_test, xcb_oof_online]\n",
    "                print ('xgb-CV AUC is %.5f'%roc_auc_score(self.train_data[self.dep],xgb_oof_train))\n",
    "            elif mm == 'lr':\n",
    "                self.build_models['lr'] = SklearnWrapper(clf=LogisticRegression, seed=self.seed, params=self.params_dic['lr_params'])\n",
    "                et_oof_train, et_oof_test, et_oof_online = self.get_oof(self.build_models['lr'])\n",
    "                self.models_oof_return['lr'] = [et_oof_train, et_oof_test, et_oof_online]\n",
    "                print ('lr-CV AUC is %.5f'%roc_auc_score(self.train_data[self.dep],et_oof_train))\n",
    "\n",
    "    def stacking(self):\n",
    "        '''\n",
    "        : train level 2 model and generate final results\n",
    "        '''\n",
    "        self.model_train_predict()\n",
    "\n",
    "        for i in range(len(self.models)):\n",
    "            if i == 0:\n",
    "                x_train = self.models_oof_return[self.models[i]][0]\n",
    "                x_test = self.models_oof_return[self.models[i]][1]\n",
    "                x_online = self.models_oof_return[self.models[i]][2]\n",
    "            else:\n",
    "                x_train = np.concatenate((x_train,self.models_oof_return[self.models[i]][0]), axis=1)\n",
    "                x_test = np.concatenate((x_test,self.models_oof_return[self.models[i]][1]), axis=1)\n",
    "                x_online = np.concatenate((x_online,self.models_oof_return[self.models[i]][2]), axis=1)\n",
    "                \n",
    "        cor = pd.DataFrame(x_train).corr()\n",
    "        sns.heatmap(cor, annot=True, cmap=plt.cm.Reds)\n",
    "        plt.show()\n",
    "        \n",
    "        # use xgb as level 2 model\n",
    "        dtrain = xgb.DMatrix(x_train, label=self.train_data[self.dep])\n",
    "        dtest = xgb.DMatrix(x_test)\n",
    "        donline = xgb.DMatrix(x_online)\n",
    "        \n",
    "        xgb_params = {\n",
    "            'seed': 0,\n",
    "            'colsample_bytree': 0.8,\n",
    "            'silent': 1,\n",
    "            'subsample': 0.8,\n",
    "            'learning_rate': 0.1,\n",
    "            'objective': 'binary:logistic',\n",
    "            'max_depth': 2,\n",
    "            'num_parallel_tree': 1,\n",
    "            'min_child_weight': 1,\n",
    "            'eval_metric': 'auc'\n",
    "        }\n",
    "        \n",
    "        res = xgb.cv(xgb_params, dtrain, num_boost_round=100, nfold=3, seed=self.seed, stratified=False,\n",
    "             early_stopping_rounds=10, verbose_eval=False, show_stdv=True) # use cv to find best # iterations \n",
    "        best_nrounds = res.shape[0]\n",
    "        cv_mean = res.iloc[-1, 0]\n",
    "        cv_std = res.iloc[-1, 1]        \n",
    "        print('Ensemble-CV: {0}+{1}'.format(cv_mean, cv_std)) # cv performance\n",
    "        print(\"Best nrounds: {}\".format(best_nrounds)) # best # boosting iterations\n",
    "        gbdt = xgb.train(xgb_params, dtrain, best_nrounds)\n",
    "        dtest_prob = gbdt.predict(dtest)\n",
    "        donline_prob = gbdt.predict(donline)\n",
    "        print ('Ensemble-test %.5f'%roc_auc_score(self.test_data[self.dep], dtest_prob)) # test performance\n",
    "        return donline_prob, dtest_prob"
   ]
  },
  {
   "cell_type": "code",
   "execution_count": 24,
   "metadata": {},
   "outputs": [
    {
     "name": "stdout",
     "output_type": "stream",
     "text": [
      "rf-CV AUC is 0.88540\n",
      "lr-CV AUC is 0.88035\n",
      "cb-CV AUC is 0.89153\n",
      "xgb-CV AUC is 0.88959\n"
     ]
    },
    {
     "data": {
      "image/png": "[encoded data removed]",
      "text/plain": [
       "<Figure size 432x288 with 2 Axes>"
      ]
     },
     "metadata": {
      "needs_background": "light"
     },
     "output_type": "display_data"
    },
    {
     "name": "stdout",
     "output_type": "stream",
     "text": [
      "Ensemble-CV: 0.8969116666666666+0.0008414060982796683\n",
      "Best nrounds: 43\n",
      "Ensemble-test 0.89405\n"
     ]
    }
   ],
   "source": [
    "ms = ModelStacking(X_train,\n",
    "                   X_test,\n",
    "                   X_online,\n",
    "                   list(X_train.columns[:-1]),\n",
    "                   models = [\n",
    "                       'rf',\n",
    "                       'lr',\n",
    "                       'cb',\n",
    "                       'xgb',\n",
    "                   ],\n",
    "                   dep='satisfied',\n",
    "                   nfolds=6,\n",
    "                   seed=SEED\n",
    "                  )\n",
    "c, t = ms.stacking()\n",
    "# X_train, y_train, X_test, y_test = ms.stacking()"
   ]
  },
  {
   "cell_type": "code",
   "execution_count": 43,
   "metadata": {},
   "outputs": [],
   "source": [
    "res = pd.DataFrame(y_test)\n",
    "res[\"pred\"] = t"
   ]
  },
  {
   "cell_type": "code",
   "execution_count": 48,
   "metadata": {},
   "outputs": [],
   "source": [
    "import seaborn as sns"
   ]
  },
  {
   "cell_type": "code",
   "execution_count": 58,
   "metadata": {},
   "outputs": [
    {
     "data": {
      "image/png": "[encoded data removed]",
      "text/plain": [
       "<Figure size 432x288 with 1 Axes>"
      ]
     },
     "metadata": {
      "needs_background": "light"
     },
     "output_type": "display_data"
    }
   ],
   "source": [
    "pos = res[res[\"satisfied\"].astype(bool).values][\"pred\"]\n",
    "neg = res[~(res[\"satisfied\"].astype(bool).values)][\"pred\"]\n",
    "\n",
    "bins = np.linspace(0, 1, 80)\n",
    "\n",
    "plt.hist(pos, bins, alpha=0.5, label='positive')\n",
    "plt.hist(neg, bins, alpha=0.5, label='negative')\n",
    "plt.legend(loc='upper right')\n",
    "plt.xlabel(\"probability\")\n",
    "plt.ylabel(\"frequency\")\n",
    "plt.show()"
   ]
  },
  {
   "cell_type": "code",
   "execution_count": null,
   "metadata": {},
   "outputs": [],
   "source": []
  }
 ],
 "metadata": {
  "kernelspec": {
   "display_name": "Python 3",
   "language": "python",
   "name": "python3"
  },
  "language_info": {
   "codemirror_mode": {
    "name": "ipython",
    "version": 3
   },
   "file_extension": ".py",
   "mimetype": "text/x-python",
   "name": "python",
   "nbconvert_exporter": "python",
   "pygments_lexer": "ipython3",
   "version": "3.7.6"
  }
 },
 "nbformat": 4,
 "nbformat_minor": 2
}
