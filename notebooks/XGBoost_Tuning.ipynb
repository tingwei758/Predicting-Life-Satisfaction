{
 "cells": [
  {
   "cell_type": "code",
   "execution_count": 1,
   "metadata": {},
   "outputs": [],
   "source": [
    "import pandas as pd\n",
    "import xgboost as xgb\n",
    "from sklearn.model_selection import StratifiedKFold, RandomizedSearchCV, train_test_split\n",
    "from sklearn.metrics import *"
   ]
  },
  {
   "cell_type": "code",
   "execution_count": 2,
   "metadata": {},
   "outputs": [],
   "source": [
    "MISSING = -9999"
   ]
  },
  {
   "cell_type": "code",
   "execution_count": 3,
   "metadata": {},
   "outputs": [],
   "source": [
    "df = pd.read_csv(\"../data/processed/data_encoded.csv\")"
   ]
  },
  {
   "cell_type": "code",
   "execution_count": 4,
   "metadata": {},
   "outputs": [],
   "source": [
    "# df = df.iloc[:13000]"
   ]
  },
  {
   "cell_type": "code",
   "execution_count": 5,
   "metadata": {},
   "outputs": [],
   "source": [
    "# df = df.iloc[13000:]"
   ]
  },
  {
   "cell_type": "code",
   "execution_count": 6,
   "metadata": {},
   "outputs": [],
   "source": [
    "df_train = df[df[\"test\"] == 0].drop(columns=[\"test\"])"
   ]
  },
  {
   "cell_type": "code",
   "execution_count": 7,
   "metadata": {},
   "outputs": [],
   "source": [
    "X = df_train.drop(columns=[\"id\", \"satisfied\"]).values\n",
    "y = df_train[\"satisfied\"].values"
   ]
  },
  {
   "cell_type": "code",
   "execution_count": 8,
   "metadata": {},
   "outputs": [],
   "source": [
    "X_train, X_test, y_train, y_test = train_test_split(X, y, test_size=0.30, random_state=1001)"
   ]
  },
  {
   "cell_type": "code",
   "execution_count": 9,
   "metadata": {},
   "outputs": [
    {
     "data": {
      "text/plain": [
       "(21056, 1563)"
      ]
     },
     "execution_count": 9,
     "metadata": {},
     "output_type": "execute_result"
    }
   ],
   "source": [
    "X_train.shape"
   ]
  },
  {
   "cell_type": "code",
   "execution_count": 10,
   "metadata": {},
   "outputs": [
    {
     "data": {
      "text/plain": [
       "(9024, 1563)"
      ]
     },
     "execution_count": 10,
     "metadata": {},
     "output_type": "execute_result"
    }
   ],
   "source": [
    "X_test.shape"
   ]
  },
  {
   "cell_type": "code",
   "execution_count": 11,
   "metadata": {},
   "outputs": [],
   "source": [
    "model = xgb.XGBClassifier(learning_rate=0.1, \n",
    "                          objective='binary:logistic',\n",
    "                          silent=True, \n",
    "                          missing=MISSING,\n",
    "                          nthread=1)"
   ]
  },
  {
   "cell_type": "code",
   "execution_count": 12,
   "metadata": {},
   "outputs": [
    {
     "data": {
      "text/plain": [
       "XGBClassifier(base_score=0.5, booster='gbtree', colsample_bylevel=1,\n",
       "              colsample_bynode=1, colsample_bytree=1, gamma=0,\n",
       "              learning_rate=0.1, max_delta_step=0, max_depth=3,\n",
       "              min_child_weight=1, missing=-9999, n_estimators=100, n_jobs=1,\n",
       "              nthread=1, objective='binary:logistic', random_state=0,\n",
       "              reg_alpha=0, reg_lambda=1, scale_pos_weight=1, seed=None,\n",
       "              silent=True, subsample=1, verbosity=1)"
      ]
     },
     "execution_count": 12,
     "metadata": {},
     "output_type": "execute_result"
    }
   ],
   "source": [
    "model"
   ]
  },
  {
   "cell_type": "code",
   "execution_count": 13,
   "metadata": {},
   "outputs": [],
   "source": [
    "params = {\n",
    "    'max_depth': [2, 3, 4, 5],\n",
    "    'subsample': [0.25, 0.5, 1.],\n",
    "    'colsample_bytree': [0.5, 1.],\n",
    "    'colsample_bylevel': [0.5, 1.],\n",
    "    'colsample_bynode': [0.5, 1.],\n",
    "    'scale_pos_weight': [0.5, 1., 1.5],\n",
    "}"
   ]
  },
  {
   "cell_type": "code",
   "execution_count": 14,
   "metadata": {},
   "outputs": [],
   "source": [
    "folds = 3\n",
    "param_comb = 300\n",
    "\n",
    "skf = StratifiedKFold(n_splits=folds, shuffle = True, random_state = 1001)\n",
    "\n",
    "random_search = RandomizedSearchCV(model, \n",
    "                                   param_distributions=params, \n",
    "                                   n_iter=param_comb, \n",
    "                                   scoring='roc_auc', \n",
    "                                   n_jobs=-1, \n",
    "                                   cv=skf.split(X_train,y_train), \n",
    "                                   verbose=3, \n",
    "                                   random_state=1001 )"
   ]
  },
  {
   "cell_type": "code",
   "execution_count": 15,
   "metadata": {},
   "outputs": [
    {
     "name": "stdout",
     "output_type": "stream",
     "text": [
      "Fitting 3 folds for each of 288 candidates, totalling 864 fits\n"
     ]
    },
    {
     "name": "stderr",
     "output_type": "stream",
     "text": [
      "/u7/tw4zhang/miniconda3/envs/work/lib/python3.7/site-packages/sklearn/model_selection/_search.py:266: UserWarning: The total space of parameters 288 is smaller than n_iter=300. Running 288 iterations. For exhaustive searches, use GridSearchCV.\n",
      "  % (grid_size, self.n_iter, grid_size), UserWarning)\n",
      "[Parallel(n_jobs=-1)]: Using backend LokyBackend with 64 concurrent workers.\n",
      "[Parallel(n_jobs=-1)]: Done 160 tasks      | elapsed:  1.2min\n",
      "[Parallel(n_jobs=-1)]: Done 384 tasks      | elapsed:  3.2min\n",
      "[Parallel(n_jobs=-1)]: Done 672 tasks      | elapsed:  6.1min\n",
      "[Parallel(n_jobs=-1)]: Done 864 out of 864 | elapsed:  9.8min finished\n"
     ]
    },
    {
     "data": {
      "text/plain": [
       "RandomizedSearchCV(cv=<generator object _BaseKFold.split at 0x7f0d0e192150>,\n",
       "                   error_score='raise-deprecating',\n",
       "                   estimator=XGBClassifier(base_score=0.5, booster='gbtree',\n",
       "                                           colsample_bylevel=1,\n",
       "                                           colsample_bynode=1,\n",
       "                                           colsample_bytree=1, gamma=0,\n",
       "                                           learning_rate=0.1, max_delta_step=0,\n",
       "                                           max_depth=3, min_child_weight=1,\n",
       "                                           missing=-9999, n_estimators=100,\n",
       "                                           n_jobs=1, nthread=1,\n",
       "                                           objectiv...\n",
       "                                           seed=None, silent=True, subsample=1,\n",
       "                                           verbosity=1),\n",
       "                   iid='warn', n_iter=300, n_jobs=-1,\n",
       "                   param_distributions={'colsample_bylevel': [0.5, 1.0],\n",
       "                                        'colsample_bynode': [0.5, 1.0],\n",
       "                                        'colsample_bytree': [0.5, 1.0],\n",
       "                                        'max_depth': [2, 3, 4, 5],\n",
       "                                        'scale_pos_weight': [0.5, 1.0, 1.5],\n",
       "                                        'subsample': [0.25, 0.5, 1.0]},\n",
       "                   pre_dispatch='2*n_jobs', random_state=1001, refit=True,\n",
       "                   return_train_score=False, scoring='roc_auc', verbose=3)"
      ]
     },
     "execution_count": 15,
     "metadata": {},
     "output_type": "execute_result"
    }
   ],
   "source": [
    "random_search.fit(X_train, y_train)"
   ]
  },
  {
   "cell_type": "code",
   "execution_count": 16,
   "metadata": {},
   "outputs": [],
   "source": [
    "df_scores = pd.DataFrame(random_search.cv_results_).sort_values(\"mean_test_score\", ascending=False)"
   ]
  },
  {
   "cell_type": "code",
   "execution_count": 17,
   "metadata": {},
   "outputs": [],
   "source": [
    "df_scores.to_csv(\"../data/result/tuning_scores.csv\", index=False)"
   ]
  },
  {
   "cell_type": "code",
   "execution_count": null,
   "metadata": {},
   "outputs": [],
   "source": [
    "df_scores"
   ]
  },
  {
   "cell_type": "code",
   "execution_count": 18,
   "metadata": {},
   "outputs": [
    {
     "data": {
      "text/plain": [
       "{'subsample': 1.0,\n",
       " 'scale_pos_weight': 1.0,\n",
       " 'max_depth': 5,\n",
       " 'colsample_bytree': 0.5,\n",
       " 'colsample_bynode': 1.0,\n",
       " 'colsample_bylevel': 0.5}"
      ]
     },
     "execution_count": 18,
     "metadata": {},
     "output_type": "execute_result"
    }
   ],
   "source": [
    "random_search.best_params_"
   ]
  },
  {
   "cell_type": "code",
   "execution_count": 19,
   "metadata": {},
   "outputs": [],
   "source": [
    "final_model = random_search.best_estimator_"
   ]
  },
  {
   "cell_type": "code",
   "execution_count": 20,
   "metadata": {},
   "outputs": [],
   "source": [
    "y_pred_train = final_model.predict(X_train)\n",
    "y_prob_train = final_model.predict_proba(X_train)[:,1]"
   ]
  },
  {
   "cell_type": "code",
   "execution_count": 21,
   "metadata": {},
   "outputs": [],
   "source": [
    "y_pred = final_model.predict(X_test)\n",
    "y_prob = final_model.predict_proba(X_test)[:,1]"
   ]
  },
  {
   "cell_type": "code",
   "execution_count": 22,
   "metadata": {},
   "outputs": [
    {
     "data": {
      "text/plain": [
       "(0.8907292697739166, 0.9325559750856212)"
      ]
     },
     "execution_count": 22,
     "metadata": {},
     "output_type": "execute_result"
    }
   ],
   "source": [
    "roc_auc_score(y_test, y_prob), roc_auc_score(y_train, y_prob_train)"
   ]
  },
  {
   "cell_type": "code",
   "execution_count": 4,
   "metadata": {},
   "outputs": [],
   "source": [
    "df_scores = pd.read_csv(\"../data/result/tuning_scores.csv\")"
   ]
  },
  {
   "cell_type": "code",
   "execution_count": 5,
   "metadata": {},
   "outputs": [
    {
     "data": {
      "text/html": [
       "<div>\n",
       "<style scoped>\n",
       "    .dataframe tbody tr th:only-of-type {\n",
       "        vertical-align: middle;\n",
       "    }\n",
       "\n",
       "    .dataframe tbody tr th {\n",
       "        vertical-align: top;\n",
       "    }\n",
       "\n",
       "    .dataframe thead th {\n",
       "        text-align: right;\n",
       "    }\n",
       "</style>\n",
       "<table border=\"1\" class=\"dataframe\">\n",
       "  <thead>\n",
       "    <tr style=\"text-align: right;\">\n",
       "      <th></th>\n",
       "      <th>mean_fit_time</th>\n",
       "      <th>std_fit_time</th>\n",
       "      <th>mean_score_time</th>\n",
       "      <th>std_score_time</th>\n",
       "      <th>param_subsample</th>\n",
       "      <th>param_scale_pos_weight</th>\n",
       "      <th>param_max_depth</th>\n",
       "      <th>param_colsample_bytree</th>\n",
       "      <th>param_colsample_bynode</th>\n",
       "      <th>param_colsample_bylevel</th>\n",
       "      <th>params</th>\n",
       "      <th>split0_test_score</th>\n",
       "      <th>split1_test_score</th>\n",
       "      <th>split2_test_score</th>\n",
       "      <th>mean_test_score</th>\n",
       "      <th>std_test_score</th>\n",
       "      <th>rank_test_score</th>\n",
       "    </tr>\n",
       "  </thead>\n",
       "  <tbody>\n",
       "    <tr>\n",
       "      <th>0</th>\n",
       "      <td>33.390213</td>\n",
       "      <td>0.550079</td>\n",
       "      <td>0.285864</td>\n",
       "      <td>0.048719</td>\n",
       "      <td>1.00</td>\n",
       "      <td>1.0</td>\n",
       "      <td>5</td>\n",
       "      <td>0.5</td>\n",
       "      <td>1.0</td>\n",
       "      <td>0.5</td>\n",
       "      <td>{'subsample': 1.0, 'scale_pos_weight': 1.0, 'm...</td>\n",
       "      <td>0.890578</td>\n",
       "      <td>0.895939</td>\n",
       "      <td>0.897133</td>\n",
       "      <td>0.894550</td>\n",
       "      <td>0.002851</td>\n",
       "      <td>1</td>\n",
       "    </tr>\n",
       "    <tr>\n",
       "      <th>1</th>\n",
       "      <td>35.942610</td>\n",
       "      <td>0.504362</td>\n",
       "      <td>0.279281</td>\n",
       "      <td>0.035230</td>\n",
       "      <td>1.00</td>\n",
       "      <td>1.0</td>\n",
       "      <td>5</td>\n",
       "      <td>0.5</td>\n",
       "      <td>0.5</td>\n",
       "      <td>1.0</td>\n",
       "      <td>{'subsample': 1.0, 'scale_pos_weight': 1.0, 'm...</td>\n",
       "      <td>0.890578</td>\n",
       "      <td>0.895939</td>\n",
       "      <td>0.897133</td>\n",
       "      <td>0.894550</td>\n",
       "      <td>0.002851</td>\n",
       "      <td>1</td>\n",
       "    </tr>\n",
       "    <tr>\n",
       "      <th>2</th>\n",
       "      <td>33.463708</td>\n",
       "      <td>0.607725</td>\n",
       "      <td>0.238096</td>\n",
       "      <td>0.014476</td>\n",
       "      <td>1.00</td>\n",
       "      <td>0.5</td>\n",
       "      <td>5</td>\n",
       "      <td>1.0</td>\n",
       "      <td>0.5</td>\n",
       "      <td>0.5</td>\n",
       "      <td>{'subsample': 1.0, 'scale_pos_weight': 0.5, 'm...</td>\n",
       "      <td>0.890876</td>\n",
       "      <td>0.895600</td>\n",
       "      <td>0.897116</td>\n",
       "      <td>0.894530</td>\n",
       "      <td>0.002657</td>\n",
       "      <td>3</td>\n",
       "    </tr>\n",
       "    <tr>\n",
       "      <th>3</th>\n",
       "      <td>29.643606</td>\n",
       "      <td>0.822510</td>\n",
       "      <td>0.232705</td>\n",
       "      <td>0.003196</td>\n",
       "      <td>1.00</td>\n",
       "      <td>0.5</td>\n",
       "      <td>4</td>\n",
       "      <td>1.0</td>\n",
       "      <td>0.5</td>\n",
       "      <td>0.5</td>\n",
       "      <td>{'subsample': 1.0, 'scale_pos_weight': 0.5, 'm...</td>\n",
       "      <td>0.890249</td>\n",
       "      <td>0.895997</td>\n",
       "      <td>0.897196</td>\n",
       "      <td>0.894480</td>\n",
       "      <td>0.003032</td>\n",
       "      <td>4</td>\n",
       "    </tr>\n",
       "    <tr>\n",
       "      <th>4</th>\n",
       "      <td>21.800600</td>\n",
       "      <td>0.514589</td>\n",
       "      <td>0.424465</td>\n",
       "      <td>0.212107</td>\n",
       "      <td>1.00</td>\n",
       "      <td>1.5</td>\n",
       "      <td>5</td>\n",
       "      <td>0.5</td>\n",
       "      <td>0.5</td>\n",
       "      <td>0.5</td>\n",
       "      <td>{'subsample': 1.0, 'scale_pos_weight': 1.5, 'm...</td>\n",
       "      <td>0.891352</td>\n",
       "      <td>0.896552</td>\n",
       "      <td>0.895527</td>\n",
       "      <td>0.894477</td>\n",
       "      <td>0.002249</td>\n",
       "      <td>5</td>\n",
       "    </tr>\n",
       "    <tr>\n",
       "      <th>...</th>\n",
       "      <td>...</td>\n",
       "      <td>...</td>\n",
       "      <td>...</td>\n",
       "      <td>...</td>\n",
       "      <td>...</td>\n",
       "      <td>...</td>\n",
       "      <td>...</td>\n",
       "      <td>...</td>\n",
       "      <td>...</td>\n",
       "      <td>...</td>\n",
       "      <td>...</td>\n",
       "      <td>...</td>\n",
       "      <td>...</td>\n",
       "      <td>...</td>\n",
       "      <td>...</td>\n",
       "      <td>...</td>\n",
       "      <td>...</td>\n",
       "    </tr>\n",
       "    <tr>\n",
       "      <th>283</th>\n",
       "      <td>52.654004</td>\n",
       "      <td>2.129410</td>\n",
       "      <td>0.477463</td>\n",
       "      <td>0.290068</td>\n",
       "      <td>0.25</td>\n",
       "      <td>1.0</td>\n",
       "      <td>5</td>\n",
       "      <td>1.0</td>\n",
       "      <td>1.0</td>\n",
       "      <td>0.5</td>\n",
       "      <td>{'subsample': 0.25, 'scale_pos_weight': 1.0, '...</td>\n",
       "      <td>0.884359</td>\n",
       "      <td>0.889725</td>\n",
       "      <td>0.889509</td>\n",
       "      <td>0.887864</td>\n",
       "      <td>0.002481</td>\n",
       "      <td>283</td>\n",
       "    </tr>\n",
       "    <tr>\n",
       "      <th>284</th>\n",
       "      <td>76.666680</td>\n",
       "      <td>2.653871</td>\n",
       "      <td>0.163980</td>\n",
       "      <td>0.000524</td>\n",
       "      <td>0.25</td>\n",
       "      <td>1.5</td>\n",
       "      <td>5</td>\n",
       "      <td>1.0</td>\n",
       "      <td>1.0</td>\n",
       "      <td>1.0</td>\n",
       "      <td>{'subsample': 0.25, 'scale_pos_weight': 1.5, '...</td>\n",
       "      <td>0.884026</td>\n",
       "      <td>0.889627</td>\n",
       "      <td>0.889608</td>\n",
       "      <td>0.887754</td>\n",
       "      <td>0.002636</td>\n",
       "      <td>285</td>\n",
       "    </tr>\n",
       "    <tr>\n",
       "      <th>285</th>\n",
       "      <td>53.535069</td>\n",
       "      <td>1.344616</td>\n",
       "      <td>0.263582</td>\n",
       "      <td>0.011414</td>\n",
       "      <td>0.25</td>\n",
       "      <td>1.5</td>\n",
       "      <td>5</td>\n",
       "      <td>1.0</td>\n",
       "      <td>1.0</td>\n",
       "      <td>0.5</td>\n",
       "      <td>{'subsample': 0.25, 'scale_pos_weight': 1.5, '...</td>\n",
       "      <td>0.883275</td>\n",
       "      <td>0.888988</td>\n",
       "      <td>0.889885</td>\n",
       "      <td>0.887382</td>\n",
       "      <td>0.002928</td>\n",
       "      <td>286</td>\n",
       "    </tr>\n",
       "    <tr>\n",
       "      <th>286</th>\n",
       "      <td>52.753235</td>\n",
       "      <td>0.932617</td>\n",
       "      <td>0.287539</td>\n",
       "      <td>0.064486</td>\n",
       "      <td>0.25</td>\n",
       "      <td>1.5</td>\n",
       "      <td>5</td>\n",
       "      <td>1.0</td>\n",
       "      <td>0.5</td>\n",
       "      <td>1.0</td>\n",
       "      <td>{'subsample': 0.25, 'scale_pos_weight': 1.5, '...</td>\n",
       "      <td>0.883275</td>\n",
       "      <td>0.888988</td>\n",
       "      <td>0.889885</td>\n",
       "      <td>0.887382</td>\n",
       "      <td>0.002928</td>\n",
       "      <td>286</td>\n",
       "    </tr>\n",
       "    <tr>\n",
       "      <th>287</th>\n",
       "      <td>83.148641</td>\n",
       "      <td>2.262631</td>\n",
       "      <td>0.176497</td>\n",
       "      <td>0.012527</td>\n",
       "      <td>0.25</td>\n",
       "      <td>1.0</td>\n",
       "      <td>5</td>\n",
       "      <td>1.0</td>\n",
       "      <td>1.0</td>\n",
       "      <td>1.0</td>\n",
       "      <td>{'subsample': 0.25, 'scale_pos_weight': 1.0, '...</td>\n",
       "      <td>0.883661</td>\n",
       "      <td>0.887460</td>\n",
       "      <td>0.888989</td>\n",
       "      <td>0.886703</td>\n",
       "      <td>0.002240</td>\n",
       "      <td>288</td>\n",
       "    </tr>\n",
       "  </tbody>\n",
       "</table>\n",
       "<p>288 rows × 17 columns</p>\n",
       "</div>"
      ],
      "text/plain": [
       "     mean_fit_time  std_fit_time  mean_score_time  std_score_time  \\\n",
       "0        33.390213      0.550079         0.285864        0.048719   \n",
       "1        35.942610      0.504362         0.279281        0.035230   \n",
       "2        33.463708      0.607725         0.238096        0.014476   \n",
       "3        29.643606      0.822510         0.232705        0.003196   \n",
       "4        21.800600      0.514589         0.424465        0.212107   \n",
       "..             ...           ...              ...             ...   \n",
       "283      52.654004      2.129410         0.477463        0.290068   \n",
       "284      76.666680      2.653871         0.163980        0.000524   \n",
       "285      53.535069      1.344616         0.263582        0.011414   \n",
       "286      52.753235      0.932617         0.287539        0.064486   \n",
       "287      83.148641      2.262631         0.176497        0.012527   \n",
       "\n",
       "     param_subsample  param_scale_pos_weight  param_max_depth  \\\n",
       "0               1.00                     1.0                5   \n",
       "1               1.00                     1.0                5   \n",
       "2               1.00                     0.5                5   \n",
       "3               1.00                     0.5                4   \n",
       "4               1.00                     1.5                5   \n",
       "..               ...                     ...              ...   \n",
       "283             0.25                     1.0                5   \n",
       "284             0.25                     1.5                5   \n",
       "285             0.25                     1.5                5   \n",
       "286             0.25                     1.5                5   \n",
       "287             0.25                     1.0                5   \n",
       "\n",
       "     param_colsample_bytree  param_colsample_bynode  param_colsample_bylevel  \\\n",
       "0                       0.5                     1.0                      0.5   \n",
       "1                       0.5                     0.5                      1.0   \n",
       "2                       1.0                     0.5                      0.5   \n",
       "3                       1.0                     0.5                      0.5   \n",
       "4                       0.5                     0.5                      0.5   \n",
       "..                      ...                     ...                      ...   \n",
       "283                     1.0                     1.0                      0.5   \n",
       "284                     1.0                     1.0                      1.0   \n",
       "285                     1.0                     1.0                      0.5   \n",
       "286                     1.0                     0.5                      1.0   \n",
       "287                     1.0                     1.0                      1.0   \n",
       "\n",
       "                                                params  split0_test_score  \\\n",
       "0    {'subsample': 1.0, 'scale_pos_weight': 1.0, 'm...           0.890578   \n",
       "1    {'subsample': 1.0, 'scale_pos_weight': 1.0, 'm...           0.890578   \n",
       "2    {'subsample': 1.0, 'scale_pos_weight': 0.5, 'm...           0.890876   \n",
       "3    {'subsample': 1.0, 'scale_pos_weight': 0.5, 'm...           0.890249   \n",
       "4    {'subsample': 1.0, 'scale_pos_weight': 1.5, 'm...           0.891352   \n",
       "..                                                 ...                ...   \n",
       "283  {'subsample': 0.25, 'scale_pos_weight': 1.0, '...           0.884359   \n",
       "284  {'subsample': 0.25, 'scale_pos_weight': 1.5, '...           0.884026   \n",
       "285  {'subsample': 0.25, 'scale_pos_weight': 1.5, '...           0.883275   \n",
       "286  {'subsample': 0.25, 'scale_pos_weight': 1.5, '...           0.883275   \n",
       "287  {'subsample': 0.25, 'scale_pos_weight': 1.0, '...           0.883661   \n",
       "\n",
       "     split1_test_score  split2_test_score  mean_test_score  std_test_score  \\\n",
       "0             0.895939           0.897133         0.894550        0.002851   \n",
       "1             0.895939           0.897133         0.894550        0.002851   \n",
       "2             0.895600           0.897116         0.894530        0.002657   \n",
       "3             0.895997           0.897196         0.894480        0.003032   \n",
       "4             0.896552           0.895527         0.894477        0.002249   \n",
       "..                 ...                ...              ...             ...   \n",
       "283           0.889725           0.889509         0.887864        0.002481   \n",
       "284           0.889627           0.889608         0.887754        0.002636   \n",
       "285           0.888988           0.889885         0.887382        0.002928   \n",
       "286           0.888988           0.889885         0.887382        0.002928   \n",
       "287           0.887460           0.888989         0.886703        0.002240   \n",
       "\n",
       "     rank_test_score  \n",
       "0                  1  \n",
       "1                  1  \n",
       "2                  3  \n",
       "3                  4  \n",
       "4                  5  \n",
       "..               ...  \n",
       "283              283  \n",
       "284              285  \n",
       "285              286  \n",
       "286              286  \n",
       "287              288  \n",
       "\n",
       "[288 rows x 17 columns]"
      ]
     },
     "execution_count": 5,
     "metadata": {},
     "output_type": "execute_result"
    }
   ],
   "source": [
    "df_scores"
   ]
  },
  {
   "cell_type": "code",
   "execution_count": null,
   "metadata": {},
   "outputs": [],
   "source": []
  },
  {
   "cell_type": "code",
   "execution_count": 45,
   "metadata": {},
   "outputs": [],
   "source": [
    "params = {\"max_depth\": 6}"
   ]
  },
  {
   "cell_type": "code",
   "execution_count": 46,
   "metadata": {},
   "outputs": [],
   "source": [
    "final_model = xgb.XGBClassifier(\n",
    "    learning_rate=0.1,\n",
    "    objective='binary:logistic',\n",
    "    silent=True, \n",
    "    missing=MISSING,\n",
    "    nthread=8,\n",
    "    **params\n",
    "    )"
   ]
  },
  {
   "cell_type": "code",
   "execution_count": 47,
   "metadata": {},
   "outputs": [
    {
     "data": {
      "text/plain": [
       "XGBClassifier(base_score=0.5, booster='gbtree', colsample_bylevel=1,\n",
       "              colsample_bynode=1, colsample_bytree=1, gamma=0,\n",
       "              learning_rate=0.1, max_delta_step=0, max_depth=6,\n",
       "              min_child_weight=1, missing=-9999, n_estimators=100, n_jobs=1,\n",
       "              nthread=8, objective='binary:logistic', random_state=0,\n",
       "              reg_alpha=0, reg_lambda=1, scale_pos_weight=1, seed=None,\n",
       "              silent=True, subsample=1, verbosity=1)"
      ]
     },
     "execution_count": 47,
     "metadata": {},
     "output_type": "execute_result"
    }
   ],
   "source": [
    "final_model.fit(X_train, y_train)"
   ]
  },
  {
   "cell_type": "code",
   "execution_count": 48,
   "metadata": {},
   "outputs": [],
   "source": [
    "y_pred_train = final_model.predict(X_train)\n",
    "y_prob_train = final_model.predict_proba(X_train)[:,1]"
   ]
  },
  {
   "cell_type": "code",
   "execution_count": 49,
   "metadata": {},
   "outputs": [],
   "source": [
    "y_pred = final_model.predict(X_test)\n",
    "y_prob = final_model.predict_proba(X_test)[:,1]"
   ]
  },
  {
   "cell_type": "code",
   "execution_count": 50,
   "metadata": {},
   "outputs": [
    {
     "data": {
      "text/plain": [
       "(0.8879432548687523, 0.950724064047026)"
      ]
     },
     "execution_count": 50,
     "metadata": {},
     "output_type": "execute_result"
    }
   ],
   "source": [
    "roc_auc_score(y_test, y_prob), roc_auc_score(y_train, y_prob_train)"
   ]
  },
  {
   "cell_type": "code",
   "execution_count": 23,
   "metadata": {},
   "outputs": [
    {
     "data": {
      "text/plain": [
       "0.8833639755978565"
      ]
     },
     "execution_count": 23,
     "metadata": {},
     "output_type": "execute_result"
    }
   ],
   "source": [
    "0.8833639755978565 # baseline (fill missing)"
   ]
  },
  {
   "cell_type": "code",
   "execution_count": 24,
   "metadata": {},
   "outputs": [
    {
     "data": {
      "text/plain": [
       "0.8839356100336466"
      ]
     },
     "execution_count": 24,
     "metadata": {},
     "output_type": "execute_result"
    }
   ],
   "source": [
    "0.8839356100336466 # categorical variable"
   ]
  },
  {
   "cell_type": "code",
   "execution_count": 25,
   "metadata": {},
   "outputs": [
    {
     "data": {
      "text/plain": [
       "0.8839356100336466"
      ]
     },
     "execution_count": 25,
     "metadata": {},
     "output_type": "execute_result"
    }
   ],
   "source": [
    "0.8839356100336466 # type of missing using one-hot + indicator of missing"
   ]
  },
  {
   "cell_type": "code",
   "execution_count": 26,
   "metadata": {},
   "outputs": [
    {
     "data": {
      "text/plain": [
       "v98         0.267800\n",
       "v79         0.100945\n",
       "v101        0.046722\n",
       "v224        0.040056\n",
       "v223        0.028993\n",
       "              ...   \n",
       "v154_MON    0.000000\n",
       "v154_NAP    0.000000\n",
       "v154_NEP    0.000000\n",
       "v154_NOR    0.000000\n",
       "v1          0.000000\n",
       "Length: 1507, dtype: float32"
      ]
     },
     "execution_count": 26,
     "metadata": {},
     "output_type": "execute_result"
    }
   ],
   "source": [
    "pd.Series(final_model.feature_importances_, index=df.drop(columns=[\"id\", \"satisfied\"]).columns).sort_values(ascending=False)"
   ]
  },
  {
   "cell_type": "code",
   "execution_count": null,
   "metadata": {},
   "outputs": [],
   "source": []
  },
  {
   "cell_type": "code",
   "execution_count": null,
   "metadata": {},
   "outputs": [],
   "source": []
  }
 ],
 "metadata": {
  "kernelspec": {
   "display_name": "Python 3",
   "language": "python",
   "name": "python3"
  },
  "language_info": {
   "codemirror_mode": {
    "name": "ipython",
    "version": 3
   },
   "file_extension": ".py",
   "mimetype": "text/x-python",
   "name": "python",
   "nbconvert_exporter": "python",
   "pygments_lexer": "ipython3",
   "version": "3.7.6"
  }
 },
 "nbformat": 4,
 "nbformat_minor": 2
}
