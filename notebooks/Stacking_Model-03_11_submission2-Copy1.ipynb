{
 "cells": [
  {
   "cell_type": "code",
   "execution_count": 25,
   "metadata": {},
   "outputs": [],
   "source": [
    "import pandas as pd\n",
    "import numpy as np\n",
    "from matplotlib import pyplot as plt\n",
    "import seaborn as sns\n",
    "import xgboost as xgb\n",
    "from sklearn.model_selection import StratifiedKFold, RandomizedSearchCV, GridSearchCV,train_test_split\n",
    "from sklearn.metrics import *\n",
    "from sklearn.impute import SimpleImputer"
   ]
  },
  {
   "cell_type": "code",
   "execution_count": 26,
   "metadata": {},
   "outputs": [],
   "source": [
    "#from scipy.stats import skew\n",
    "from sklearn.ensemble import ExtraTreesClassifier\n",
    "from sklearn.ensemble import RandomForestClassifier\n",
    "#from sklearn.metrics import mean_squared_error\n",
    "#from math import sqrt\n",
    "from sklearn.model_selection import KFold\n",
    "from catboost import CatBoostClassifier\n",
    "#from lightgbm import LGBMClassifier\n",
    "# import lightgbm as lgb\n",
    "from sklearn.linear_model import LogisticRegression\n",
    "from sklearn.svm import SVC, LinearSVC, NuSVC"
   ]
  },
  {
   "cell_type": "code",
   "execution_count": 27,
   "metadata": {},
   "outputs": [],
   "source": [
    "MISSING = -9999"
   ]
  },
  {
   "cell_type": "code",
   "execution_count": 28,
   "metadata": {},
   "outputs": [],
   "source": [
    "SEED = 123321"
   ]
  },
  {
   "cell_type": "code",
   "execution_count": 29,
   "metadata": {},
   "outputs": [],
   "source": [
    "df = pd.read_csv(\"../data/processed/data_encoded_stacking.csv\")"
   ]
  },
  {
   "cell_type": "code",
   "execution_count": 30,
   "metadata": {},
   "outputs": [
    {
     "data": {
      "text/plain": [
       "(39325, 303)"
      ]
     },
     "execution_count": 30,
     "metadata": {},
     "output_type": "execute_result"
    }
   ],
   "source": [
    "df.shape"
   ]
  },
  {
   "cell_type": "code",
   "execution_count": null,
   "metadata": {},
   "outputs": [],
   "source": []
  },
  {
   "cell_type": "code",
   "execution_count": null,
   "metadata": {},
   "outputs": [],
   "source": []
  },
  {
   "cell_type": "code",
   "execution_count": 31,
   "metadata": {},
   "outputs": [],
   "source": [
    "df_train = df[df[\"test\"] == 0].drop(columns=[\"test\"]).set_index(\"id\")\n",
    "df_test = df[df[\"test\"] == 1].drop(columns=[\"test\"]).set_index(\"id\")"
   ]
  },
  {
   "cell_type": "code",
   "execution_count": 32,
   "metadata": {},
   "outputs": [],
   "source": [
    "X = df_train.drop(columns=[\"satisfied\"])\n",
    "y = df_train[\"satisfied\"]"
   ]
  },
  {
   "cell_type": "code",
   "execution_count": 33,
   "metadata": {},
   "outputs": [],
   "source": [
    "X_train, X_test, y_train, y_test = train_test_split(X, y, test_size=0.30, random_state=SEED)"
   ]
  },
  {
   "cell_type": "code",
   "execution_count": 34,
   "metadata": {},
   "outputs": [
    {
     "name": "stderr",
     "output_type": "stream",
     "text": [
      "/Users/tingwei758/opt/anaconda3/envs/kaggle/lib/python3.7/site-packages/ipykernel_launcher.py:1: SettingWithCopyWarning: \n",
      "A value is trying to be set on a copy of a slice from a DataFrame.\n",
      "Try using .loc[row_indexer,col_indexer] = value instead\n",
      "\n",
      "See the caveats in the documentation: https://pandas.pydata.org/pandas-docs/stable/user_guide/indexing.html#returning-a-view-versus-a-copy\n",
      "  \"\"\"Entry point for launching an IPython kernel.\n"
     ]
    }
   ],
   "source": [
    "X_train[\"satisfied\"] = y_train"
   ]
  },
  {
   "cell_type": "code",
   "execution_count": 35,
   "metadata": {},
   "outputs": [
    {
     "name": "stderr",
     "output_type": "stream",
     "text": [
      "/Users/tingwei758/opt/anaconda3/envs/kaggle/lib/python3.7/site-packages/ipykernel_launcher.py:1: SettingWithCopyWarning: \n",
      "A value is trying to be set on a copy of a slice from a DataFrame.\n",
      "Try using .loc[row_indexer,col_indexer] = value instead\n",
      "\n",
      "See the caveats in the documentation: https://pandas.pydata.org/pandas-docs/stable/user_guide/indexing.html#returning-a-view-versus-a-copy\n",
      "  \"\"\"Entry point for launching an IPython kernel.\n"
     ]
    }
   ],
   "source": [
    "X_test[\"satisfied\"] = y_test"
   ]
  },
  {
   "cell_type": "code",
   "execution_count": 36,
   "metadata": {},
   "outputs": [],
   "source": [
    "X_final = df_test.drop(columns=[\"satisfied\"])"
   ]
  },
  {
   "cell_type": "code",
   "execution_count": 37,
   "metadata": {},
   "outputs": [],
   "source": [
    "X_train = X_train.reset_index(drop=True)\n",
    "X_test = X_test.reset_index(drop=True)\n",
    "X_final = X_final.reset_index(drop=True)"
   ]
  },
  {
   "cell_type": "code",
   "execution_count": 38,
   "metadata": {},
   "outputs": [
    {
     "data": {
      "text/plain": [
       "(21056, 301)"
      ]
     },
     "execution_count": 38,
     "metadata": {},
     "output_type": "execute_result"
    }
   ],
   "source": [
    "X_train.shape"
   ]
  },
  {
   "cell_type": "code",
   "execution_count": 39,
   "metadata": {},
   "outputs": [
    {
     "data": {
      "text/plain": [
       "(9024, 301)"
      ]
     },
     "execution_count": 39,
     "metadata": {},
     "output_type": "execute_result"
    }
   ],
   "source": [
    "X_test.shape"
   ]
  },
  {
   "cell_type": "code",
   "execution_count": 40,
   "metadata": {},
   "outputs": [
    {
     "data": {
      "text/plain": [
       "(9245, 300)"
      ]
     },
     "execution_count": 40,
     "metadata": {},
     "output_type": "execute_result"
    }
   ],
   "source": [
    "X_final.shape"
   ]
  },
  {
   "cell_type": "code",
   "execution_count": null,
   "metadata": {},
   "outputs": [],
   "source": []
  },
  {
   "cell_type": "code",
   "execution_count": 41,
   "metadata": {},
   "outputs": [],
   "source": [
    "class SklearnWrapper(object):\n",
    "    def __init__(self, clf, seed=0, params=None):\n",
    "        params['random_state'] = seed\n",
    "        self.clf = clf(**params)\n",
    "\n",
    "    def train(self, x_train, y_train):\n",
    "        imp = SimpleImputer(missing_values=MISSING, strategy='constant', fill_value=0)\n",
    "        x_train = imp.fit_transform(x_train)\n",
    "        self.clf.fit(x_train, y_train)\n",
    "\n",
    "    def predict(self, x):\n",
    "        imp = SimpleImputer(missing_values=MISSING, strategy='constant', fill_value=0)\n",
    "        x = imp.fit_transform(x)\n",
    "        return self.clf.predict_proba(x)[:,1]"
   ]
  },
  {
   "cell_type": "code",
   "execution_count": 42,
   "metadata": {},
   "outputs": [],
   "source": [
    "class CatboostWrapper(object):\n",
    "    def __init__(self, clf, seed=0, params=None):\n",
    "        params['random_seed'] = seed\n",
    "        self.clf = clf(**params)\n",
    "\n",
    "    def train(self, x_train, y_train):\n",
    "        self.clf.fit(x_train, y_train)\n",
    "\n",
    "    def predict(self, x):\n",
    "        return self.clf.predict_proba(x)[:,1]"
   ]
  },
  {
   "cell_type": "code",
   "execution_count": 43,
   "metadata": {},
   "outputs": [],
   "source": [
    "class XgbWrapper(object):\n",
    "    def __init__(self, clf, seed=0, params=None):\n",
    "        params['random_state'] = seed\n",
    "        self.clf = clf(**params)\n",
    "\n",
    "    def train(self, x_train, y_train):\n",
    "        self.clf.fit(x_train, y_train)\n",
    "\n",
    "    def predict(self, x):\n",
    "        return self.clf.predict_proba(x)[:,1]"
   ]
  },
  {
   "cell_type": "code",
   "execution_count": 44,
   "metadata": {},
   "outputs": [],
   "source": [
    "# class XgbWrapper(object):\n",
    "#     def __init__(self, seed=0, params=None):\n",
    "#         self.param = params\n",
    "#         self.param['seed'] = seed\n",
    "#         self.nrounds = params.pop('nrounds', 250)\n",
    "\n",
    "#     def train(self, x_train, y_train):\n",
    "#         dtrain = xgb.DMatrix(x_train, label=y_train)\n",
    "#         res = xgb.cv(self.param, dtrain, num_boost_round=250, nfold=3, stratified=True,\n",
    "#              early_stopping_rounds=25, verbose_eval=False, show_stdv=True) #cv寻找较优的迭代次数\n",
    "#         self.nrounds = res.shape[0]\n",
    "#         #print (res)\n",
    "#         self.gbdt = xgb.train(self.param, dtrain, self.nrounds)\n",
    "\n",
    "#     def predict(self, x):\n",
    "#         return self.gbdt.predict(xgb.DMatrix(x))"
   ]
  },
  {
   "cell_type": "code",
   "execution_count": 45,
   "metadata": {},
   "outputs": [],
   "source": [
    "class LightGBMWrapper(object):\n",
    "    def __init__(self, seed=0, params=None):\n",
    "        params['seed'] = seed\n",
    "        self.params = params\n",
    "\n",
    "    def train(self, x_train, y_train):\n",
    "        dtrain = lgb.Dataset(x_train,label=y_train)\n",
    "        bst = lgb.cv(self.params, dtrain, num_boost_round=1000, nfold=3, early_stopping_rounds=30) #cv寻找较优的迭代次数\n",
    "        self.lgbc = lgb.train(self.params,dtrain,num_boost_round=len(bst['auc-mean']))\n",
    "\n",
    "    def predict(self, x):\n",
    "        return self.lgbc.predict(np.array(x))"
   ]
  },
  {
   "cell_type": "code",
   "execution_count": 46,
   "metadata": {},
   "outputs": [],
   "source": [
    "class ModelStacking():\n",
    "    def __init__(self, train_data, test_data, online_data, predictors, models=['et','rf','xgb','cb','lgb'], dep='y',nfolds=5, seed=0):\n",
    "        '''\n",
    "        train_data: DataFrame, 训练集;\n",
    "        test_data: DataFrame, 测试集;\n",
    "        online_data: DataFrame, 待预测样本;\n",
    "        predictors：list or array, 待训练变量名;\n",
    "        models: list, 模型名称;\n",
    "        dep: str, y值;\n",
    "        nfolds: int, stacking的折数;\n",
    "        seed: int, 随机种子;\n",
    "        '''\n",
    "        self.train_data = train_data #训练集\n",
    "        self.test_data = test_data #测试集（带label)\n",
    "        self.online_data = online_data #需要预测的数据集（label未知）\n",
    "        self.dep = dep #y的标签名称\n",
    "        self.nfolds = nfolds #k折\n",
    "        self.predictors = predictors #待训练的变量名称list\n",
    "        self.seed = seed #随机种子\n",
    "        self.ntrain = self.train_data.shape[0]\n",
    "        self.ntest = self.test_data.shape[0]\n",
    "        self.nonline = self.online_data.shape[0]\n",
    "        self.models = models #模型名称list\n",
    "        \n",
    "        self.params_list() #初始化各模型的参数\n",
    "\n",
    "    def get_oof(self,clf):\n",
    "        '''\n",
    "        clf: model wrapper object;\n",
    "        :产生下一层训练的变量;\n",
    "        '''\n",
    "        kf = KFold(n_splits = self.nfolds, shuffle=True, random_state=0)\n",
    "        oof_train = np.zeros((self.ntrain,)) #生成训练集预测结果的容器\n",
    "        oof_test = np.zeros((self.ntest,)) #生成测试集预测结果的容器\n",
    "        oof_online = np.zeros((self.nonline,)) #生成待预测集预测结果的容器\n",
    "        oof_test_skf = np.empty((self.nfolds, self.ntest)) #生成测试集多折预测结果的容器\n",
    "        oof_online_skf = np.empty((self.nfolds, self.nonline)) #生成待预测集集多折预测结果的容器\n",
    "    \n",
    "        for i, (train_index, test_index) in enumerate(kf.split(self.train_data)):\n",
    "            x_tr = self.train_data.loc[train_index,self.predictors]\n",
    "            y_tr = self.train_data[self.dep].loc[train_index]\n",
    "            x_te = self.train_data.loc[test_index,self.predictors]\n",
    "    \n",
    "            clf.train(x_tr, y_tr) #折数训练\n",
    "\n",
    "            oof_train[test_index] = clf.predict(x_te) #第i折中训练预测结果保存\n",
    "            \n",
    "            oof_test_skf[i, :] = clf.predict(self.test_data[self.predictors]) #预测测试集\n",
    "            \n",
    "            oof_online_skf[i,:] = clf.predict(self.online_data[self.predictors]) #预测待预测集\n",
    "    \n",
    "        oof_test[:] = oof_test_skf.mean(axis=0) #取平均\n",
    "        oof_online[:] = oof_online_skf.mean(axis=0) #取平均\n",
    "        return oof_train.reshape(-1, 1), oof_test.reshape(-1, 1), oof_online.reshape(-1, 1)\n",
    "\n",
    "    def params_list(self):\n",
    "        '''\n",
    "        : 初始化模型参数\n",
    "        '''\n",
    "        et_params = {\n",
    "            'n_jobs': 4,\n",
    "            'n_estimators': 300,\n",
    "            'max_features': 'sqrt',\n",
    "            'max_depth': 38,\n",
    "            'min_samples_leaf': 2,\n",
    "        }\n",
    "        \n",
    "        lr_params = {\n",
    "            'n_jobs': 1,\n",
    "            'solver': 'saga',\n",
    "            'penalty': 'l1',\n",
    "            'C': 0.07,\n",
    "        }\n",
    "        \n",
    "        rf_params = {\n",
    "            'n_jobs': 4,\n",
    "            'n_estimators': 100,\n",
    "            'max_features': 'sqrt',\n",
    "            'max_depth': 24,\n",
    "            'min_samples_leaf': 2,\n",
    "        }\n",
    "        \n",
    "        xgb_params ={\n",
    "            'booster': 'gbtree',\n",
    "            'objective': 'binary:logistic',\n",
    "            'max_depth': 4,\n",
    "            'subsample': 1.0,\n",
    "            'scale_pos_weight': 0.9,\n",
    "            'colsample_bytree': 0.5,\n",
    "            'colsample_bynode': 1.0,\n",
    "            'colsample_bylevel': 0.5,\n",
    "            'eta': 0.1,\n",
    "            'lambda': 10,\n",
    "            'min_child_weight': 1,\n",
    "            'seed': 0,\n",
    "            'nthread': 4,\n",
    "            'silent': 1,\n",
    "            'eval_metric': 'auc',\n",
    "            'missing': MISSING,\n",
    "        }\n",
    "        \n",
    "        cb_params = {\n",
    "            'iterations': 300,\n",
    "            'learning_rate': 0.1,\n",
    "            'depth': 2,\n",
    "            'l2_leaf_reg': 8,\n",
    "            'bootstrap_type': 'Bernoulli',\n",
    "            'subsample': 0.7,\n",
    "            'scale_pos_weight': 5,\n",
    "            'eval_metric': 'AUC',\n",
    "            'od_type': 'Iter',\n",
    "            'logging_level': 'Silent',\n",
    "            'allow_writing_files': False,\n",
    "        }\n",
    "        \n",
    "#         cb_params = {\n",
    "#             'iterations': 30,\n",
    "#             'learning_rate': 0.5,\n",
    "#             'depth': 3,\n",
    "#             'l2_leaf_reg': 40,\n",
    "#             'bootstrap_type': 'Bernoulli',\n",
    "#             'subsample': 0.7,\n",
    "#             'scale_pos_weight': 5,\n",
    "#             'eval_metric': 'AUC',\n",
    "#             'od_type': 'Iter',\n",
    "#             'allow_writing_files': False\n",
    "#         }\n",
    "        \n",
    "        lgb_params = {\n",
    "            'boosting_type': 'gbdt',\n",
    "            'objective': 'binary',\n",
    "            'metric': 'auc',\n",
    "            'min_child_weight': 1,\n",
    "            'num_leaves': 2 ** 5,\n",
    "            'lambda_l2': 10,\n",
    "            'subsample': 0.8,\n",
    "            'learning_rate': 0.1,\n",
    "            'seed': 0,\n",
    "            'colsample_bytree': 0.8,\n",
    "            'nthread': 4\n",
    "        }\n",
    "        \n",
    "        self.params_dic = {}\n",
    "        self.params_dic['et_params'] = et_params\n",
    "        self.params_dic['rf_params'] = rf_params\n",
    "        self.params_dic['xgb_params'] = xgb_params\n",
    "        self.params_dic['cb_params'] = cb_params\n",
    "        self.params_dic['lgb_params'] = lgb_params\n",
    "        self.params_dic['lr_params'] = lr_params\n",
    "\n",
    "    def model_train_predict(self):\n",
    "        '''\n",
    "        ：针对选定的模型进行训练，并针对每个数据集产生预测结果\n",
    "        '''\n",
    "        self.build_models = {}\n",
    "        self.models_oof_return = {}\n",
    "        for mm in self.models:\n",
    "            if mm == 'et':\n",
    "                self.build_models['et'] = SklearnWrapper(clf=ExtraTreesClassifier, seed=self.seed, params=self.params_dic['et_params'])\n",
    "                et_oof_train, et_oof_test, et_oof_online = self.get_oof(self.build_models['et'])\n",
    "                self.models_oof_return['et'] = [et_oof_train, et_oof_test, et_oof_online]\n",
    "                print ('et-CV AUC is %.5f'%roc_auc_score(self.train_data[self.dep],et_oof_train))\n",
    "            elif mm == 'rf':\n",
    "                self.build_models['rf'] = SklearnWrapper(clf=RandomForestClassifier, seed=self.seed, params=self.params_dic['rf_params'])\n",
    "                rf_oof_train, rf_oof_test, rf_oof_online = self.get_oof(self.build_models['rf'])\n",
    "                self.models_oof_return['rf'] = [rf_oof_train, rf_oof_test, rf_oof_online]\n",
    "                print ('rf-CV AUC is %.5f'%roc_auc_score(self.train_data[self.dep],rf_oof_train))\n",
    "            elif mm == 'cb':\n",
    "                self.build_models['cb'] = CatboostWrapper(clf= CatBoostClassifier, seed=self.seed, params=self.params_dic['cb_params'])\n",
    "                cb_oof_train, cb_oof_test, cb_oof_online = self.get_oof(self.build_models['cb'])\n",
    "                self.models_oof_return['cb'] = [cb_oof_train, cb_oof_test, cb_oof_online]\n",
    "                print ('cb-CV AUC is %.5f'%roc_auc_score(self.train_data[self.dep],cb_oof_train))\n",
    "            elif mm == 'lgb':\n",
    "                self.build_models['lgb'] = LightGBMWrapper(seed=self.seed, params=self.params_dic['lgb_params'])\n",
    "                lgb_oof_train, lgb_oof_test, lgb_oof_online = self.get_oof(self.build_models['lgb'])\n",
    "                self.models_oof_return['lgb'] = [lgb_oof_train, lgb_oof_test, lgb_oof_online]\n",
    "                print ('lgb-CV AUC is %.5f'%roc_auc_score(self.train_data[self.dep],lgb_oof_train))\n",
    "            elif mm == 'xgb':\n",
    "                self.build_models['xgb'] = XgbWrapper(clf=xgb.XGBClassifier, seed=self.seed, params=self.params_dic['xgb_params'])\n",
    "#                 self.build_models['xgb'] = XgbWrapper(seed=self.seed, params=self.params_dic['xgb_params'])\n",
    "                xgb_oof_train, xgb_oof_test, xcb_oof_online = self.get_oof(self.build_models['xgb'])\n",
    "                self.models_oof_return['xgb'] = [xgb_oof_train, xgb_oof_test, xcb_oof_online]\n",
    "                print ('xgb-CV AUC is %.5f'%roc_auc_score(self.train_data[self.dep],xgb_oof_train))\n",
    "            elif mm == 'lr':\n",
    "                self.build_models['lr'] = SklearnWrapper(clf=LogisticRegression, seed=self.seed, params=self.params_dic['lr_params'])\n",
    "                et_oof_train, et_oof_test, et_oof_online = self.get_oof(self.build_models['lr'])\n",
    "                self.models_oof_return['lr'] = [et_oof_train, et_oof_test, et_oof_online]\n",
    "                print ('lr-CV AUC is %.5f'%roc_auc_score(self.train_data[self.dep],et_oof_train))\n",
    "\n",
    "    def stacking(self):\n",
    "        '''\n",
    "        : 针对上一层产出的结果再次训练，并产生待预测样本的预测概率结果;\n",
    "        '''\n",
    "        self.model_train_predict() #训练并预测\n",
    "        #组合上面每个模型的预测结果\n",
    "        for i in range(len(self.models)):\n",
    "            if i == 0:\n",
    "                x_train = self.models_oof_return[self.models[i]][0]\n",
    "                x_test = self.models_oof_return[self.models[i]][1]\n",
    "                x_online = self.models_oof_return[self.models[i]][2]\n",
    "            else:\n",
    "                x_train = np.concatenate((x_train,self.models_oof_return[self.models[i]][0]), axis=1)\n",
    "                x_test = np.concatenate((x_test,self.models_oof_return[self.models[i]][1]), axis=1)\n",
    "                x_online = np.concatenate((x_online,self.models_oof_return[self.models[i]][2]), axis=1)\n",
    "                \n",
    "        cor = pd.DataFrame(x_test).corr()\n",
    "        sns.heatmap(cor, annot=True, cmap=plt.cm.Reds)\n",
    "        plt.show()\n",
    "        \n",
    "#         return x_train, self.train_data[self.dep], x_test, self.test_data[self.dep]\n",
    "        \n",
    "        #用xgb作为最终的分类器\n",
    "        dtrain = xgb.DMatrix(x_train, label=self.train_data[self.dep])\n",
    "        dtest = xgb.DMatrix(x_test)\n",
    "        donline = xgb.DMatrix(x_online)\n",
    "                \n",
    "#         xgb_params = {\n",
    "#             'seed': 0,\n",
    "#             'colsample_bytree': 0.8,\n",
    "#             'silent': 1,\n",
    "#             'subsample': 0.8,\n",
    "#             'learning_rate': 0.1,\n",
    "#             'objective': 'binary:logistic',\n",
    "#             'max_depth': 2,\n",
    "#             'num_parallel_tree': 1,\n",
    "#             'min_child_weight': 1,\n",
    "#             'eval_metric': 'auc'\n",
    "#         }\n",
    "        \n",
    "        \n",
    "        xgb_params = {\n",
    "            'seed': 0,\n",
    "            'colsample_bytree': 0.8,\n",
    "            'silent': 1,\n",
    "            'subsample': 0.8,\n",
    "            'learning_rate': 0.1,\n",
    "            'objective': 'binary:logistic',\n",
    "            'max_depth': 4,\n",
    "            'num_parallel_tree': 1,\n",
    "            'min_child_weight': 1,\n",
    "            'eval_metric': 'auc'\n",
    "        }\n",
    "        \n",
    "        res = xgb.cv(xgb_params, dtrain, num_boost_round=10, nfold=3, seed=self.seed, stratified=False,\n",
    "             early_stopping_rounds=25, verbose_eval=False, show_stdv=True) #cv寻找合适的迭代次数\n",
    "        best_nrounds = res.shape[0] - 3\n",
    "        cv_mean = res.iloc[-1, 0]\n",
    "        cv_std = res.iloc[-1, 1]        \n",
    "        print('Ensemble-CV: {0}+{1}'.format(cv_mean, cv_std)) #cv效果\n",
    "        gbdt = xgb.train(xgb_params, dtrain, best_nrounds)\n",
    "        dtest_prob = gbdt.predict(dtest)\n",
    "        donline_prob = gbdt.predict(donline)\n",
    "        print ('Ensemble-test %.5f'%roc_auc_score(self.test_data[self.dep], dtest_prob)) #测试集效果\n",
    "        return donline_prob"
   ]
  },
  {
   "cell_type": "code",
   "execution_count": 47,
   "metadata": {},
   "outputs": [
    {
     "name": "stdout",
     "output_type": "stream",
     "text": [
      "rf-CV AUC is 0.88594\n",
      "lr-CV AUC is 0.88052\n",
      "cb-CV AUC is 0.89114\n",
      "xgb-CV AUC is 0.89342\n"
     ]
    },
    {
     "data": {
      "image/png": "[encoded data removed]",
      "text/plain": [
       "<Figure size 432x288 with 2 Axes>"
      ]
     },
     "metadata": {
      "needs_background": "light"
     },
     "output_type": "display_data"
    },
    {
     "name": "stdout",
     "output_type": "stream",
     "text": [
      "Ensemble-CV: 0.8981666666666667+0.0008174926435278716\n",
      "Ensemble-test 0.89210\n"
     ]
    }
   ],
   "source": [
    "ms = ModelStacking(X_train,\n",
    "                   X_test,\n",
    "                   X_final,\n",
    "                   list(X_train.columns[:-1]),\n",
    "                   models = [\n",
    "#                        'et',\n",
    "                       'rf',\n",
    "                       'lr',\n",
    "                       'cb',\n",
    "                       'xgb',\n",
    "                   ],\n",
    "                   dep='satisfied',\n",
    "                   seed=SEED\n",
    "                  )\n",
    "c = ms.stacking()\n",
    "# X_train, y_train, X_test, y_test = ms.stacking()"
   ]
  },
  {
   "cell_type": "code",
   "execution_count": 48,
   "metadata": {},
   "outputs": [
    {
     "ename": "SyntaxError",
     "evalue": "invalid syntax (<ipython-input-48-61357910ec8b>, line 1)",
     "output_type": "error",
     "traceback": [
      "\u001b[0;36m  File \u001b[0;32m\"<ipython-input-48-61357910ec8b>\"\u001b[0;36m, line \u001b[0;32m1\u001b[0m\n\u001b[0;31m    rf-CV AUC is 0.88594\u001b[0m\n\u001b[0m            ^\u001b[0m\n\u001b[0;31mSyntaxError\u001b[0m\u001b[0;31m:\u001b[0m invalid syntax\n"
     ]
    }
   ],
   "source": [
    "rf-CV AUC is 0.88594\n",
    "lr-CV AUC is 0.88052\n",
    "cb-CV AUC is 0.89114\n",
    "xgb-CV AUC is 0.89342\n",
    "\n",
    "Ensemble-CV: 0.8981666666666667+0.0008174926435278716\n",
    "Ensemble-test 0.89210"
   ]
  },
  {
   "cell_type": "code",
   "execution_count": null,
   "metadata": {},
   "outputs": [],
   "source": [
    "rf-CV AUC is 0.88429\n",
    "lr-CV AUC is 0.88052\n",
    "cb-CV AUC is 0.89119\n",
    "xgb-CV AUC is 0.89362\n",
    "\n",
    "Ensemble-CV: 0.897995+0.0007823149408433242\n",
    "Ensemble-test 0.89220"
   ]
  },
  {
   "cell_type": "code",
   "execution_count": null,
   "metadata": {},
   "outputs": [],
   "source": [
    "rf-CV AUC is 0.88642\n",
    "lr-CV AUC is 0.88256\n",
    "cb-CV AUC is 0.89214\n",
    "xgb-CV AUC is 0.89454\n",
    "\n",
    "Ensemble-CV: 0.8985756666666668+0.0007986873953904293\n",
    "Ensemble-test 0.89056"
   ]
  },
  {
   "cell_type": "code",
   "execution_count": 113,
   "metadata": {},
   "outputs": [
    {
     "ename": "SyntaxError",
     "evalue": "invalid syntax (<ipython-input-113-f16ebe84ca91>, line 1)",
     "output_type": "error",
     "traceback": [
      "\u001b[0;36m  File \u001b[0;32m\"<ipython-input-113-f16ebe84ca91>\"\u001b[0;36m, line \u001b[0;32m1\u001b[0m\n\u001b[0;31m    rf-CV AUC is 0.88290\u001b[0m\n\u001b[0m            ^\u001b[0m\n\u001b[0;31mSyntaxError\u001b[0m\u001b[0;31m:\u001b[0m invalid syntax\n"
     ]
    }
   ],
   "source": [
    "rf-CV AUC is 0.88290\n",
    "lr-CV AUC is 0.88248\n",
    "cb-CV AUC is 0.89185\n",
    "xgb-CV AUC is 0.89468\n",
    "\n",
    "Ensemble-CV: 0.8986393333333335+0.0008557586627600466\n",
    "Ensemble-test 0.89062"
   ]
  },
  {
   "cell_type": "code",
   "execution_count": null,
   "metadata": {},
   "outputs": [],
   "source": [
    "rf-CV AUC is 0.88394\n",
    "lr-CV AUC is 0.88249\n",
    "cb-CV AUC is 0.89170\n",
    "xgb-CV AUC is 0.89410\n",
    "\n",
    "Ensemble-CV: 0.8979755+0.0008324915915491524\n",
    "Ensemble-test 0.89050"
   ]
  },
  {
   "cell_type": "code",
   "execution_count": null,
   "metadata": {},
   "outputs": [],
   "source": [
    "rf-CV AUC is 0.87096\n",
    "lr-CV AUC is 0.88266\n",
    "cb-CV AUC is 0.89158\n",
    "xgb-CV AUC is 0.89415\n",
    "\n",
    "Ensemble-CV: 0.89802525+0.0010514574111679408\n",
    "Ensemble-test 0.88970"
   ]
  },
  {
   "cell_type": "code",
   "execution_count": null,
   "metadata": {},
   "outputs": [],
   "source": []
  },
  {
   "cell_type": "code",
   "execution_count": null,
   "metadata": {},
   "outputs": [],
   "source": []
  },
  {
   "cell_type": "code",
   "execution_count": null,
   "metadata": {},
   "outputs": [],
   "source": []
  },
  {
   "cell_type": "code",
   "execution_count": 51,
   "metadata": {},
   "outputs": [
    {
     "data": {
      "text/plain": [
       "[<matplotlib.lines.Line2D at 0x119ecf310>]"
      ]
     },
     "execution_count": 51,
     "metadata": {},
     "output_type": "execute_result"
    },
    {
     "data": {
      "image/png": "[encoded data removed]",
      "text/plain": [
       "<Figure size 432x288 with 1 Axes>"
      ]
     },
     "metadata": {
      "needs_background": "light"
     },
     "output_type": "display_data"
    }
   ],
   "source": [
    "plt.plot(ms.models_oof_return['lr'][1], ms.models_oof_return['xgb'][1], '.')"
   ]
  },
  {
   "cell_type": "code",
   "execution_count": 49,
   "metadata": {},
   "outputs": [
    {
     "data": {
      "text/plain": [
       "array([0.27622026, 0.31598637, 0.7119343 , ..., 0.6155151 , 0.62040854,\n",
       "       0.27291316], dtype=float32)"
      ]
     },
     "execution_count": 49,
     "metadata": {},
     "output_type": "execute_result"
    }
   ],
   "source": [
    "c"
   ]
  },
  {
   "cell_type": "code",
   "execution_count": 50,
   "metadata": {},
   "outputs": [
    {
     "name": "stderr",
     "output_type": "stream",
     "text": [
      "/Users/tingwei758/opt/anaconda3/envs/kaggle/lib/python3.7/site-packages/IPython/core/interactiveshell.py:3063: DtypeWarning: Columns (3,6,10,12,21,24,35,85,87,88,89,100,124,126,127,128,130,131,133,166,172,177,193,194,195,205,206,207,220,222,228,229,230,240,257,258,260,261,262) have mixed types.Specify dtype option on import or set low_memory=False.\n",
      "  interactivity=interactivity, compiler=compiler, result=result)\n"
     ]
    }
   ],
   "source": [
    "test_ids = pd.read_csv(\"../data/interim/test.csv\")[\"id\"]"
   ]
  },
  {
   "cell_type": "code",
   "execution_count": null,
   "metadata": {},
   "outputs": [],
   "source": []
  },
  {
   "cell_type": "code",
   "execution_count": 51,
   "metadata": {},
   "outputs": [],
   "source": [
    "result = pd.DataFrame()"
   ]
  },
  {
   "cell_type": "code",
   "execution_count": 52,
   "metadata": {},
   "outputs": [],
   "source": [
    "result[\"Id\"] = test_ids"
   ]
  },
  {
   "cell_type": "code",
   "execution_count": 53,
   "metadata": {},
   "outputs": [],
   "source": [
    "result[\"Predicted\"] = c"
   ]
  },
  {
   "cell_type": "code",
   "execution_count": 54,
   "metadata": {},
   "outputs": [],
   "source": [
    "result.to_csv(\"../data/result/result_03_12_submission0.csv\", index=False)"
   ]
  },
  {
   "cell_type": "code",
   "execution_count": 55,
   "metadata": {},
   "outputs": [
    {
     "data": {
      "text/html": [
       "<div>\n",
       "<style scoped>\n",
       "    .dataframe tbody tr th:only-of-type {\n",
       "        vertical-align: middle;\n",
       "    }\n",
       "\n",
       "    .dataframe tbody tr th {\n",
       "        vertical-align: top;\n",
       "    }\n",
       "\n",
       "    .dataframe thead th {\n",
       "        text-align: right;\n",
       "    }\n",
       "</style>\n",
       "<table border=\"1\" class=\"dataframe\">\n",
       "  <thead>\n",
       "    <tr style=\"text-align: right;\">\n",
       "      <th></th>\n",
       "      <th>Id</th>\n",
       "      <th>Predicted</th>\n",
       "    </tr>\n",
       "  </thead>\n",
       "  <tbody>\n",
       "    <tr>\n",
       "      <th>0</th>\n",
       "      <td>14061</td>\n",
       "      <td>0.276220</td>\n",
       "    </tr>\n",
       "    <tr>\n",
       "      <th>1</th>\n",
       "      <td>16467</td>\n",
       "      <td>0.315986</td>\n",
       "    </tr>\n",
       "    <tr>\n",
       "      <th>2</th>\n",
       "      <td>25725</td>\n",
       "      <td>0.711934</td>\n",
       "    </tr>\n",
       "    <tr>\n",
       "      <th>3</th>\n",
       "      <td>9100</td>\n",
       "      <td>0.652723</td>\n",
       "    </tr>\n",
       "    <tr>\n",
       "      <th>4</th>\n",
       "      <td>32597</td>\n",
       "      <td>0.562446</td>\n",
       "    </tr>\n",
       "    <tr>\n",
       "      <th>...</th>\n",
       "      <td>...</td>\n",
       "      <td>...</td>\n",
       "    </tr>\n",
       "    <tr>\n",
       "      <th>9240</th>\n",
       "      <td>31430</td>\n",
       "      <td>0.698991</td>\n",
       "    </tr>\n",
       "    <tr>\n",
       "      <th>9241</th>\n",
       "      <td>3876</td>\n",
       "      <td>0.602959</td>\n",
       "    </tr>\n",
       "    <tr>\n",
       "      <th>9242</th>\n",
       "      <td>20710</td>\n",
       "      <td>0.615515</td>\n",
       "    </tr>\n",
       "    <tr>\n",
       "      <th>9243</th>\n",
       "      <td>26015</td>\n",
       "      <td>0.620409</td>\n",
       "    </tr>\n",
       "    <tr>\n",
       "      <th>9244</th>\n",
       "      <td>12970</td>\n",
       "      <td>0.272913</td>\n",
       "    </tr>\n",
       "  </tbody>\n",
       "</table>\n",
       "<p>9245 rows × 2 columns</p>\n",
       "</div>"
      ],
      "text/plain": [
       "         Id  Predicted\n",
       "0     14061   0.276220\n",
       "1     16467   0.315986\n",
       "2     25725   0.711934\n",
       "3      9100   0.652723\n",
       "4     32597   0.562446\n",
       "...     ...        ...\n",
       "9240  31430   0.698991\n",
       "9241   3876   0.602959\n",
       "9242  20710   0.615515\n",
       "9243  26015   0.620409\n",
       "9244  12970   0.272913\n",
       "\n",
       "[9245 rows x 2 columns]"
      ]
     },
     "execution_count": 55,
     "metadata": {},
     "output_type": "execute_result"
    }
   ],
   "source": [
    "result"
   ]
  },
  {
   "cell_type": "code",
   "execution_count": null,
   "metadata": {},
   "outputs": [],
   "source": []
  },
  {
   "cell_type": "code",
   "execution_count": null,
   "metadata": {},
   "outputs": [],
   "source": []
  },
  {
   "cell_type": "code",
   "execution_count": null,
   "metadata": {},
   "outputs": [],
   "source": []
  },
  {
   "cell_type": "code",
   "execution_count": null,
   "metadata": {},
   "outputs": [],
   "source": []
  },
  {
   "cell_type": "code",
   "execution_count": null,
   "metadata": {},
   "outputs": [],
   "source": []
  },
  {
   "cell_type": "code",
   "execution_count": null,
   "metadata": {},
   "outputs": [],
   "source": []
  },
  {
   "cell_type": "code",
   "execution_count": null,
   "metadata": {},
   "outputs": [],
   "source": []
  },
  {
   "cell_type": "code",
   "execution_count": null,
   "metadata": {},
   "outputs": [],
   "source": []
  },
  {
   "cell_type": "code",
   "execution_count": null,
   "metadata": {},
   "outputs": [],
   "source": []
  },
  {
   "cell_type": "code",
   "execution_count": 23,
   "metadata": {},
   "outputs": [],
   "source": [
    "model = RandomForestClassifier"
   ]
  },
  {
   "cell_type": "code",
   "execution_count": 25,
   "metadata": {},
   "outputs": [
    {
     "ename": "TypeError",
     "evalue": "fit() missing 1 required positional argument: 'y'",
     "output_type": "error",
     "traceback": [
      "\u001b[0;31m---------------------------------------------------------------------------\u001b[0m",
      "\u001b[0;31mTypeError\u001b[0m                                 Traceback (most recent call last)",
      "\u001b[0;32m<ipython-input-25-fe34d83cacbc>\u001b[0m in \u001b[0;36m<module>\u001b[0;34m\u001b[0m\n\u001b[0;32m----> 1\u001b[0;31m \u001b[0mmodel\u001b[0m\u001b[0;34m.\u001b[0m\u001b[0mfit\u001b[0m\u001b[0;34m(\u001b[0m\u001b[0mX_train\u001b[0m\u001b[0;34m.\u001b[0m\u001b[0mdrop\u001b[0m\u001b[0;34m(\u001b[0m\u001b[0mcolumns\u001b[0m\u001b[0;34m=\u001b[0m\u001b[0;34m[\u001b[0m\u001b[0;34m\"satisfied\"\u001b[0m\u001b[0;34m]\u001b[0m\u001b[0;34m)\u001b[0m\u001b[0;34m,\u001b[0m \u001b[0mX_train\u001b[0m\u001b[0;34m[\u001b[0m\u001b[0;34m\"satisfied\"\u001b[0m\u001b[0;34m]\u001b[0m\u001b[0;34m)\u001b[0m\u001b[0;34m\u001b[0m\u001b[0;34m\u001b[0m\u001b[0m\n\u001b[0m",
      "\u001b[0;31mTypeError\u001b[0m: fit() missing 1 required positional argument: 'y'"
     ]
    }
   ],
   "source": [
    "model.fit(X_train.drop(columns=[\"satisfied\"]).iloc[b], X_train[\"satisfied\"].iloc[b])"
   ]
  },
  {
   "cell_type": "code",
   "execution_count": 60,
   "metadata": {},
   "outputs": [],
   "source": [
    "y_pred = model.predict_proba(X_test.drop(columns=[\"satisfied\"]))"
   ]
  },
  {
   "cell_type": "code",
   "execution_count": 61,
   "metadata": {},
   "outputs": [
    {
     "data": {
      "text/plain": [
       "0.8508176445999077"
      ]
     },
     "execution_count": 61,
     "metadata": {},
     "output_type": "execute_result"
    }
   ],
   "source": [
    "roc_auc_score(X_test[\"satisfied\"], y_pred[:,1])"
   ]
  },
  {
   "cell_type": "code",
   "execution_count": 56,
   "metadata": {},
   "outputs": [],
   "source": [
    "imp = SimpleImputer(missing_values=MISSING, strategy='constant', fill_value=0)"
   ]
  },
  {
   "cell_type": "code",
   "execution_count": 59,
   "metadata": {},
   "outputs": [],
   "source": [
    "XX = imp.fit_transform(X_train.drop(columns=[\"satisfied\"]))"
   ]
  },
  {
   "cell_type": "code",
   "execution_count": null,
   "metadata": {},
   "outputs": [],
   "source": []
  },
  {
   "cell_type": "code",
   "execution_count": 69,
   "metadata": {},
   "outputs": [
    {
     "name": "stdout",
     "output_type": "stream",
     "text": [
      "Fitting 5 folds for each of 12 candidates, totalling 60 fits\n"
     ]
    },
    {
     "name": "stderr",
     "output_type": "stream",
     "text": [
      "[Parallel(n_jobs=-1)]: Using backend LokyBackend with 8 concurrent workers.\n",
      "[Parallel(n_jobs=-1)]: Done  34 tasks      | elapsed:   15.2s\n",
      "[Parallel(n_jobs=-1)]: Done  60 out of  60 | elapsed:   40.7s finished\n"
     ]
    }
   ],
   "source": [
    "param_grid = {\n",
    "    'solver': ['saga'],\n",
    "    'penalty': ['l1'],\n",
    "    'C': [0.03, 0.04, 0.05, 0.06, 0.07, 0.09, 0.11, 0.13, 0.2, 0.3, 0.4, 0.5],\n",
    "}\n",
    "\n",
    "\n",
    "# Create grid search object\n",
    "\n",
    "clf = GridSearchCV(LogisticRegression(), param_grid = param_grid, scoring='roc_auc', cv = 5, verbose=True, n_jobs=-1)\n",
    "\n",
    "# Fit on data\n",
    "\n",
    "best_clf = clf.fit(XX, X_train[\"satisfied\"])"
   ]
  },
  {
   "cell_type": "code",
   "execution_count": 70,
   "metadata": {},
   "outputs": [
    {
     "data": {
      "text/plain": [
       "{'C': 0.07, 'penalty': 'l1', 'solver': 'saga'}"
      ]
     },
     "execution_count": 70,
     "metadata": {},
     "output_type": "execute_result"
    }
   ],
   "source": [
    "best_clf.best_params_"
   ]
  },
  {
   "cell_type": "code",
   "execution_count": 71,
   "metadata": {},
   "outputs": [
    {
     "data": {
      "text/html": [
       "<div>\n",
       "<style scoped>\n",
       "    .dataframe tbody tr th:only-of-type {\n",
       "        vertical-align: middle;\n",
       "    }\n",
       "\n",
       "    .dataframe tbody tr th {\n",
       "        vertical-align: top;\n",
       "    }\n",
       "\n",
       "    .dataframe thead th {\n",
       "        text-align: right;\n",
       "    }\n",
       "</style>\n",
       "<table border=\"1\" class=\"dataframe\">\n",
       "  <thead>\n",
       "    <tr style=\"text-align: right;\">\n",
       "      <th></th>\n",
       "      <th>mean_fit_time</th>\n",
       "      <th>std_fit_time</th>\n",
       "      <th>mean_score_time</th>\n",
       "      <th>std_score_time</th>\n",
       "      <th>param_C</th>\n",
       "      <th>param_penalty</th>\n",
       "      <th>param_solver</th>\n",
       "      <th>params</th>\n",
       "      <th>split0_test_score</th>\n",
       "      <th>split1_test_score</th>\n",
       "      <th>split2_test_score</th>\n",
       "      <th>split3_test_score</th>\n",
       "      <th>split4_test_score</th>\n",
       "      <th>mean_test_score</th>\n",
       "      <th>std_test_score</th>\n",
       "      <th>rank_test_score</th>\n",
       "    </tr>\n",
       "  </thead>\n",
       "  <tbody>\n",
       "    <tr>\n",
       "      <th>4</th>\n",
       "      <td>3.041412</td>\n",
       "      <td>0.378894</td>\n",
       "      <td>0.005036</td>\n",
       "      <td>0.000166</td>\n",
       "      <td>0.07</td>\n",
       "      <td>l1</td>\n",
       "      <td>saga</td>\n",
       "      <td>{'C': 0.07, 'penalty': 'l1', 'solver': 'saga'}</td>\n",
       "      <td>0.886379</td>\n",
       "      <td>0.886420</td>\n",
       "      <td>0.879469</td>\n",
       "      <td>0.880770</td>\n",
       "      <td>0.878732</td>\n",
       "      <td>0.882354</td>\n",
       "      <td>0.003367</td>\n",
       "      <td>1</td>\n",
       "    </tr>\n",
       "    <tr>\n",
       "      <th>3</th>\n",
       "      <td>2.964928</td>\n",
       "      <td>0.546807</td>\n",
       "      <td>0.006265</td>\n",
       "      <td>0.002790</td>\n",
       "      <td>0.06</td>\n",
       "      <td>l1</td>\n",
       "      <td>saga</td>\n",
       "      <td>{'C': 0.06, 'penalty': 'l1', 'solver': 'saga'}</td>\n",
       "      <td>0.886420</td>\n",
       "      <td>0.886545</td>\n",
       "      <td>0.879516</td>\n",
       "      <td>0.880469</td>\n",
       "      <td>0.878784</td>\n",
       "      <td>0.882347</td>\n",
       "      <td>0.003419</td>\n",
       "      <td>2</td>\n",
       "    </tr>\n",
       "    <tr>\n",
       "      <th>5</th>\n",
       "      <td>3.664136</td>\n",
       "      <td>0.952265</td>\n",
       "      <td>0.005243</td>\n",
       "      <td>0.000046</td>\n",
       "      <td>0.09</td>\n",
       "      <td>l1</td>\n",
       "      <td>saga</td>\n",
       "      <td>{'C': 0.09, 'penalty': 'l1', 'solver': 'saga'}</td>\n",
       "      <td>0.886166</td>\n",
       "      <td>0.886175</td>\n",
       "      <td>0.879491</td>\n",
       "      <td>0.880998</td>\n",
       "      <td>0.878604</td>\n",
       "      <td>0.882287</td>\n",
       "      <td>0.003262</td>\n",
       "      <td>3</td>\n",
       "    </tr>\n",
       "    <tr>\n",
       "      <th>2</th>\n",
       "      <td>2.880300</td>\n",
       "      <td>0.711394</td>\n",
       "      <td>0.004953</td>\n",
       "      <td>0.000097</td>\n",
       "      <td>0.05</td>\n",
       "      <td>l1</td>\n",
       "      <td>saga</td>\n",
       "      <td>{'C': 0.05, 'penalty': 'l1', 'solver': 'saga'}</td>\n",
       "      <td>0.886352</td>\n",
       "      <td>0.886624</td>\n",
       "      <td>0.879506</td>\n",
       "      <td>0.879990</td>\n",
       "      <td>0.878751</td>\n",
       "      <td>0.882244</td>\n",
       "      <td>0.003488</td>\n",
       "      <td>4</td>\n",
       "    </tr>\n",
       "    <tr>\n",
       "      <th>6</th>\n",
       "      <td>4.481268</td>\n",
       "      <td>1.644002</td>\n",
       "      <td>0.005260</td>\n",
       "      <td>0.000066</td>\n",
       "      <td>0.11</td>\n",
       "      <td>l1</td>\n",
       "      <td>saga</td>\n",
       "      <td>{'C': 0.11, 'penalty': 'l1', 'solver': 'saga'}</td>\n",
       "      <td>0.885974</td>\n",
       "      <td>0.885968</td>\n",
       "      <td>0.879431</td>\n",
       "      <td>0.881045</td>\n",
       "      <td>0.878510</td>\n",
       "      <td>0.882186</td>\n",
       "      <td>0.003196</td>\n",
       "      <td>5</td>\n",
       "    </tr>\n",
       "    <tr>\n",
       "      <th>7</th>\n",
       "      <td>4.538313</td>\n",
       "      <td>0.935513</td>\n",
       "      <td>0.005394</td>\n",
       "      <td>0.000576</td>\n",
       "      <td>0.13</td>\n",
       "      <td>l1</td>\n",
       "      <td>saga</td>\n",
       "      <td>{'C': 0.13, 'penalty': 'l1', 'solver': 'saga'}</td>\n",
       "      <td>0.885702</td>\n",
       "      <td>0.885831</td>\n",
       "      <td>0.879253</td>\n",
       "      <td>0.881093</td>\n",
       "      <td>0.878314</td>\n",
       "      <td>0.882039</td>\n",
       "      <td>0.003173</td>\n",
       "      <td>6</td>\n",
       "    </tr>\n",
       "    <tr>\n",
       "      <th>1</th>\n",
       "      <td>2.908313</td>\n",
       "      <td>0.592298</td>\n",
       "      <td>0.005214</td>\n",
       "      <td>0.000274</td>\n",
       "      <td>0.04</td>\n",
       "      <td>l1</td>\n",
       "      <td>saga</td>\n",
       "      <td>{'C': 0.04, 'penalty': 'l1', 'solver': 'saga'}</td>\n",
       "      <td>0.886180</td>\n",
       "      <td>0.886571</td>\n",
       "      <td>0.879419</td>\n",
       "      <td>0.879216</td>\n",
       "      <td>0.878681</td>\n",
       "      <td>0.882013</td>\n",
       "      <td>0.003572</td>\n",
       "      <td>7</td>\n",
       "    </tr>\n",
       "    <tr>\n",
       "      <th>8</th>\n",
       "      <td>5.399321</td>\n",
       "      <td>0.612300</td>\n",
       "      <td>0.005262</td>\n",
       "      <td>0.000570</td>\n",
       "      <td>0.2</td>\n",
       "      <td>l1</td>\n",
       "      <td>saga</td>\n",
       "      <td>{'C': 0.2, 'penalty': 'l1', 'solver': 'saga'}</td>\n",
       "      <td>0.885109</td>\n",
       "      <td>0.885520</td>\n",
       "      <td>0.878620</td>\n",
       "      <td>0.880898</td>\n",
       "      <td>0.877838</td>\n",
       "      <td>0.881597</td>\n",
       "      <td>0.003200</td>\n",
       "      <td>8</td>\n",
       "    </tr>\n",
       "    <tr>\n",
       "      <th>0</th>\n",
       "      <td>2.527921</td>\n",
       "      <td>0.986393</td>\n",
       "      <td>0.005869</td>\n",
       "      <td>0.000736</td>\n",
       "      <td>0.03</td>\n",
       "      <td>l1</td>\n",
       "      <td>saga</td>\n",
       "      <td>{'C': 0.03, 'penalty': 'l1', 'solver': 'saga'}</td>\n",
       "      <td>0.885627</td>\n",
       "      <td>0.886045</td>\n",
       "      <td>0.878820</td>\n",
       "      <td>0.878026</td>\n",
       "      <td>0.878598</td>\n",
       "      <td>0.881423</td>\n",
       "      <td>0.003615</td>\n",
       "      <td>9</td>\n",
       "    </tr>\n",
       "    <tr>\n",
       "      <th>9</th>\n",
       "      <td>7.841340</td>\n",
       "      <td>0.633468</td>\n",
       "      <td>0.005309</td>\n",
       "      <td>0.000096</td>\n",
       "      <td>0.3</td>\n",
       "      <td>l1</td>\n",
       "      <td>saga</td>\n",
       "      <td>{'C': 0.3, 'penalty': 'l1', 'solver': 'saga'}</td>\n",
       "      <td>0.884512</td>\n",
       "      <td>0.885184</td>\n",
       "      <td>0.878030</td>\n",
       "      <td>0.880541</td>\n",
       "      <td>0.877307</td>\n",
       "      <td>0.881115</td>\n",
       "      <td>0.003239</td>\n",
       "      <td>10</td>\n",
       "    </tr>\n",
       "    <tr>\n",
       "      <th>10</th>\n",
       "      <td>9.780712</td>\n",
       "      <td>0.483261</td>\n",
       "      <td>0.006629</td>\n",
       "      <td>0.001779</td>\n",
       "      <td>0.4</td>\n",
       "      <td>l1</td>\n",
       "      <td>saga</td>\n",
       "      <td>{'C': 0.4, 'penalty': 'l1', 'solver': 'saga'}</td>\n",
       "      <td>0.884076</td>\n",
       "      <td>0.884877</td>\n",
       "      <td>0.877569</td>\n",
       "      <td>0.880237</td>\n",
       "      <td>0.876979</td>\n",
       "      <td>0.880748</td>\n",
       "      <td>0.003246</td>\n",
       "      <td>11</td>\n",
       "    </tr>\n",
       "    <tr>\n",
       "      <th>11</th>\n",
       "      <td>10.059765</td>\n",
       "      <td>0.849048</td>\n",
       "      <td>0.004140</td>\n",
       "      <td>0.000642</td>\n",
       "      <td>0.5</td>\n",
       "      <td>l1</td>\n",
       "      <td>saga</td>\n",
       "      <td>{'C': 0.5, 'penalty': 'l1', 'solver': 'saga'}</td>\n",
       "      <td>0.883822</td>\n",
       "      <td>0.884686</td>\n",
       "      <td>0.877357</td>\n",
       "      <td>0.880054</td>\n",
       "      <td>0.876771</td>\n",
       "      <td>0.880538</td>\n",
       "      <td>0.003242</td>\n",
       "      <td>12</td>\n",
       "    </tr>\n",
       "  </tbody>\n",
       "</table>\n",
       "</div>"
      ],
      "text/plain": [
       "    mean_fit_time  std_fit_time  mean_score_time  std_score_time param_C  \\\n",
       "4        3.041412      0.378894         0.005036        0.000166    0.07   \n",
       "3        2.964928      0.546807         0.006265        0.002790    0.06   \n",
       "5        3.664136      0.952265         0.005243        0.000046    0.09   \n",
       "2        2.880300      0.711394         0.004953        0.000097    0.05   \n",
       "6        4.481268      1.644002         0.005260        0.000066    0.11   \n",
       "7        4.538313      0.935513         0.005394        0.000576    0.13   \n",
       "1        2.908313      0.592298         0.005214        0.000274    0.04   \n",
       "8        5.399321      0.612300         0.005262        0.000570     0.2   \n",
       "0        2.527921      0.986393         0.005869        0.000736    0.03   \n",
       "9        7.841340      0.633468         0.005309        0.000096     0.3   \n",
       "10       9.780712      0.483261         0.006629        0.001779     0.4   \n",
       "11      10.059765      0.849048         0.004140        0.000642     0.5   \n",
       "\n",
       "   param_penalty param_solver                                          params  \\\n",
       "4             l1         saga  {'C': 0.07, 'penalty': 'l1', 'solver': 'saga'}   \n",
       "3             l1         saga  {'C': 0.06, 'penalty': 'l1', 'solver': 'saga'}   \n",
       "5             l1         saga  {'C': 0.09, 'penalty': 'l1', 'solver': 'saga'}   \n",
       "2             l1         saga  {'C': 0.05, 'penalty': 'l1', 'solver': 'saga'}   \n",
       "6             l1         saga  {'C': 0.11, 'penalty': 'l1', 'solver': 'saga'}   \n",
       "7             l1         saga  {'C': 0.13, 'penalty': 'l1', 'solver': 'saga'}   \n",
       "1             l1         saga  {'C': 0.04, 'penalty': 'l1', 'solver': 'saga'}   \n",
       "8             l1         saga   {'C': 0.2, 'penalty': 'l1', 'solver': 'saga'}   \n",
       "0             l1         saga  {'C': 0.03, 'penalty': 'l1', 'solver': 'saga'}   \n",
       "9             l1         saga   {'C': 0.3, 'penalty': 'l1', 'solver': 'saga'}   \n",
       "10            l1         saga   {'C': 0.4, 'penalty': 'l1', 'solver': 'saga'}   \n",
       "11            l1         saga   {'C': 0.5, 'penalty': 'l1', 'solver': 'saga'}   \n",
       "\n",
       "    split0_test_score  split1_test_score  split2_test_score  \\\n",
       "4            0.886379           0.886420           0.879469   \n",
       "3            0.886420           0.886545           0.879516   \n",
       "5            0.886166           0.886175           0.879491   \n",
       "2            0.886352           0.886624           0.879506   \n",
       "6            0.885974           0.885968           0.879431   \n",
       "7            0.885702           0.885831           0.879253   \n",
       "1            0.886180           0.886571           0.879419   \n",
       "8            0.885109           0.885520           0.878620   \n",
       "0            0.885627           0.886045           0.878820   \n",
       "9            0.884512           0.885184           0.878030   \n",
       "10           0.884076           0.884877           0.877569   \n",
       "11           0.883822           0.884686           0.877357   \n",
       "\n",
       "    split3_test_score  split4_test_score  mean_test_score  std_test_score  \\\n",
       "4            0.880770           0.878732         0.882354        0.003367   \n",
       "3            0.880469           0.878784         0.882347        0.003419   \n",
       "5            0.880998           0.878604         0.882287        0.003262   \n",
       "2            0.879990           0.878751         0.882244        0.003488   \n",
       "6            0.881045           0.878510         0.882186        0.003196   \n",
       "7            0.881093           0.878314         0.882039        0.003173   \n",
       "1            0.879216           0.878681         0.882013        0.003572   \n",
       "8            0.880898           0.877838         0.881597        0.003200   \n",
       "0            0.878026           0.878598         0.881423        0.003615   \n",
       "9            0.880541           0.877307         0.881115        0.003239   \n",
       "10           0.880237           0.876979         0.880748        0.003246   \n",
       "11           0.880054           0.876771         0.880538        0.003242   \n",
       "\n",
       "    rank_test_score  \n",
       "4                 1  \n",
       "3                 2  \n",
       "5                 3  \n",
       "2                 4  \n",
       "6                 5  \n",
       "7                 6  \n",
       "1                 7  \n",
       "8                 8  \n",
       "0                 9  \n",
       "9                10  \n",
       "10               11  \n",
       "11               12  "
      ]
     },
     "execution_count": 71,
     "metadata": {},
     "output_type": "execute_result"
    }
   ],
   "source": [
    "pd.DataFrame(best_clf.cv_results_).sort_values(\"mean_test_score\", ascending=False)"
   ]
  },
  {
   "cell_type": "code",
   "execution_count": null,
   "metadata": {},
   "outputs": [],
   "source": []
  },
  {
   "cell_type": "code",
   "execution_count": null,
   "metadata": {},
   "outputs": [],
   "source": []
  }
 ],
 "metadata": {
  "kernelspec": {
   "display_name": "Python 3",
   "language": "python",
   "name": "python3"
  },
  "language_info": {
   "codemirror_mode": {
    "name": "ipython",
    "version": 3
   },
   "file_extension": ".py",
   "mimetype": "text/x-python",
   "name": "python",
   "nbconvert_exporter": "python",
   "pygments_lexer": "ipython3",
   "version": "3.7.6"
  }
 },
 "nbformat": 4,
 "nbformat_minor": 2
}
