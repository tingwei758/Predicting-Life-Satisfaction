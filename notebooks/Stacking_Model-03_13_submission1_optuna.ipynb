{
 "cells": [
  {
   "cell_type": "code",
   "execution_count": 1,
   "metadata": {},
   "outputs": [],
   "source": [
    "import pandas as pd\n",
    "import numpy as np\n",
    "from matplotlib import pyplot as plt\n",
    "import seaborn as sns\n",
    "import xgboost as xgb\n",
    "from sklearn.model_selection import StratifiedKFold, RandomizedSearchCV, GridSearchCV,train_test_split\n",
    "from sklearn.metrics import *\n",
    "from sklearn.impute import SimpleImputer\n",
    "import optuna"
   ]
  },
  {
   "cell_type": "code",
   "execution_count": 2,
   "metadata": {},
   "outputs": [],
   "source": [
    "#from scipy.stats import skew\n",
    "from sklearn.ensemble import ExtraTreesClassifier\n",
    "from sklearn.ensemble import RandomForestClassifier\n",
    "#from sklearn.metrics import mean_squared_error\n",
    "#from math import sqrt\n",
    "from sklearn.model_selection import KFold\n",
    "from catboost import CatBoostClassifier\n",
    "#from lightgbm import LGBMClassifier\n",
    "# import lightgbm as lgb\n",
    "from sklearn.linear_model import LogisticRegression\n",
    "from sklearn.svm import SVC, LinearSVC, NuSVC"
   ]
  },
  {
   "cell_type": "code",
   "execution_count": 3,
   "metadata": {},
   "outputs": [],
   "source": [
    "MISSING = -9999"
   ]
  },
  {
   "cell_type": "code",
   "execution_count": 4,
   "metadata": {},
   "outputs": [],
   "source": [
    "SEED = 123321"
   ]
  },
  {
   "cell_type": "code",
   "execution_count": 5,
   "metadata": {},
   "outputs": [],
   "source": [
    "df = pd.read_csv(\"../data/processed/data_encoded_stacking.csv\")"
   ]
  },
  {
   "cell_type": "code",
   "execution_count": 6,
   "metadata": {},
   "outputs": [
    {
     "data": {
      "text/plain": [
       "(39325, 353)"
      ]
     },
     "execution_count": 6,
     "metadata": {},
     "output_type": "execute_result"
    }
   ],
   "source": [
    "df.shape"
   ]
  },
  {
   "cell_type": "code",
   "execution_count": null,
   "metadata": {},
   "outputs": [],
   "source": []
  },
  {
   "cell_type": "code",
   "execution_count": null,
   "metadata": {},
   "outputs": [],
   "source": []
  },
  {
   "cell_type": "code",
   "execution_count": 7,
   "metadata": {},
   "outputs": [],
   "source": [
    "df_train = df[df[\"test\"] == 0].drop(columns=[\"test\"]).set_index(\"id\")\n",
    "df_test = df[df[\"test\"] == 1].drop(columns=[\"test\"]).set_index(\"id\")"
   ]
  },
  {
   "cell_type": "code",
   "execution_count": 8,
   "metadata": {},
   "outputs": [],
   "source": [
    "X = df_train.drop(columns=[\"satisfied\"])\n",
    "y = df_train[\"satisfied\"]"
   ]
  },
  {
   "cell_type": "code",
   "execution_count": 9,
   "metadata": {},
   "outputs": [],
   "source": [
    "X_train, X_test, y_train, y_test = train_test_split(X, y, test_size=0.30, random_state=SEED)"
   ]
  },
  {
   "cell_type": "code",
   "execution_count": 10,
   "metadata": {},
   "outputs": [
    {
     "name": "stderr",
     "output_type": "stream",
     "text": [
      "/Users/tingwei758/opt/anaconda3/envs/kaggle/lib/python3.7/site-packages/ipykernel_launcher.py:1: SettingWithCopyWarning: \n",
      "A value is trying to be set on a copy of a slice from a DataFrame.\n",
      "Try using .loc[row_indexer,col_indexer] = value instead\n",
      "\n",
      "See the caveats in the documentation: https://pandas.pydata.org/pandas-docs/stable/user_guide/indexing.html#returning-a-view-versus-a-copy\n",
      "  \"\"\"Entry point for launching an IPython kernel.\n"
     ]
    }
   ],
   "source": [
    "X_train[\"satisfied\"] = y_train"
   ]
  },
  {
   "cell_type": "code",
   "execution_count": 11,
   "metadata": {},
   "outputs": [
    {
     "name": "stderr",
     "output_type": "stream",
     "text": [
      "/Users/tingwei758/opt/anaconda3/envs/kaggle/lib/python3.7/site-packages/ipykernel_launcher.py:1: SettingWithCopyWarning: \n",
      "A value is trying to be set on a copy of a slice from a DataFrame.\n",
      "Try using .loc[row_indexer,col_indexer] = value instead\n",
      "\n",
      "See the caveats in the documentation: https://pandas.pydata.org/pandas-docs/stable/user_guide/indexing.html#returning-a-view-versus-a-copy\n",
      "  \"\"\"Entry point for launching an IPython kernel.\n"
     ]
    }
   ],
   "source": [
    "X_test[\"satisfied\"] = y_test"
   ]
  },
  {
   "cell_type": "code",
   "execution_count": 12,
   "metadata": {},
   "outputs": [],
   "source": [
    "X_final = df_test.drop(columns=[\"satisfied\"])"
   ]
  },
  {
   "cell_type": "code",
   "execution_count": 13,
   "metadata": {},
   "outputs": [],
   "source": [
    "X_train = X_train.reset_index(drop=True)\n",
    "X_test = X_test.reset_index(drop=True)\n",
    "X_final = X_final.reset_index(drop=True)"
   ]
  },
  {
   "cell_type": "code",
   "execution_count": 14,
   "metadata": {},
   "outputs": [
    {
     "data": {
      "text/plain": [
       "(21056, 351)"
      ]
     },
     "execution_count": 14,
     "metadata": {},
     "output_type": "execute_result"
    }
   ],
   "source": [
    "X_train.shape"
   ]
  },
  {
   "cell_type": "code",
   "execution_count": 15,
   "metadata": {},
   "outputs": [
    {
     "data": {
      "text/plain": [
       "(9024, 351)"
      ]
     },
     "execution_count": 15,
     "metadata": {},
     "output_type": "execute_result"
    }
   ],
   "source": [
    "X_test.shape"
   ]
  },
  {
   "cell_type": "code",
   "execution_count": 16,
   "metadata": {},
   "outputs": [
    {
     "data": {
      "text/plain": [
       "(9245, 350)"
      ]
     },
     "execution_count": 16,
     "metadata": {},
     "output_type": "execute_result"
    }
   ],
   "source": [
    "X_final.shape"
   ]
  },
  {
   "cell_type": "code",
   "execution_count": null,
   "metadata": {},
   "outputs": [],
   "source": []
  },
  {
   "cell_type": "code",
   "execution_count": 17,
   "metadata": {},
   "outputs": [],
   "source": [
    "class SklearnWrapper(object):\n",
    "    def __init__(self, clf, seed=0, params=None):\n",
    "        params['random_state'] = seed\n",
    "        self.clf = clf(**params)\n",
    "\n",
    "    def train(self, x_train, y_train):\n",
    "        imp = SimpleImputer(missing_values=MISSING, strategy='constant', fill_value=0)\n",
    "        x_train = imp.fit_transform(x_train)\n",
    "        self.clf.fit(x_train, y_train)\n",
    "\n",
    "    def predict(self, x):\n",
    "        imp = SimpleImputer(missing_values=MISSING, strategy='constant', fill_value=0)\n",
    "        x = imp.fit_transform(x)\n",
    "        return self.clf.predict_proba(x)[:,1]"
   ]
  },
  {
   "cell_type": "code",
   "execution_count": 18,
   "metadata": {},
   "outputs": [],
   "source": [
    "class CatboostWrapper(object):\n",
    "    def __init__(self, clf, seed=0, params=None):\n",
    "        params['random_seed'] = seed\n",
    "        self.clf = clf(**params)\n",
    "\n",
    "    def train(self, x_train, y_train):\n",
    "        self.clf.fit(x_train, y_train)\n",
    "\n",
    "    def predict(self, x):\n",
    "        return self.clf.predict_proba(x)[:,1]"
   ]
  },
  {
   "cell_type": "code",
   "execution_count": 19,
   "metadata": {},
   "outputs": [],
   "source": [
    "class XgbWrapper(object):\n",
    "    def __init__(self, clf, seed=0, params=None):\n",
    "        params['random_state'] = seed\n",
    "        self.clf = clf(**params)\n",
    "\n",
    "    def train(self, x_train, y_train):\n",
    "        self.clf.fit(x_train, y_train)\n",
    "\n",
    "    def predict(self, x):\n",
    "        return self.clf.predict_proba(x)[:,1]"
   ]
  },
  {
   "cell_type": "code",
   "execution_count": 20,
   "metadata": {},
   "outputs": [],
   "source": [
    "# class XgbWrapper(object):\n",
    "#     def __init__(self, seed=0, params=None):\n",
    "#         self.param = params\n",
    "#         self.param['seed'] = seed\n",
    "#         self.nrounds = params.pop('nrounds', 250)\n",
    "\n",
    "#     def train(self, x_train, y_train):\n",
    "#         dtrain = xgb.DMatrix(x_train, label=y_train)\n",
    "#         res = xgb.cv(self.param, dtrain, num_boost_round=250, nfold=3, stratified=True,\n",
    "#              early_stopping_rounds=25, verbose_eval=False, show_stdv=True) #cv寻找较优的迭代次数\n",
    "#         self.nrounds = res.shape[0]\n",
    "#         #print (res)\n",
    "#         self.gbdt = xgb.train(self.param, dtrain, self.nrounds)\n",
    "\n",
    "#     def predict(self, x):\n",
    "#         return self.gbdt.predict(xgb.DMatrix(x))"
   ]
  },
  {
   "cell_type": "code",
   "execution_count": 21,
   "metadata": {},
   "outputs": [],
   "source": [
    "class LightGBMWrapper(object):\n",
    "    def __init__(self, seed=0, params=None):\n",
    "        params['seed'] = seed\n",
    "        self.params = params\n",
    "\n",
    "    def train(self, x_train, y_train):\n",
    "        dtrain = lgb.Dataset(x_train,label=y_train)\n",
    "        bst = lgb.cv(self.params, dtrain, num_boost_round=1000, nfold=3, early_stopping_rounds=30) #cv寻找较优的迭代次数\n",
    "        self.lgbc = lgb.train(self.params,dtrain,num_boost_round=len(bst['auc-mean']))\n",
    "\n",
    "    def predict(self, x):\n",
    "        return self.lgbc.predict(np.array(x))"
   ]
  },
  {
   "cell_type": "code",
   "execution_count": 29,
   "metadata": {},
   "outputs": [],
   "source": [
    "class ModelStacking():\n",
    "    def __init__(self, train_data, test_data, online_data, predictors, models=['et','rf','xgb','cb','lgb'], dep='y',nfolds=5, seed=0, trial=None):\n",
    "        '''\n",
    "        train_data: DataFrame, 训练集;\n",
    "        test_data: DataFrame, 测试集;\n",
    "        online_data: DataFrame, 待预测样本;\n",
    "        predictors：list or array, 待训练变量名;\n",
    "        models: list, 模型名称;\n",
    "        dep: str, y值;\n",
    "        nfolds: int, stacking的折数;\n",
    "        seed: int, 随机种子;\n",
    "        '''\n",
    "        self.train_data = train_data #训练集\n",
    "        self.test_data = test_data #测试集（带label)\n",
    "        self.online_data = online_data #需要预测的数据集（label未知）\n",
    "        self.dep = dep #y的标签名称\n",
    "        self.nfolds = nfolds #k折\n",
    "        self.predictors = predictors #待训练的变量名称list\n",
    "        self.seed = seed #随机种子\n",
    "        self.ntrain = self.train_data.shape[0]\n",
    "        self.ntest = self.test_data.shape[0]\n",
    "        self.nonline = self.online_data.shape[0]\n",
    "        self.models = models #模型名称list\n",
    "        self.trial = trial\n",
    "        \n",
    "        self.params_list() #初始化各模型的参数\n",
    "\n",
    "    def get_oof(self,clf):\n",
    "        '''\n",
    "        clf: model wrapper object;\n",
    "        :产生下一层训练的变量;\n",
    "        '''\n",
    "        kf = KFold(n_splits = self.nfolds, shuffle=True, random_state=0)\n",
    "        oof_train = np.zeros((self.ntrain,)) #生成训练集预测结果的容器\n",
    "        oof_test = np.zeros((self.ntest,)) #生成测试集预测结果的容器\n",
    "        oof_online = np.zeros((self.nonline,)) #生成待预测集预测结果的容器\n",
    "        oof_test_skf = np.empty((self.nfolds, self.ntest)) #生成测试集多折预测结果的容器\n",
    "        oof_online_skf = np.empty((self.nfolds, self.nonline)) #生成待预测集集多折预测结果的容器\n",
    "    \n",
    "        for i, (train_index, test_index) in enumerate(kf.split(self.train_data)):\n",
    "            x_tr = self.train_data.loc[train_index,self.predictors]\n",
    "            y_tr = self.train_data[self.dep].loc[train_index]\n",
    "            x_te = self.train_data.loc[test_index,self.predictors]\n",
    "    \n",
    "            clf.train(x_tr, y_tr) #折数训练\n",
    "\n",
    "            oof_train[test_index] = clf.predict(x_te) #第i折中训练预测结果保存\n",
    "            \n",
    "            oof_test_skf[i, :] = clf.predict(self.test_data[self.predictors]) #预测测试集\n",
    "            \n",
    "            oof_online_skf[i,:] = clf.predict(self.online_data[self.predictors]) #预测待预测集\n",
    "    \n",
    "        oof_test[:] = oof_test_skf.mean(axis=0) #取平均\n",
    "        oof_online[:] = oof_online_skf.mean(axis=0) #取平均\n",
    "        return oof_train.reshape(-1, 1), oof_test.reshape(-1, 1), oof_online.reshape(-1, 1)\n",
    "\n",
    "    def params_list(self):\n",
    "        '''\n",
    "        : 初始化模型参数\n",
    "        '''\n",
    "        et_params = {\n",
    "            'n_jobs': 4,\n",
    "            'n_estimators': 300,\n",
    "            'max_features': 'sqrt',\n",
    "            'max_depth': 38,\n",
    "            'min_samples_leaf': 2,\n",
    "        }\n",
    "        \n",
    "        lr_params = {\n",
    "            'n_jobs': 1,\n",
    "            'solver': 'saga',\n",
    "            'penalty': 'l1',\n",
    "            'C': self.trial.suggest_uniform('lr_C', 0.07, 0.15),\n",
    "        }\n",
    "        \n",
    "        rf_params = {\n",
    "            'n_jobs': 4,\n",
    "            'n_estimators': 100,\n",
    "            'max_features': 'sqrt',\n",
    "            'max_depth': 24,\n",
    "            'min_samples_leaf': 2,\n",
    "        }\n",
    "        \n",
    "        xgb_params ={\n",
    "            'booster': 'gbtree',\n",
    "            'objective': 'binary:logistic',\n",
    "            'max_depth': self.trial.suggest_int('xgb_max_depth', 2, 16),\n",
    "            'subsample': self.trial.suggest_discrete_uniform('xgb_subsample', 0.5, 1.0, 0.05),\n",
    "            'scale_pos_weight': self.trial.suggest_discrete_uniform('xgb_scale_pos_weight', 0, 1.0, 0.1),\n",
    "            'colsample_bytree': self.trial.suggest_discrete_uniform('xgb_colsample_bytree', 0.5, 1.0, 0.1),\n",
    "            'colsample_bynode': self.trial.suggest_discrete_uniform('xgb_colsample_bynode', 0.5, 1.0, 0.1),\n",
    "            'colsample_bylevel': self.trial.suggest_discrete_uniform('xgb_colsample_bylevel', 0.5, 1.0, 0.1),\n",
    "            'eta': 0.1,\n",
    "#             'lambda': 10,\n",
    "            'min_child_weight': 1,\n",
    "            'seed': 0,\n",
    "            'nthread': 4,\n",
    "            'silent': 1,\n",
    "            'eval_metric': 'auc',\n",
    "            'missing': MISSING,\n",
    "        }\n",
    "        \n",
    "        cb_params = {\n",
    "            'iterations': 300,\n",
    "            'learning_rate': 0.1,\n",
    "            'depth': self.trial.suggest_int('cb_depth', 2, 16),\n",
    "            'l2_leaf_reg': self.trial.suggest_int('cb_l2_leaf_reg', 1, 20),\n",
    "            'bootstrap_type': 'Bernoulli',\n",
    "            'subsample': self.trial.suggest_discrete_uniform('cb_subsample', 0.5, 1.0, 0.05),\n",
    "            'scale_pos_weight': 5,\n",
    "            'eval_metric': 'AUC',\n",
    "            'od_type': 'Iter',\n",
    "            'logging_level': 'Silent',\n",
    "            'allow_writing_files': False,\n",
    "        }\n",
    "        \n",
    "#         cb_params = {\n",
    "#             'iterations': 30,\n",
    "#             'learning_rate': 0.5,\n",
    "#             'depth': 3,\n",
    "#             'l2_leaf_reg': 40,\n",
    "#             'bootstrap_type': 'Bernoulli',\n",
    "#             'subsample': 0.7,\n",
    "#             'scale_pos_weight': 5,\n",
    "#             'eval_metric': 'AUC',\n",
    "#             'od_type': 'Iter',\n",
    "#             'allow_writing_files': False\n",
    "#         }\n",
    "        \n",
    "        lgb_params = {\n",
    "            'boosting_type': 'gbdt',\n",
    "            'objective': 'binary',\n",
    "            'metric': 'auc',\n",
    "            'min_child_weight': 1,\n",
    "            'num_leaves': 2 ** 5,\n",
    "            'lambda_l2': 10,\n",
    "            'subsample': 0.8,\n",
    "            'learning_rate': 0.1,\n",
    "            'seed': 0,\n",
    "            'colsample_bytree': 0.8,\n",
    "            'nthread': 4\n",
    "        }\n",
    "        \n",
    "        self.params_dic = {}\n",
    "        self.params_dic['et_params'] = et_params\n",
    "        self.params_dic['rf_params'] = rf_params\n",
    "        self.params_dic['xgb_params'] = xgb_params\n",
    "        self.params_dic['cb_params'] = cb_params\n",
    "        self.params_dic['lgb_params'] = lgb_params\n",
    "        self.params_dic['lr_params'] = lr_params\n",
    "\n",
    "    def model_train_predict(self):\n",
    "        '''\n",
    "        ：针对选定的模型进行训练，并针对每个数据集产生预测结果\n",
    "        '''\n",
    "        self.build_models = {}\n",
    "        self.models_oof_return = {}\n",
    "        for mm in self.models:\n",
    "            if mm == 'et':\n",
    "                self.build_models['et'] = SklearnWrapper(clf=ExtraTreesClassifier, seed=self.seed, params=self.params_dic['et_params'])\n",
    "                et_oof_train, et_oof_test, et_oof_online = self.get_oof(self.build_models['et'])\n",
    "                self.models_oof_return['et'] = [et_oof_train, et_oof_test, et_oof_online]\n",
    "                print ('et-CV AUC is %.5f'%roc_auc_score(self.train_data[self.dep],et_oof_train))\n",
    "            elif mm == 'rf':\n",
    "                self.build_models['rf'] = SklearnWrapper(clf=RandomForestClassifier, seed=self.seed, params=self.params_dic['rf_params'])\n",
    "                rf_oof_train, rf_oof_test, rf_oof_online = self.get_oof(self.build_models['rf'])\n",
    "                self.models_oof_return['rf'] = [rf_oof_train, rf_oof_test, rf_oof_online]\n",
    "                print ('rf-CV AUC is %.5f'%roc_auc_score(self.train_data[self.dep],rf_oof_train))\n",
    "            elif mm == 'cb':\n",
    "                self.build_models['cb'] = CatboostWrapper(clf= CatBoostClassifier, seed=self.seed, params=self.params_dic['cb_params'])\n",
    "                cb_oof_train, cb_oof_test, cb_oof_online = self.get_oof(self.build_models['cb'])\n",
    "                self.models_oof_return['cb'] = [cb_oof_train, cb_oof_test, cb_oof_online]\n",
    "                print ('cb-CV AUC is %.5f'%roc_auc_score(self.train_data[self.dep],cb_oof_train))\n",
    "            elif mm == 'lgb':\n",
    "                self.build_models['lgb'] = LightGBMWrapper(seed=self.seed, params=self.params_dic['lgb_params'])\n",
    "                lgb_oof_train, lgb_oof_test, lgb_oof_online = self.get_oof(self.build_models['lgb'])\n",
    "                self.models_oof_return['lgb'] = [lgb_oof_train, lgb_oof_test, lgb_oof_online]\n",
    "                print ('lgb-CV AUC is %.5f'%roc_auc_score(self.train_data[self.dep],lgb_oof_train))\n",
    "            elif mm == 'xgb':\n",
    "                self.build_models['xgb'] = XgbWrapper(clf=xgb.XGBClassifier, seed=self.seed, params=self.params_dic['xgb_params'])\n",
    "#                 self.build_models['xgb'] = XgbWrapper(seed=self.seed, params=self.params_dic['xgb_params'])\n",
    "                xgb_oof_train, xgb_oof_test, xcb_oof_online = self.get_oof(self.build_models['xgb'])\n",
    "                self.models_oof_return['xgb'] = [xgb_oof_train, xgb_oof_test, xcb_oof_online]\n",
    "                print ('xgb-CV AUC is %.5f'%roc_auc_score(self.train_data[self.dep],xgb_oof_train))\n",
    "            elif mm == 'lr':\n",
    "                self.build_models['lr'] = SklearnWrapper(clf=LogisticRegression, seed=self.seed, params=self.params_dic['lr_params'])\n",
    "                et_oof_train, et_oof_test, et_oof_online = self.get_oof(self.build_models['lr'])\n",
    "                self.models_oof_return['lr'] = [et_oof_train, et_oof_test, et_oof_online]\n",
    "                print ('lr-CV AUC is %.5f'%roc_auc_score(self.train_data[self.dep],et_oof_train))\n",
    "\n",
    "    def stacking(self):\n",
    "        '''\n",
    "        : 针对上一层产出的结果再次训练，并产生待预测样本的预测概率结果;\n",
    "        '''\n",
    "        self.model_train_predict() #训练并预测\n",
    "        #组合上面每个模型的预测结果\n",
    "        for i in range(len(self.models)):\n",
    "            if i == 0:\n",
    "                x_train = self.models_oof_return[self.models[i]][0]\n",
    "                x_test = self.models_oof_return[self.models[i]][1]\n",
    "                x_online = self.models_oof_return[self.models[i]][2]\n",
    "            else:\n",
    "                x_train = np.concatenate((x_train,self.models_oof_return[self.models[i]][0]), axis=1)\n",
    "                x_test = np.concatenate((x_test,self.models_oof_return[self.models[i]][1]), axis=1)\n",
    "                x_online = np.concatenate((x_online,self.models_oof_return[self.models[i]][2]), axis=1)\n",
    "                \n",
    "#         cor = pd.DataFrame(x_test).corr()\n",
    "#         sns.heatmap(cor, annot=True, cmap=plt.cm.Reds)\n",
    "#         plt.show()\n",
    "        \n",
    "#         return x_train, self.train_data[self.dep], x_test, self.test_data[self.dep]\n",
    "        \n",
    "        #用xgb作为最终的分类器\n",
    "        dtrain = xgb.DMatrix(x_train, label=self.train_data[self.dep])\n",
    "        dtest = xgb.DMatrix(x_test)\n",
    "        donline = xgb.DMatrix(x_online)\n",
    "                \n",
    "#         xgb_params = {\n",
    "#             'seed': 0,\n",
    "#             'colsample_bytree': 0.8,\n",
    "#             'silent': 1,\n",
    "#             'subsample': 0.8,\n",
    "#             'learning_rate': 0.1,\n",
    "#             'objective': 'binary:logistic',\n",
    "#             'max_depth': 2,\n",
    "#             'num_parallel_tree': 1,\n",
    "#             'min_child_weight': 1,\n",
    "#             'eval_metric': 'auc'\n",
    "#         }\n",
    "        \n",
    "        \n",
    "        xgb_params = {\n",
    "            'seed': 0,\n",
    "            'colsample_bytree': 0.8,\n",
    "            'silent': 1,\n",
    "            'subsample': 0.8,\n",
    "            'learning_rate': 0.1,\n",
    "            'objective': 'binary:logistic',\n",
    "            'max_depth': 2,\n",
    "            'num_parallel_tree': 1,\n",
    "            'min_child_weight': 1,\n",
    "            'eval_metric': 'auc'\n",
    "        }\n",
    "        \n",
    "        res = xgb.cv(xgb_params, dtrain, num_boost_round=100, nfold=3, seed=self.seed, stratified=False,\n",
    "             early_stopping_rounds=10, verbose_eval=False, show_stdv=True) #cv寻找合适的迭代次数\n",
    "        best_nrounds = res.shape[0]\n",
    "        cv_mean = res.iloc[-1, 0]\n",
    "        cv_std = res.iloc[-1, 1]        \n",
    "        print('Ensemble-CV: {0}+{1}'.format(cv_mean, cv_std)) #cv效果\n",
    "#         for i in range(10, 30):\n",
    "#             print(i)\n",
    "#             gbdt = xgb.train(xgb_params, dtrain, i)\n",
    "#             dtest_prob = gbdt.predict(dtest)\n",
    "#             donline_prob = gbdt.predict(donline)\n",
    "#             print ('Ensemble-test %.5f'%roc_auc_score(self.test_data[self.dep], dtest_prob)) #测试集效果\n",
    "        print(\"best nrounds: {}\".format(best_nrounds))\n",
    "        gbdt = xgb.train(xgb_params, dtrain, best_nrounds)\n",
    "        dtest_prob = gbdt.predict(dtest)\n",
    "        donline_prob = gbdt.predict(donline)\n",
    "        print ('Ensemble-test %.5f'%roc_auc_score(self.test_data[self.dep], dtest_prob)) #测试集效果\n",
    "        \n",
    "        return roc_auc_score(self.test_data[self.dep], dtest_prob)\n",
    "    "
   ]
  },
  {
   "cell_type": "code",
   "execution_count": 35,
   "metadata": {},
   "outputs": [],
   "source": [
    "def objective(trial):\n",
    "    ms = ModelStacking(X_train,\n",
    "                   X_test,\n",
    "                   X_final,\n",
    "                   list(X_train.columns[:-1]),\n",
    "                   models = [\n",
    "#                        'et',\n",
    "                       'rf',\n",
    "                       'lr',\n",
    "                       'cb',\n",
    "                       'xgb',\n",
    "                   ],\n",
    "                   dep='satisfied',\n",
    "                   nfolds=6,\n",
    "                   seed=SEED,\n",
    "                       trial=trial\n",
    "                  )\n",
    "    score = ms.stacking()\n",
    "    return -score"
   ]
  },
  {
   "cell_type": "code",
   "execution_count": 31,
   "metadata": {},
   "outputs": [
    {
     "name": "stdout",
     "output_type": "stream",
     "text": [
      "rf-CV AUC is 0.88540\n",
      "lr-CV AUC is 0.88061\n",
      "cb-CV AUC is 0.89192\n",
      "xgb-CV AUC is 0.89154\n"
     ]
    },
    {
     "data": {
      "image/png": "[encoded data removed]",
      "text/plain": [
       "<Figure size 432x288 with 2 Axes>"
      ]
     },
     "metadata": {
      "needs_background": "light"
     },
     "output_type": "display_data"
    },
    {
     "name": "stdout",
     "output_type": "stream",
     "text": [
      "Ensemble-CV: 0.897319+0.0006144574842900049\n",
      "best nrounds: 52\n",
      "Ensemble-test 0.89315\n"
     ]
    },
    {
     "name": "stderr",
     "output_type": "stream",
     "text": [
      "[I 2020-03-13 02:16:03,347] Finished trial#0 resulted in value: 0.8931470616003745. Current best value is 0.8931470616003745 with parameters: {'lr_C': 0.08699007805103132, 'xgb_max_depth': 7, 'xgb_subsample': 0.55, 'xgb_scale_pos_weight': 0.8, 'xgb_colsample_bytree': 0.6, 'xgb_colsample_bynode': 0.5, 'xgb_colsample_bylevel': 0.7, 'cb_depth': 7, 'cb_l2_leaf_reg': 11, 'cb_subsample': 0.7}.\n"
     ]
    },
    {
     "name": "stdout",
     "output_type": "stream",
     "text": [
      "rf-CV AUC is 0.88540\n",
      "lr-CV AUC is 0.88048\n",
      "cb-CV AUC is 0.89154\n",
      "xgb-CV AUC is 0.89194\n"
     ]
    },
    {
     "data": {
      "image/png": "[encoded data removed]",
      "text/plain": [
       "<Figure size 432x288 with 2 Axes>"
      ]
     },
     "metadata": {
      "needs_background": "light"
     },
     "output_type": "display_data"
    },
    {
     "name": "stdout",
     "output_type": "stream",
     "text": [
      "Ensemble-CV: 0.8979650000000001+0.0005974596220666556\n",
      "best nrounds: 61\n",
      "Ensemble-test 0.89357\n"
     ]
    },
    {
     "name": "stderr",
     "output_type": "stream",
     "text": [
      "[I 2020-03-13 02:19:06,240] Finished trial#1 resulted in value: 0.89356936188794. Current best value is 0.8931470616003745 with parameters: {'lr_C': 0.08699007805103132, 'xgb_max_depth': 7, 'xgb_subsample': 0.55, 'xgb_scale_pos_weight': 0.8, 'xgb_colsample_bytree': 0.6, 'xgb_colsample_bynode': 0.5, 'xgb_colsample_bylevel': 0.7, 'cb_depth': 7, 'cb_l2_leaf_reg': 11, 'cb_subsample': 0.7}.\n"
     ]
    },
    {
     "name": "stdout",
     "output_type": "stream",
     "text": [
      "rf-CV AUC is 0.88540\n",
      "lr-CV AUC is 0.87996\n",
      "cb-CV AUC is 0.89056\n",
      "xgb-CV AUC is 0.89034\n"
     ]
    },
    {
     "data": {
      "image/png": "[encoded data removed]",
      "text/plain": [
       "<Figure size 432x288 with 2 Axes>"
      ]
     },
     "metadata": {
      "needs_background": "light"
     },
     "output_type": "display_data"
    },
    {
     "name": "stdout",
     "output_type": "stream",
     "text": [
      "Ensemble-CV: 0.8969490000000001+0.00026924090823402484\n",
      "best nrounds: 58\n",
      "Ensemble-test 0.89279\n"
     ]
    },
    {
     "name": "stderr",
     "output_type": "stream",
     "text": [
      "[I 2020-03-13 02:29:02,277] Finished trial#2 resulted in value: 0.8927854903364634. Current best value is 0.8927854903364634 with parameters: {'lr_C': 0.14834030787512134, 'xgb_max_depth': 9, 'xgb_subsample': 0.8500000000000001, 'xgb_scale_pos_weight': 1.0, 'xgb_colsample_bytree': 0.8, 'xgb_colsample_bynode': 0.5, 'xgb_colsample_bylevel': 0.6, 'cb_depth': 12, 'cb_l2_leaf_reg': 19, 'cb_subsample': 0.6}.\n"
     ]
    },
    {
     "data": {
      "text/plain": [
       "{'lr_C': 0.14834030787512134,\n",
       " 'xgb_max_depth': 9,\n",
       " 'xgb_subsample': 0.8500000000000001,\n",
       " 'xgb_scale_pos_weight': 1.0,\n",
       " 'xgb_colsample_bytree': 0.8,\n",
       " 'xgb_colsample_bynode': 0.5,\n",
       " 'xgb_colsample_bylevel': 0.6,\n",
       " 'cb_depth': 12,\n",
       " 'cb_l2_leaf_reg': 19,\n",
       " 'cb_subsample': 0.6}"
      ]
     },
     "execution_count": 31,
     "metadata": {},
     "output_type": "execute_result"
    }
   ],
   "source": [
    "study = optuna.create_study()\n",
    "study.optimize(objective, n_trials=3)\n",
    "study.best_params"
   ]
  },
  {
   "cell_type": "code",
   "execution_count": 38,
   "metadata": {},
   "outputs": [
    {
     "data": {
      "text/html": [
       "<div>\n",
       "<style scoped>\n",
       "    .dataframe tbody tr th:only-of-type {\n",
       "        vertical-align: middle;\n",
       "    }\n",
       "\n",
       "    .dataframe tbody tr th {\n",
       "        vertical-align: top;\n",
       "    }\n",
       "\n",
       "    .dataframe thead th {\n",
       "        text-align: right;\n",
       "    }\n",
       "</style>\n",
       "<table border=\"1\" class=\"dataframe\">\n",
       "  <thead>\n",
       "    <tr style=\"text-align: right;\">\n",
       "      <th></th>\n",
       "      <th>number</th>\n",
       "      <th>value</th>\n",
       "      <th>datetime_start</th>\n",
       "      <th>datetime_complete</th>\n",
       "      <th>params_cb_depth</th>\n",
       "      <th>params_cb_l2_leaf_reg</th>\n",
       "      <th>params_cb_subsample</th>\n",
       "      <th>params_lr_C</th>\n",
       "      <th>params_xgb_colsample_bylevel</th>\n",
       "      <th>params_xgb_colsample_bynode</th>\n",
       "      <th>params_xgb_colsample_bytree</th>\n",
       "      <th>params_xgb_max_depth</th>\n",
       "      <th>params_xgb_scale_pos_weight</th>\n",
       "      <th>params_xgb_subsample</th>\n",
       "      <th>system_attrs__number</th>\n",
       "      <th>state</th>\n",
       "    </tr>\n",
       "  </thead>\n",
       "  <tbody>\n",
       "    <tr>\n",
       "      <th>0</th>\n",
       "      <td>0</td>\n",
       "      <td>0.893147</td>\n",
       "      <td>2020-03-13 02:14:19.368127</td>\n",
       "      <td>2020-03-13 02:16:03.347513</td>\n",
       "      <td>7</td>\n",
       "      <td>11</td>\n",
       "      <td>0.7</td>\n",
       "      <td>0.086990</td>\n",
       "      <td>0.7</td>\n",
       "      <td>0.5</td>\n",
       "      <td>0.6</td>\n",
       "      <td>7</td>\n",
       "      <td>0.8</td>\n",
       "      <td>0.55</td>\n",
       "      <td>0</td>\n",
       "      <td>COMPLETE</td>\n",
       "    </tr>\n",
       "    <tr>\n",
       "      <th>1</th>\n",
       "      <td>1</td>\n",
       "      <td>0.893569</td>\n",
       "      <td>2020-03-13 02:16:03.350147</td>\n",
       "      <td>2020-03-13 02:19:06.240089</td>\n",
       "      <td>10</td>\n",
       "      <td>8</td>\n",
       "      <td>0.7</td>\n",
       "      <td>0.104069</td>\n",
       "      <td>0.5</td>\n",
       "      <td>0.7</td>\n",
       "      <td>0.8</td>\n",
       "      <td>10</td>\n",
       "      <td>0.2</td>\n",
       "      <td>0.95</td>\n",
       "      <td>1</td>\n",
       "      <td>COMPLETE</td>\n",
       "    </tr>\n",
       "    <tr>\n",
       "      <th>2</th>\n",
       "      <td>2</td>\n",
       "      <td>0.892785</td>\n",
       "      <td>2020-03-13 02:19:06.243527</td>\n",
       "      <td>2020-03-13 02:29:02.276629</td>\n",
       "      <td>12</td>\n",
       "      <td>19</td>\n",
       "      <td>0.6</td>\n",
       "      <td>0.148340</td>\n",
       "      <td>0.6</td>\n",
       "      <td>0.5</td>\n",
       "      <td>0.8</td>\n",
       "      <td>9</td>\n",
       "      <td>1.0</td>\n",
       "      <td>0.85</td>\n",
       "      <td>2</td>\n",
       "      <td>COMPLETE</td>\n",
       "    </tr>\n",
       "  </tbody>\n",
       "</table>\n",
       "</div>"
      ],
      "text/plain": [
       "   number     value             datetime_start          datetime_complete  \\\n",
       "0       0  0.893147 2020-03-13 02:14:19.368127 2020-03-13 02:16:03.347513   \n",
       "1       1  0.893569 2020-03-13 02:16:03.350147 2020-03-13 02:19:06.240089   \n",
       "2       2  0.892785 2020-03-13 02:19:06.243527 2020-03-13 02:29:02.276629   \n",
       "\n",
       "   params_cb_depth  params_cb_l2_leaf_reg  params_cb_subsample  params_lr_C  \\\n",
       "0                7                     11                  0.7     0.086990   \n",
       "1               10                      8                  0.7     0.104069   \n",
       "2               12                     19                  0.6     0.148340   \n",
       "\n",
       "   params_xgb_colsample_bylevel  params_xgb_colsample_bynode  \\\n",
       "0                           0.7                          0.5   \n",
       "1                           0.5                          0.7   \n",
       "2                           0.6                          0.5   \n",
       "\n",
       "   params_xgb_colsample_bytree  params_xgb_max_depth  \\\n",
       "0                          0.6                     7   \n",
       "1                          0.8                    10   \n",
       "2                          0.8                     9   \n",
       "\n",
       "   params_xgb_scale_pos_weight  params_xgb_subsample  system_attrs__number  \\\n",
       "0                          0.8                  0.55                     0   \n",
       "1                          0.2                  0.95                     1   \n",
       "2                          1.0                  0.85                     2   \n",
       "\n",
       "      state  \n",
       "0  COMPLETE  \n",
       "1  COMPLETE  \n",
       "2  COMPLETE  "
      ]
     },
     "execution_count": 38,
     "metadata": {},
     "output_type": "execute_result"
    }
   ],
   "source": [
    "study.trials_dataframe().to_csv(\"optuna_result0.csv\")"
   ]
  },
  {
   "cell_type": "code",
   "execution_count": null,
   "metadata": {},
   "outputs": [],
   "source": []
  },
  {
   "cell_type": "code",
   "execution_count": null,
   "metadata": {},
   "outputs": [],
   "source": []
  }
 ],
 "metadata": {
  "kernelspec": {
   "display_name": "Python 3",
   "language": "python",
   "name": "python3"
  },
  "language_info": {
   "codemirror_mode": {
    "name": "ipython",
    "version": 3
   },
   "file_extension": ".py",
   "mimetype": "text/x-python",
   "name": "python",
   "nbconvert_exporter": "python",
   "pygments_lexer": "ipython3",
   "version": "3.7.6"
  }
 },
 "nbformat": 4,
 "nbformat_minor": 2
}
