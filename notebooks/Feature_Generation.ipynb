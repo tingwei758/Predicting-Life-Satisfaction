{
 "cells": [
  {
   "cell_type": "code",
   "execution_count": 2,
   "metadata": {},
   "outputs": [],
   "source": [
    "SEED = 123321\n",
    "MISSING = -9999"
   ]
  },
  {
   "cell_type": "code",
   "execution_count": 1,
   "metadata": {},
   "outputs": [],
   "source": [
    "import pandas as pd\n",
    "import numpy as np\n",
    "import matplotlib.pyplot as plt\n",
    "from sklearn.ensemble import ExtraTreesClassifier"
   ]
  },
  {
   "cell_type": "code",
   "execution_count": 4,
   "metadata": {},
   "outputs": [
    {
     "name": "stderr",
     "output_type": "stream",
     "text": [
      "/Users/tingwei758/opt/anaconda3/envs/kaggle/lib/python3.7/site-packages/IPython/core/interactiveshell.py:3063: DtypeWarning: Columns (3,4,6,10,12,18,24,35,56,57,65,85,86,87,88,89,98,99,100,105,124,125,126,127,128,130,131,133,166,171,172,192,193,194,195,204,205,206,207,228,229,230,240,256,257,258,259,260,261,262) have mixed types.Specify dtype option on import or set low_memory=False.\n",
      "  interactivity=interactivity, compiler=compiler, result=result)\n",
      "/Users/tingwei758/opt/anaconda3/envs/kaggle/lib/python3.7/site-packages/IPython/core/interactiveshell.py:3063: DtypeWarning: Columns (3,6,10,12,21,24,35,85,87,88,89,100,124,126,127,128,130,131,133,166,172,177,193,194,195,205,206,207,220,222,228,229,230,240,257,258,260,261,262) have mixed types.Specify dtype option on import or set low_memory=False.\n",
      "  interactivity=interactivity, compiler=compiler, result=result)\n"
     ]
    }
   ],
   "source": [
    "df_train = pd.read_csv(\"../data/interim/train.csv\")\n",
    "df_test = pd.read_csv(\"../data/interim/test.csv\")"
   ]
  },
  {
   "cell_type": "code",
   "execution_count": 5,
   "metadata": {},
   "outputs": [],
   "source": [
    "# explicitly categorical features\n",
    "categorical = ['v17', 'v20', 'v25', 'v78', 'v154', 'v155', 'v161', 'cntry']\n",
    "\n",
    "# implicitly categorical features\n",
    "categorical2 = ['v70', 'v71', 'v72', 'v73', 'v102', 'v103','v158', 'v159', 'v160', \n",
    "                'v163', 'v164', 'v169', 'v170', 'v190', 'v191','v216', 'v231']\n",
    "\n",
    "# yes-no features\n",
    "yes_no_cols = ['v6', 'v7', 'v8', 'v9', 'v10', 'v11', 'v14', 'v18', 'v21', 'v22', 'v23',\n",
    "               'v24', 'v43', 'v53', 'v77', 'v105', 'v108', 'v152', 'v157', 'v162',\n",
    "               'v165', 'v172', 'v173', 'v187', 'v188', 'v221', 'v241', 'v242', 'v243',\n",
    "               'v248', 'v254', 'v256', 'v257']\n",
    "\n",
    "# special features\n",
    "education_encoding1 = ['v56', 'v58', 'v60', 'v62']\n",
    "education_encoding2 = ['v57', 'v59', 'v61', 'v63']\n",
    "\n",
    "occupation_encoding = ['v150', 'v151']"
   ]
  },
  {
   "cell_type": "code",
   "execution_count": 6,
   "metadata": {},
   "outputs": [],
   "source": [
    "df_train['test'] = 0\n",
    "df_test['test'] = 1"
   ]
  },
  {
   "cell_type": "code",
   "execution_count": 7,
   "metadata": {},
   "outputs": [],
   "source": [
    "df = pd.concat([df_train, df_test]).reset_index(drop=True)\n",
    "df = df.set_index('id')"
   ]
  },
  {
   "cell_type": "code",
   "execution_count": 10,
   "metadata": {},
   "outputs": [],
   "source": [
    "# create happiness ratio feature\n",
    "df['v98'] = pd.to_numeric(df['v98'], 'coerce') # happiness\n",
    "df['happiness_ratio_cntry'] = df['v98'] / df.groupby('cntry')['v98'].transform(np.mean)"
   ]
  },
  {
   "cell_type": "code",
   "execution_count": 12,
   "metadata": {},
   "outputs": [],
   "source": [
    "# binarize yes-no features\n",
    "df[yes_no_cols] = df[yes_no_cols].replace(to_replace=['2', 2], value=0)\n",
    "df[yes_no_cols] = df[yes_no_cols].replace(to_replace=['1', 1], value=1)"
   ]
  },
  {
   "cell_type": "code",
   "execution_count": 13,
   "metadata": {},
   "outputs": [],
   "source": [
    "# special missing values in education encoding\n",
    "for col in education_encoding1:\n",
    "    df[col] = pd.to_numeric(df[col], 'coerce')\n",
    "    df[col] = df[col].replace({55:np.nan})\n",
    "\n",
    "for col in education_encoding2:\n",
    "    df[col] = pd.to_numeric(df[col], 'coerce')\n",
    "    df[col] = df[col].replace({5555:np.nan})"
   ]
  },
  {
   "cell_type": "code",
   "execution_count": 14,
   "metadata": {},
   "outputs": [],
   "source": [
    "# take first 2 digit of occupation encoding\n",
    "for col in occupation_encoding:\n",
    "    df[col] = df[col].apply(lambda x: x[:2])"
   ]
  },
  {
   "cell_type": "code",
   "execution_count": 15,
   "metadata": {},
   "outputs": [],
   "source": [
    "one_hot = categorical + categorical2 + occupation_encoding\n",
    "numeric = [col for col in df.columns if col not in one_hot + ['id', 'satisfied', 'test']]"
   ]
  },
  {
   "cell_type": "code",
   "execution_count": 17,
   "metadata": {},
   "outputs": [],
   "source": [
    "# apply one-hot encoding\n",
    "for col in one_hot:\n",
    "    df[col] = pd.Categorical(df[col])\n",
    "df_encoded = pd.get_dummies(df, columns=one_hot, drop_first=True)"
   ]
  },
  {
   "cell_type": "code",
   "execution_count": 18,
   "metadata": {},
   "outputs": [],
   "source": [
    "# normalize and impute missing\n",
    "df_encoded = df_encoded.apply(pd.to_numeric, args=('coerce',))\n",
    "df_encoded = df_encoded.drop(columns=df_encoded.nunique()[df_encoded.nunique() <= 1].index)\n",
    "df_encoded -= df_encoded.min()\n",
    "df_encoded /= df_encoded.max()\n",
    "df_encoded = df_encoded.fillna(MISSING)"
   ]
  },
  {
   "cell_type": "code",
   "execution_count": 25,
   "metadata": {},
   "outputs": [],
   "source": [
    "# feature selection using Extremely Randomized Tree\n",
    "et = ExtraTreesClassifier(n_estimators=800, random_state=SEED)\n",
    "X = df_encoded[df_encoded['test'] == 0].drop(columns=['satisfied','test'])\n",
    "y = df_encoded[df_encoded['test'] == 0]['satisfied']\n",
    "et.fit(X, y)"
   ]
  },
  {
   "cell_type": "code",
   "execution_count": 29,
   "metadata": {},
   "outputs": [],
   "source": [
    "feature_importance = pd.DataFrame(np.array([X.columns, et.feature_importances_]).T, \n",
    "                                  columns=['feature', 'importance']) \\\n",
    "                                .sort_values('importance', ascending=False) \\\n",
    "                                .reset_index(drop=True)"
   ]
  },
  {
   "cell_type": "code",
   "execution_count": 31,
   "metadata": {},
   "outputs": [],
   "source": [
    "# keep only top 350 important features\n",
    "non_important_cols = feature_importance[350:]['feature']\n",
    "df_encoded = df_encoded.drop(columns=non_important_cols)\n",
    "df_encoded.shape"
   ]
  },
  {
   "cell_type": "code",
   "execution_count": 34,
   "metadata": {},
   "outputs": [],
   "source": [
    "# save data to csv\n",
    "df_encoded.to_csv(\"../data/processed/data_encoded_stacking_final.csv\", index=True)"
   ]
  }
 ],
 "metadata": {
  "kernelspec": {
   "display_name": "Python 3",
   "language": "python",
   "name": "python3"
  },
  "language_info": {
   "codemirror_mode": {
    "name": "ipython",
    "version": 3
   },
   "file_extension": ".py",
   "mimetype": "text/x-python",
   "name": "python",
   "nbconvert_exporter": "python",
   "pygments_lexer": "ipython3",
   "version": "3.7.6"
  }
 },
 "nbformat": 4,
 "nbformat_minor": 2
}
