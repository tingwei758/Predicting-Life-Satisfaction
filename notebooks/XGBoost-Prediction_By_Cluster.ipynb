{
 "cells": [
  {
   "cell_type": "code",
   "execution_count": 15,
   "metadata": {},
   "outputs": [],
   "source": [
    "import pandas as pd\n",
    "import numpy as np\n",
    "from matplotlib import pyplot as plt\n",
    "import xgboost as xgb\n",
    "from sklearn.model_selection import StratifiedKFold, RandomizedSearchCV, train_test_split\n",
    "from sklearn.metrics import *"
   ]
  },
  {
   "cell_type": "code",
   "execution_count": 16,
   "metadata": {},
   "outputs": [],
   "source": [
    "MISSING = -9999"
   ]
  },
  {
   "cell_type": "code",
   "execution_count": 17,
   "metadata": {},
   "outputs": [],
   "source": [
    "df = pd.read_csv(\"../data/processed/data_encoded_by_cluster.csv\")"
   ]
  },
  {
   "cell_type": "code",
   "execution_count": 18,
   "metadata": {},
   "outputs": [
    {
     "data": {
      "text/plain": [
       "(39325, 1567)"
      ]
     },
     "execution_count": 18,
     "metadata": {},
     "output_type": "execute_result"
    }
   ],
   "source": [
    "df.shape"
   ]
  },
  {
   "cell_type": "code",
   "execution_count": null,
   "metadata": {},
   "outputs": [],
   "source": []
  },
  {
   "cell_type": "code",
   "execution_count": 20,
   "metadata": {},
   "outputs": [],
   "source": [
    "df_train = df[df[\"test\"] == 0].drop(columns=[\"test\"]).set_index(\"id\")\n",
    "df_test = df[df[\"test\"] == 1].drop(columns=[\"test\"]).set_index(\"id\")"
   ]
  },
  {
   "cell_type": "code",
   "execution_count": 30,
   "metadata": {},
   "outputs": [],
   "source": [
    "params = {\n",
    "    'subsample': 1.0,\n",
    "    'scale_pos_weight': 1.0,\n",
    "    'max_depth': 2,\n",
    "    'colsample_bytree': 0.5,\n",
    "    'colsample_bynode': 1.0,\n",
    "    'colsample_bylevel': 0.5\n",
    "}"
   ]
  },
  {
   "cell_type": "code",
   "execution_count": 39,
   "metadata": {},
   "outputs": [
    {
     "name": "stdout",
     "output_type": "stream",
     "text": [
      "Cluster 0\n",
      "Train AUC 0.9130239035239053\n",
      "Test AUC 0.890936826178196\n",
      "Cluster 1\n",
      "Train AUC 0.8948241280051308\n",
      "Test AUC 0.8840726952255309\n",
      "Cluster 2\n",
      "Train AUC 0.8831543437375684\n",
      "Test AUC 0.8619501923676822\n"
     ]
    }
   ],
   "source": [
    "models = []\n",
    "y_pred_test_all = []\n",
    "y_prob_test_all = []\n",
    "y_true_test_all = []\n",
    "for i in range(3):\n",
    "    df_train_sub = df_train[df_train[\"cluster\"] == i].drop(columns=\"cluster\")\n",
    "    \n",
    "    X = df_train_sub.drop(columns=[\"satisfied\"])\n",
    "    y = df_train_sub[\"satisfied\"]\n",
    "    \n",
    "    X_train, X_test, y_train, y_test = train_test_split(X, y, test_size=0.30, random_state=1001)\n",
    "\n",
    "    final_model = xgb.XGBClassifier(\n",
    "                                    learning_rate=0.1,\n",
    "                                    objective='binary:logistic',\n",
    "                                    silent=True, \n",
    "                                    missing=MISSING,\n",
    "                                    nthread=8,\n",
    "                                    **params\n",
    "                                    )\n",
    "    final_model.fit(X_train, y_train)\n",
    "    models.append(final_model)\n",
    "    \n",
    "    y_pred_train = final_model.predict(X_train)\n",
    "    y_prob_train = final_model.predict_proba(X_train)[:,1]\n",
    "    \n",
    "    y_pred_test = final_model.predict(X_test)\n",
    "    y_prob_test = final_model.predict_proba(X_test)[:,1]\n",
    "    \n",
    "    y_pred_test_all += list(y_pred_test)\n",
    "    y_prob_test_all += list(y_prob_test)\n",
    "    y_true_test_all += list(y_test)\n",
    "\n",
    "    \n",
    "    print(\"Cluster {}\".format(i))\n",
    "    print(\"Train AUC {}\".format(roc_auc_score(y_train, y_prob_train)))\n",
    "    print(\"Test AUC {}\".format(roc_auc_score(y_test, y_prob_test)))"
   ]
  },
  {
   "cell_type": "code",
   "execution_count": 44,
   "metadata": {},
   "outputs": [
    {
     "data": {
      "text/plain": [
       "id\n",
       "14061    2\n",
       "16467    2\n",
       "25725    2\n",
       "9100     2\n",
       "32597    2\n",
       "        ..\n",
       "31430    1\n",
       "3876     1\n",
       "20710    1\n",
       "26015    1\n",
       "12970    1\n",
       "Name: cluster, Length: 9245, dtype: int64"
      ]
     },
     "execution_count": 44,
     "metadata": {},
     "output_type": "execute_result"
    }
   ],
   "source": [
    "df_test['cluster']"
   ]
  },
  {
   "cell_type": "code",
   "execution_count": 41,
   "metadata": {},
   "outputs": [
    {
     "data": {
      "text/plain": [
       "0.8898069154857007"
      ]
     },
     "execution_count": 41,
     "metadata": {},
     "output_type": "execute_result"
    }
   ],
   "source": [
    "roc_auc_score(y_true_test_all, y_prob_test_all)"
   ]
  },
  {
   "cell_type": "code",
   "execution_count": 55,
   "metadata": {},
   "outputs": [
    {
     "name": "stdout",
     "output_type": "stream",
     "text": [
      "id\n",
      "15244    0.353246\n",
      "15201    0.841937\n",
      "35019    0.927993\n",
      "35478    0.478105\n",
      "21430    0.809919\n",
      "           ...   \n",
      "33230    0.912860\n",
      "813      0.176030\n",
      "8555     0.817406\n",
      "27356    0.834357\n",
      "30586    0.448351\n",
      "Length: 3685, dtype: float32\n",
      "id\n",
      "36533    0.067620\n",
      "6076     0.503846\n",
      "21346    0.604539\n",
      "18531    0.948192\n",
      "15028    0.262110\n",
      "           ...   \n",
      "31430    0.811032\n",
      "3876     0.546006\n",
      "20710    0.628674\n",
      "26015    0.780939\n",
      "12970    0.069664\n",
      "Length: 2439, dtype: float32\n",
      "id\n",
      "14061    0.145684\n",
      "16467    0.121243\n",
      "25725    0.873401\n",
      "9100     0.799440\n",
      "32597    0.663577\n",
      "           ...   \n",
      "21983    0.131850\n",
      "4850     0.842680\n",
      "32103    0.307679\n",
      "20723    0.381324\n",
      "34038    0.829747\n",
      "Length: 3121, dtype: float32\n"
     ]
    }
   ],
   "source": [
    "y_prob_final_all = []\n",
    "for i in range(3):\n",
    "    df_test_sub = df_test[df_test['cluster'] == i].drop(columns='cluster')\n",
    "    X_final = df_test_sub.drop(columns=[\"satisfied\"])\n",
    "    y_pred_final = models[i].predict(X_final)\n",
    "    y_prob_final = models[i].predict_proba(X_final)[:,1]\n",
    "    print(pd.Series(y_prob_final, index=X_final.index))\n",
    "    y_prob_final_all.append(pd.Series(y_prob_final, index=X_final.index))"
   ]
  },
  {
   "cell_type": "code",
   "execution_count": 64,
   "metadata": {},
   "outputs": [],
   "source": [
    "y_result = pd.concat(y_prob_final_all)"
   ]
  },
  {
   "cell_type": "code",
   "execution_count": 76,
   "metadata": {},
   "outputs": [],
   "source": [
    "df_result = pd.DataFrame(y_result, columns=[\"Predicted\"])"
   ]
  },
  {
   "cell_type": "code",
   "execution_count": 79,
   "metadata": {},
   "outputs": [],
   "source": [
    "df_result = df_result.loc[df_test.index]"
   ]
  },
  {
   "cell_type": "code",
   "execution_count": 80,
   "metadata": {},
   "outputs": [],
   "source": [
    "df_result[\"Id\"] = df_result.index"
   ]
  },
  {
   "cell_type": "code",
   "execution_count": 81,
   "metadata": {},
   "outputs": [],
   "source": [
    "df_result = df_result.reset_index(drop=True)"
   ]
  },
  {
   "cell_type": "code",
   "execution_count": 82,
   "metadata": {},
   "outputs": [
    {
     "data": {
      "text/html": [
       "<div>\n",
       "<style scoped>\n",
       "    .dataframe tbody tr th:only-of-type {\n",
       "        vertical-align: middle;\n",
       "    }\n",
       "\n",
       "    .dataframe tbody tr th {\n",
       "        vertical-align: top;\n",
       "    }\n",
       "\n",
       "    .dataframe thead th {\n",
       "        text-align: right;\n",
       "    }\n",
       "</style>\n",
       "<table border=\"1\" class=\"dataframe\">\n",
       "  <thead>\n",
       "    <tr style=\"text-align: right;\">\n",
       "      <th></th>\n",
       "      <th>Id</th>\n",
       "      <th>Predicted</th>\n",
       "    </tr>\n",
       "  </thead>\n",
       "  <tbody>\n",
       "    <tr>\n",
       "      <td>0</td>\n",
       "      <td>14061</td>\n",
       "      <td>0.145684</td>\n",
       "    </tr>\n",
       "    <tr>\n",
       "      <td>1</td>\n",
       "      <td>16467</td>\n",
       "      <td>0.121243</td>\n",
       "    </tr>\n",
       "    <tr>\n",
       "      <td>2</td>\n",
       "      <td>25725</td>\n",
       "      <td>0.873401</td>\n",
       "    </tr>\n",
       "    <tr>\n",
       "      <td>3</td>\n",
       "      <td>9100</td>\n",
       "      <td>0.799440</td>\n",
       "    </tr>\n",
       "    <tr>\n",
       "      <td>4</td>\n",
       "      <td>32597</td>\n",
       "      <td>0.663577</td>\n",
       "    </tr>\n",
       "    <tr>\n",
       "      <td>...</td>\n",
       "      <td>...</td>\n",
       "      <td>...</td>\n",
       "    </tr>\n",
       "    <tr>\n",
       "      <td>9240</td>\n",
       "      <td>31430</td>\n",
       "      <td>0.811032</td>\n",
       "    </tr>\n",
       "    <tr>\n",
       "      <td>9241</td>\n",
       "      <td>3876</td>\n",
       "      <td>0.546006</td>\n",
       "    </tr>\n",
       "    <tr>\n",
       "      <td>9242</td>\n",
       "      <td>20710</td>\n",
       "      <td>0.628674</td>\n",
       "    </tr>\n",
       "    <tr>\n",
       "      <td>9243</td>\n",
       "      <td>26015</td>\n",
       "      <td>0.780939</td>\n",
       "    </tr>\n",
       "    <tr>\n",
       "      <td>9244</td>\n",
       "      <td>12970</td>\n",
       "      <td>0.069664</td>\n",
       "    </tr>\n",
       "  </tbody>\n",
       "</table>\n",
       "<p>9245 rows × 2 columns</p>\n",
       "</div>"
      ],
      "text/plain": [
       "         Id  Predicted\n",
       "0     14061   0.145684\n",
       "1     16467   0.121243\n",
       "2     25725   0.873401\n",
       "3      9100   0.799440\n",
       "4     32597   0.663577\n",
       "...     ...        ...\n",
       "9240  31430   0.811032\n",
       "9241   3876   0.546006\n",
       "9242  20710   0.628674\n",
       "9243  26015   0.780939\n",
       "9244  12970   0.069664\n",
       "\n",
       "[9245 rows x 2 columns]"
      ]
     },
     "execution_count": 82,
     "metadata": {},
     "output_type": "execute_result"
    }
   ],
   "source": [
    "df_result[[\"Id\", \"Predicted\"]]"
   ]
  },
  {
   "cell_type": "code",
   "execution_count": 83,
   "metadata": {},
   "outputs": [],
   "source": [
    "df_result[[\"Id\", \"Predicted\"]].to_csv(\"../data/result/result_03_05_submission1.csv\", index=False)"
   ]
  },
  {
   "cell_type": "code",
   "execution_count": null,
   "metadata": {},
   "outputs": [],
   "source": []
  },
  {
   "cell_type": "code",
   "execution_count": 8,
   "metadata": {},
   "outputs": [],
   "source": []
  },
  {
   "cell_type": "code",
   "execution_count": null,
   "metadata": {},
   "outputs": [],
   "source": []
  },
  {
   "cell_type": "code",
   "execution_count": null,
   "metadata": {},
   "outputs": [],
   "source": []
  },
  {
   "cell_type": "code",
   "execution_count": 12,
   "metadata": {},
   "outputs": [],
   "source": []
  },
  {
   "cell_type": "code",
   "execution_count": 13,
   "metadata": {},
   "outputs": [],
   "source": []
  },
  {
   "cell_type": "code",
   "execution_count": null,
   "metadata": {},
   "outputs": [],
   "source": []
  },
  {
   "cell_type": "code",
   "execution_count": 14,
   "metadata": {},
   "outputs": [
    {
     "data": {
      "text/plain": [
       "XGBClassifier(base_score=0.5, booster='gbtree', colsample_bylevel=0.5,\n",
       "              colsample_bynode=1.0, colsample_bytree=0.5, gamma=0,\n",
       "              learning_rate=0.1, max_delta_step=0, max_depth=5,\n",
       "              min_child_weight=1, missing=-9999, n_estimators=100, n_jobs=1,\n",
       "              nthread=8, objective='binary:logistic', random_state=0,\n",
       "              reg_alpha=0, reg_lambda=1, scale_pos_weight=1.0, seed=None,\n",
       "              silent=True, subsample=1.0, verbosity=1)"
      ]
     },
     "execution_count": 14,
     "metadata": {},
     "output_type": "execute_result"
    }
   ],
   "source": []
  },
  {
   "cell_type": "code",
   "execution_count": 15,
   "metadata": {},
   "outputs": [],
   "source": []
  },
  {
   "cell_type": "code",
   "execution_count": 16,
   "metadata": {},
   "outputs": [],
   "source": []
  },
  {
   "cell_type": "code",
   "execution_count": 17,
   "metadata": {},
   "outputs": [
    {
     "data": {
      "text/plain": [
       "(0.8897425457155363, 0.9321853513971671)"
      ]
     },
     "execution_count": 17,
     "metadata": {},
     "output_type": "execute_result"
    }
   ],
   "source": []
  },
  {
   "cell_type": "code",
   "execution_count": 18,
   "metadata": {},
   "outputs": [
    {
     "name": "stderr",
     "output_type": "stream",
     "text": [
      "No handles with labels found to put in legend.\n"
     ]
    },
    {
     "data": {
      "image/png": "[encoded data removed]",
      "text/plain": [
       "<Figure size 432x288 with 1 Axes>"
      ]
     },
     "metadata": {
      "needs_background": "light"
     },
     "output_type": "display_data"
    }
   ],
   "source": [
    "fpr, tpr, threshold = roc_curve(y_train, y_prob_train)\n",
    "plt.title('Receiver Operating Characteristic')\n",
    "plt.plot(fpr, tpr, 'b')\n",
    "plt.legend(loc = 'lower right')\n",
    "plt.plot([0, 1], [0, 1],'r--')\n",
    "plt.xlim([0, 1])\n",
    "plt.ylim([0, 1])\n",
    "plt.ylabel('True Positive Rate')\n",
    "plt.xlabel('False Positive Rate')\n",
    "plt.show()"
   ]
  },
  {
   "cell_type": "code",
   "execution_count": 19,
   "metadata": {},
   "outputs": [
    {
     "name": "stderr",
     "output_type": "stream",
     "text": [
      "No handles with labels found to put in legend.\n"
     ]
    },
    {
     "data": {
      "image/png": "[encoded data removed]",
      "text/plain": [
       "<Figure size 432x288 with 1 Axes>"
      ]
     },
     "metadata": {
      "needs_background": "light"
     },
     "output_type": "display_data"
    }
   ],
   "source": [
    "fpr, tpr, threshold = roc_curve(y_test, y_prob_test)\n",
    "plt.title('Receiver Operating Characteristic')\n",
    "plt.plot(fpr, tpr, 'b')\n",
    "plt.legend(loc = 'lower right')\n",
    "plt.plot([0, 1], [0, 1],'r--')\n",
    "plt.xlim([0, 1])\n",
    "plt.ylim([0, 1])\n",
    "plt.ylabel('True Positive Rate')\n",
    "plt.xlabel('False Positive Rate')\n",
    "plt.show()"
   ]
  },
  {
   "cell_type": "code",
   "execution_count": null,
   "metadata": {},
   "outputs": [],
   "source": []
  },
  {
   "cell_type": "code",
   "execution_count": 20,
   "metadata": {},
   "outputs": [
    {
     "data": {
      "text/plain": [
       "(0.8901941061759845, 0.9386534084249205)"
      ]
     },
     "execution_count": 20,
     "metadata": {},
     "output_type": "execute_result"
    }
   ],
   "source": [
    "(0.8901941061759845, 0.9386534084249205)  #5"
   ]
  },
  {
   "cell_type": "code",
   "execution_count": 21,
   "metadata": {},
   "outputs": [
    {
     "data": {
      "text/plain": [
       "(0.8901553362068626, 0.9203028581243273)"
      ]
     },
     "execution_count": 21,
     "metadata": {},
     "output_type": "execute_result"
    }
   ],
   "source": [
    "(0.8901553362068626, 0.9203028581243273) #4"
   ]
  },
  {
   "cell_type": "code",
   "execution_count": 22,
   "metadata": {},
   "outputs": [
    {
     "data": {
      "text/plain": [
       "(0.8896688507329076, 0.9068574909384938)"
      ]
     },
     "execution_count": 22,
     "metadata": {},
     "output_type": "execute_result"
    }
   ],
   "source": [
    "(0.8896688507329076, 0.9068574909384938) #3"
   ]
  },
  {
   "cell_type": "code",
   "execution_count": 23,
   "metadata": {},
   "outputs": [
    {
     "data": {
      "text/plain": [
       "(0.8879588067229542, 0.8971857360901431)"
      ]
     },
     "execution_count": 23,
     "metadata": {},
     "output_type": "execute_result"
    }
   ],
   "source": [
    "(0.8879588067229542, 0.8971857360901431) #2"
   ]
  },
  {
   "cell_type": "code",
   "execution_count": 24,
   "metadata": {},
   "outputs": [],
   "source": []
  },
  {
   "cell_type": "code",
   "execution_count": 25,
   "metadata": {},
   "outputs": [],
   "source": [
    "df_result = pd.DataFrame(y_prob_final, columns=[\"Predicted\"])"
   ]
  },
  {
   "cell_type": "code",
   "execution_count": null,
   "metadata": {},
   "outputs": [],
   "source": []
  },
  {
   "cell_type": "code",
   "execution_count": 26,
   "metadata": {},
   "outputs": [],
   "source": [
    "df_result[\"Id\"] = df_test.index"
   ]
  },
  {
   "cell_type": "code",
   "execution_count": 27,
   "metadata": {},
   "outputs": [
    {
     "data": {
      "text/html": [
       "<div>\n",
       "<style scoped>\n",
       "    .dataframe tbody tr th:only-of-type {\n",
       "        vertical-align: middle;\n",
       "    }\n",
       "\n",
       "    .dataframe tbody tr th {\n",
       "        vertical-align: top;\n",
       "    }\n",
       "\n",
       "    .dataframe thead th {\n",
       "        text-align: right;\n",
       "    }\n",
       "</style>\n",
       "<table border=\"1\" class=\"dataframe\">\n",
       "  <thead>\n",
       "    <tr style=\"text-align: right;\">\n",
       "      <th></th>\n",
       "      <th>Id</th>\n",
       "      <th>Predicted</th>\n",
       "    </tr>\n",
       "  </thead>\n",
       "  <tbody>\n",
       "    <tr>\n",
       "      <td>0</td>\n",
       "      <td>14061</td>\n",
       "      <td>0.075332</td>\n",
       "    </tr>\n",
       "    <tr>\n",
       "      <td>1</td>\n",
       "      <td>16467</td>\n",
       "      <td>0.075800</td>\n",
       "    </tr>\n",
       "    <tr>\n",
       "      <td>2</td>\n",
       "      <td>25725</td>\n",
       "      <td>0.945980</td>\n",
       "    </tr>\n",
       "    <tr>\n",
       "      <td>3</td>\n",
       "      <td>9100</td>\n",
       "      <td>0.817363</td>\n",
       "    </tr>\n",
       "    <tr>\n",
       "      <td>4</td>\n",
       "      <td>32597</td>\n",
       "      <td>0.618506</td>\n",
       "    </tr>\n",
       "    <tr>\n",
       "      <td>...</td>\n",
       "      <td>...</td>\n",
       "      <td>...</td>\n",
       "    </tr>\n",
       "    <tr>\n",
       "      <td>9240</td>\n",
       "      <td>31430</td>\n",
       "      <td>0.902512</td>\n",
       "    </tr>\n",
       "    <tr>\n",
       "      <td>9241</td>\n",
       "      <td>3876</td>\n",
       "      <td>0.541742</td>\n",
       "    </tr>\n",
       "    <tr>\n",
       "      <td>9242</td>\n",
       "      <td>20710</td>\n",
       "      <td>0.704785</td>\n",
       "    </tr>\n",
       "    <tr>\n",
       "      <td>9243</td>\n",
       "      <td>26015</td>\n",
       "      <td>0.785535</td>\n",
       "    </tr>\n",
       "    <tr>\n",
       "      <td>9244</td>\n",
       "      <td>12970</td>\n",
       "      <td>0.083991</td>\n",
       "    </tr>\n",
       "  </tbody>\n",
       "</table>\n",
       "<p>9245 rows × 2 columns</p>\n",
       "</div>"
      ],
      "text/plain": [
       "         Id  Predicted\n",
       "0     14061   0.075332\n",
       "1     16467   0.075800\n",
       "2     25725   0.945980\n",
       "3      9100   0.817363\n",
       "4     32597   0.618506\n",
       "...     ...        ...\n",
       "9240  31430   0.902512\n",
       "9241   3876   0.541742\n",
       "9242  20710   0.704785\n",
       "9243  26015   0.785535\n",
       "9244  12970   0.083991\n",
       "\n",
       "[9245 rows x 2 columns]"
      ]
     },
     "execution_count": 27,
     "metadata": {},
     "output_type": "execute_result"
    }
   ],
   "source": [
    "df_result[[\"Id\", \"Predicted\"]]"
   ]
  },
  {
   "cell_type": "code",
   "execution_count": 29,
   "metadata": {},
   "outputs": [],
   "source": [
    "df_result[[\"Id\", \"Predicted\"]].to_csv(\"../data/result/result_03_04_submission2.csv\", index=False)"
   ]
  },
  {
   "cell_type": "code",
   "execution_count": null,
   "metadata": {},
   "outputs": [],
   "source": []
  },
  {
   "cell_type": "code",
   "execution_count": 341,
   "metadata": {},
   "outputs": [
    {
     "data": {
      "text/plain": [
       "array([0.44119564, 0.28837988, 0.08958686, ..., 0.25904748, 0.06208896,\n",
       "       0.09483389], dtype=float32)"
      ]
     },
     "execution_count": 341,
     "metadata": {},
     "output_type": "execute_result"
    }
   ],
   "source": [
    "y_prob_test"
   ]
  },
  {
   "cell_type": "code",
   "execution_count": 347,
   "metadata": {},
   "outputs": [
    {
     "data": {
      "image/png": "[encoded data removed]",
      "text/plain": [
       "<Figure size 432x288 with 1 Axes>"
      ]
     },
     "metadata": {
      "needs_background": "light"
     },
     "output_type": "display_data"
    }
   ],
   "source": [
    "pos = y_prob_test[y_test.astype(bool).values]\n",
    "neg = y_prob_test[~(y_test.astype(bool).values)]\n",
    "\n",
    "bins = np.linspace(0, 1, 80)\n",
    "\n",
    "plt.hist(pos, bins, alpha=0.5, label='positive')\n",
    "plt.hist(neg, bins, alpha=0.5, label='negative')\n",
    "plt.legend(loc='upper right')\n",
    "plt.show()"
   ]
  },
  {
   "cell_type": "code",
   "execution_count": null,
   "metadata": {},
   "outputs": [],
   "source": []
  },
  {
   "cell_type": "code",
   "execution_count": 348,
   "metadata": {},
   "outputs": [
    {
     "name": "stderr",
     "output_type": "stream",
     "text": [
      "/Users/tingwei758/opt/anaconda3/envs/kaggle/lib/python3.7/site-packages/IPython/core/interactiveshell.py:3058: DtypeWarning: Columns (3,4,6,10,12,18,24,35,56,57,65,85,86,87,88,89,98,99,100,105,124,125,126,127,128,130,131,133,166,171,172,192,193,194,195,204,205,206,207,228,229,230,240,256,257,258,259,260,261,262) have mixed types. Specify dtype option on import or set low_memory=False.\n",
      "  interactivity=interactivity, compiler=compiler, result=result)\n"
     ]
    }
   ],
   "source": [
    "df_original = pd.read_csv(\"../data/interim/train.csv\")"
   ]
  },
  {
   "cell_type": "code",
   "execution_count": null,
   "metadata": {},
   "outputs": [],
   "source": []
  },
  {
   "cell_type": "code",
   "execution_count": 374,
   "metadata": {},
   "outputs": [],
   "source": [
    "df_ori = df_original.set_index(\"id\").loc[X_train.index]"
   ]
  },
  {
   "cell_type": "code",
   "execution_count": 375,
   "metadata": {},
   "outputs": [],
   "source": [
    "df_ori[\"pred\"] = y_pred_train\n",
    "df_ori[\"prob\"] = y_prob_train"
   ]
  },
  {
   "cell_type": "code",
   "execution_count": 376,
   "metadata": {},
   "outputs": [],
   "source": [
    "df_ori[\"correct\"] = (df_ori[\"satisfied\"] == df_ori[\"pred\"]).astype(int)"
   ]
  },
  {
   "cell_type": "code",
   "execution_count": 377,
   "metadata": {},
   "outputs": [
    {
     "data": {
      "text/html": [
       "<div>\n",
       "<style scoped>\n",
       "    .dataframe tbody tr th:only-of-type {\n",
       "        vertical-align: middle;\n",
       "    }\n",
       "\n",
       "    .dataframe tbody tr th {\n",
       "        vertical-align: top;\n",
       "    }\n",
       "\n",
       "    .dataframe thead th {\n",
       "        text-align: right;\n",
       "    }\n",
       "</style>\n",
       "<table border=\"1\" class=\"dataframe\">\n",
       "  <thead>\n",
       "    <tr style=\"text-align: right;\">\n",
       "      <th></th>\n",
       "      <th>v1</th>\n",
       "      <th>v2</th>\n",
       "      <th>v3</th>\n",
       "      <th>v4</th>\n",
       "      <th>v5</th>\n",
       "      <th>v6</th>\n",
       "      <th>v7</th>\n",
       "      <th>v8</th>\n",
       "      <th>v9</th>\n",
       "      <th>v10</th>\n",
       "      <th>...</th>\n",
       "      <th>v266</th>\n",
       "      <th>v267</th>\n",
       "      <th>v268</th>\n",
       "      <th>v269</th>\n",
       "      <th>v270</th>\n",
       "      <th>cntry</th>\n",
       "      <th>satisfied</th>\n",
       "      <th>pred</th>\n",
       "      <th>prob</th>\n",
       "      <th>correct</th>\n",
       "    </tr>\n",
       "    <tr>\n",
       "      <th>id</th>\n",
       "      <th></th>\n",
       "      <th></th>\n",
       "      <th></th>\n",
       "      <th></th>\n",
       "      <th></th>\n",
       "      <th></th>\n",
       "      <th></th>\n",
       "      <th></th>\n",
       "      <th></th>\n",
       "      <th></th>\n",
       "      <th></th>\n",
       "      <th></th>\n",
       "      <th></th>\n",
       "      <th></th>\n",
       "      <th></th>\n",
       "      <th></th>\n",
       "      <th></th>\n",
       "      <th></th>\n",
       "      <th></th>\n",
       "      <th></th>\n",
       "      <th></th>\n",
       "    </tr>\n",
       "  </thead>\n",
       "  <tbody>\n",
       "    <tr>\n",
       "      <td>16436</td>\n",
       "      <td>7</td>\n",
       "      <td>2</td>\n",
       "      <td>44</td>\n",
       "      <td>12040</td>\n",
       "      <td>.a</td>\n",
       "      <td>1</td>\n",
       "      <td>2</td>\n",
       "      <td>2</td>\n",
       "      <td>2</td>\n",
       "      <td>1</td>\n",
       "      <td>...</td>\n",
       "      <td>.a</td>\n",
       "      <td>.a</td>\n",
       "      <td>.a</td>\n",
       "      <td>NaN</td>\n",
       "      <td>NaN</td>\n",
       "      <td>NO</td>\n",
       "      <td>1</td>\n",
       "      <td>1.0</td>\n",
       "      <td>0.865028</td>\n",
       "      <td>1</td>\n",
       "    </tr>\n",
       "    <tr>\n",
       "      <td>5416</td>\n",
       "      <td>8</td>\n",
       "      <td>1</td>\n",
       "      <td>49</td>\n",
       "      <td>12020</td>\n",
       "      <td>.a</td>\n",
       "      <td>1</td>\n",
       "      <td>1</td>\n",
       "      <td>2</td>\n",
       "      <td>2</td>\n",
       "      <td>1</td>\n",
       "      <td>...</td>\n",
       "      <td>.a</td>\n",
       "      <td>.a</td>\n",
       "      <td>.a</td>\n",
       "      <td>.a</td>\n",
       "      <td>.a</td>\n",
       "      <td>FI</td>\n",
       "      <td>1</td>\n",
       "      <td>1.0</td>\n",
       "      <td>0.984691</td>\n",
       "      <td>1</td>\n",
       "    </tr>\n",
       "    <tr>\n",
       "      <td>39101</td>\n",
       "      <td>1</td>\n",
       "      <td>2</td>\n",
       "      <td>72</td>\n",
       "      <td>13060</td>\n",
       "      <td>.a</td>\n",
       "      <td>2</td>\n",
       "      <td>2</td>\n",
       "      <td>2</td>\n",
       "      <td>2</td>\n",
       "      <td>1</td>\n",
       "      <td>...</td>\n",
       "      <td>.a</td>\n",
       "      <td>.a</td>\n",
       "      <td>.a</td>\n",
       "      <td>.a</td>\n",
       "      <td>.a</td>\n",
       "      <td>PT</td>\n",
       "      <td>0</td>\n",
       "      <td>0.0</td>\n",
       "      <td>0.035139</td>\n",
       "      <td>1</td>\n",
       "    </tr>\n",
       "    <tr>\n",
       "      <td>28286</td>\n",
       "      <td>5</td>\n",
       "      <td>2</td>\n",
       "      <td>71</td>\n",
       "      <td>11030</td>\n",
       "      <td>.a</td>\n",
       "      <td>2</td>\n",
       "      <td>2</td>\n",
       "      <td>2</td>\n",
       "      <td>2</td>\n",
       "      <td>1</td>\n",
       "      <td>...</td>\n",
       "      <td>.a</td>\n",
       "      <td>.a</td>\n",
       "      <td>.a</td>\n",
       "      <td>.a</td>\n",
       "      <td>NaN</td>\n",
       "      <td>GB</td>\n",
       "      <td>0</td>\n",
       "      <td>0.0</td>\n",
       "      <td>0.110533</td>\n",
       "      <td>1</td>\n",
       "    </tr>\n",
       "    <tr>\n",
       "      <td>3419</td>\n",
       "      <td>5</td>\n",
       "      <td>2</td>\n",
       "      <td>73</td>\n",
       "      <td>11080</td>\n",
       "      <td>.a</td>\n",
       "      <td>2</td>\n",
       "      <td>2</td>\n",
       "      <td>2</td>\n",
       "      <td>2</td>\n",
       "      <td>1</td>\n",
       "      <td>...</td>\n",
       "      <td>.a</td>\n",
       "      <td>.a</td>\n",
       "      <td>.a</td>\n",
       "      <td>.a</td>\n",
       "      <td>.a</td>\n",
       "      <td>IE</td>\n",
       "      <td>0</td>\n",
       "      <td>0.0</td>\n",
       "      <td>0.103392</td>\n",
       "      <td>1</td>\n",
       "    </tr>\n",
       "    <tr>\n",
       "      <td>...</td>\n",
       "      <td>...</td>\n",
       "      <td>...</td>\n",
       "      <td>...</td>\n",
       "      <td>...</td>\n",
       "      <td>...</td>\n",
       "      <td>...</td>\n",
       "      <td>...</td>\n",
       "      <td>...</td>\n",
       "      <td>...</td>\n",
       "      <td>...</td>\n",
       "      <td>...</td>\n",
       "      <td>...</td>\n",
       "      <td>...</td>\n",
       "      <td>...</td>\n",
       "      <td>...</td>\n",
       "      <td>...</td>\n",
       "      <td>...</td>\n",
       "      <td>...</td>\n",
       "      <td>...</td>\n",
       "      <td>...</td>\n",
       "      <td>...</td>\n",
       "    </tr>\n",
       "    <tr>\n",
       "      <td>11995</td>\n",
       "      <td>1</td>\n",
       "      <td>2</td>\n",
       "      <td>71</td>\n",
       "      <td>11010</td>\n",
       "      <td>11010</td>\n",
       "      <td>2</td>\n",
       "      <td>2</td>\n",
       "      <td>2</td>\n",
       "      <td>2</td>\n",
       "      <td>1</td>\n",
       "      <td>...</td>\n",
       "      <td>.a</td>\n",
       "      <td>.a</td>\n",
       "      <td>.a</td>\n",
       "      <td>.a</td>\n",
       "      <td>NaN</td>\n",
       "      <td>AT</td>\n",
       "      <td>0</td>\n",
       "      <td>0.0</td>\n",
       "      <td>0.069247</td>\n",
       "      <td>1</td>\n",
       "    </tr>\n",
       "    <tr>\n",
       "      <td>16426</td>\n",
       "      <td>2</td>\n",
       "      <td>2</td>\n",
       "      <td>57</td>\n",
       "      <td>15040</td>\n",
       "      <td>.a</td>\n",
       "      <td>2</td>\n",
       "      <td>2</td>\n",
       "      <td>2</td>\n",
       "      <td>2</td>\n",
       "      <td>1</td>\n",
       "      <td>...</td>\n",
       "      <td>.a</td>\n",
       "      <td>.a</td>\n",
       "      <td>.a</td>\n",
       "      <td>.a</td>\n",
       "      <td>.a</td>\n",
       "      <td>HU</td>\n",
       "      <td>0</td>\n",
       "      <td>0.0</td>\n",
       "      <td>0.120433</td>\n",
       "      <td>1</td>\n",
       "    </tr>\n",
       "    <tr>\n",
       "      <td>14088</td>\n",
       "      <td>0</td>\n",
       "      <td>2</td>\n",
       "      <td>36</td>\n",
       "      <td>11050</td>\n",
       "      <td>11050</td>\n",
       "      <td>2</td>\n",
       "      <td>1</td>\n",
       "      <td>2</td>\n",
       "      <td>2</td>\n",
       "      <td>1</td>\n",
       "      <td>...</td>\n",
       "      <td>2010</td>\n",
       "      <td>.a</td>\n",
       "      <td>.a</td>\n",
       "      <td>.a</td>\n",
       "      <td>NaN</td>\n",
       "      <td>FR</td>\n",
       "      <td>0</td>\n",
       "      <td>0.0</td>\n",
       "      <td>0.454509</td>\n",
       "      <td>1</td>\n",
       "    </tr>\n",
       "    <tr>\n",
       "      <td>19902</td>\n",
       "      <td>1</td>\n",
       "      <td>1</td>\n",
       "      <td>36</td>\n",
       "      <td>21000</td>\n",
       "      <td>.a</td>\n",
       "      <td>2</td>\n",
       "      <td>2</td>\n",
       "      <td>2</td>\n",
       "      <td>1</td>\n",
       "      <td>1</td>\n",
       "      <td>...</td>\n",
       "      <td>.a</td>\n",
       "      <td>.a</td>\n",
       "      <td>.a</td>\n",
       "      <td>.a</td>\n",
       "      <td>.a</td>\n",
       "      <td>IL</td>\n",
       "      <td>1</td>\n",
       "      <td>1.0</td>\n",
       "      <td>0.937195</td>\n",
       "      <td>1</td>\n",
       "    </tr>\n",
       "    <tr>\n",
       "      <td>34278</td>\n",
       "      <td>3</td>\n",
       "      <td>2</td>\n",
       "      <td>32</td>\n",
       "      <td>15090</td>\n",
       "      <td>.a</td>\n",
       "      <td>2</td>\n",
       "      <td>2</td>\n",
       "      <td>2</td>\n",
       "      <td>1</td>\n",
       "      <td>2</td>\n",
       "      <td>...</td>\n",
       "      <td>.a</td>\n",
       "      <td>.a</td>\n",
       "      <td>.a</td>\n",
       "      <td>.a</td>\n",
       "      <td>NaN</td>\n",
       "      <td>GB</td>\n",
       "      <td>1</td>\n",
       "      <td>1.0</td>\n",
       "      <td>0.929386</td>\n",
       "      <td>1</td>\n",
       "    </tr>\n",
       "  </tbody>\n",
       "</table>\n",
       "<p>21056 rows × 275 columns</p>\n",
       "</div>"
      ],
      "text/plain": [
       "      v1 v2  v3     v4     v5 v6 v7 v8 v9 v10  ...  v266 v267 v268 v269  v270  \\\n",
       "id                                             ...                              \n",
       "16436  7  2  44  12040     .a  1  2  2  2   1  ...    .a   .a   .a  NaN   NaN   \n",
       "5416   8  1  49  12020     .a  1  1  2  2   1  ...    .a   .a   .a   .a    .a   \n",
       "39101  1  2  72  13060     .a  2  2  2  2   1  ...    .a   .a   .a   .a    .a   \n",
       "28286  5  2  71  11030     .a  2  2  2  2   1  ...    .a   .a   .a   .a   NaN   \n",
       "3419   5  2  73  11080     .a  2  2  2  2   1  ...    .a   .a   .a   .a    .a   \n",
       "...   .. ..  ..    ...    ... .. .. .. ..  ..  ...   ...  ...  ...  ...   ...   \n",
       "11995  1  2  71  11010  11010  2  2  2  2   1  ...    .a   .a   .a   .a   NaN   \n",
       "16426  2  2  57  15040     .a  2  2  2  2   1  ...    .a   .a   .a   .a    .a   \n",
       "14088  0  2  36  11050  11050  2  1  2  2   1  ...  2010   .a   .a   .a   NaN   \n",
       "19902  1  1  36  21000     .a  2  2  2  1   1  ...    .a   .a   .a   .a    .a   \n",
       "34278  3  2  32  15090     .a  2  2  2  1   2  ...    .a   .a   .a   .a   NaN   \n",
       "\n",
       "       cntry satisfied pred      prob correct  \n",
       "id                                             \n",
       "16436     NO         1  1.0  0.865028       1  \n",
       "5416      FI         1  1.0  0.984691       1  \n",
       "39101     PT         0  0.0  0.035139       1  \n",
       "28286     GB         0  0.0  0.110533       1  \n",
       "3419      IE         0  0.0  0.103392       1  \n",
       "...      ...       ...  ...       ...     ...  \n",
       "11995     AT         0  0.0  0.069247       1  \n",
       "16426     HU         0  0.0  0.120433       1  \n",
       "14088     FR         0  0.0  0.454509       1  \n",
       "19902     IL         1  1.0  0.937195       1  \n",
       "34278     GB         1  1.0  0.929386       1  \n",
       "\n",
       "[21056 rows x 275 columns]"
      ]
     },
     "execution_count": 377,
     "metadata": {},
     "output_type": "execute_result"
    }
   ],
   "source": [
    "df_ori"
   ]
  },
  {
   "cell_type": "code",
   "execution_count": null,
   "metadata": {},
   "outputs": [],
   "source": []
  },
  {
   "cell_type": "code",
   "execution_count": 353,
   "metadata": {},
   "outputs": [
    {
     "data": {
      "text/html": [
       "<div>\n",
       "<style scoped>\n",
       "    .dataframe tbody tr th:only-of-type {\n",
       "        vertical-align: middle;\n",
       "    }\n",
       "\n",
       "    .dataframe tbody tr th {\n",
       "        vertical-align: top;\n",
       "    }\n",
       "\n",
       "    .dataframe thead tr th {\n",
       "        text-align: left;\n",
       "    }\n",
       "\n",
       "    .dataframe thead tr:last-of-type th {\n",
       "        text-align: right;\n",
       "    }\n",
       "</style>\n",
       "<table border=\"1\" class=\"dataframe\">\n",
       "  <thead>\n",
       "    <tr>\n",
       "      <th></th>\n",
       "      <th colspan=\"2\" halign=\"left\">satisfied</th>\n",
       "      <th>correct</th>\n",
       "    </tr>\n",
       "    <tr>\n",
       "      <th></th>\n",
       "      <th>mean</th>\n",
       "      <th>count</th>\n",
       "      <th>mean</th>\n",
       "    </tr>\n",
       "    <tr>\n",
       "      <th>cntry</th>\n",
       "      <th></th>\n",
       "      <th></th>\n",
       "      <th></th>\n",
       "    </tr>\n",
       "  </thead>\n",
       "  <tbody>\n",
       "    <tr>\n",
       "      <td>AT</td>\n",
       "      <td>0.565036</td>\n",
       "      <td>961</td>\n",
       "      <td>0.862643</td>\n",
       "    </tr>\n",
       "    <tr>\n",
       "      <td>BE</td>\n",
       "      <td>0.750000</td>\n",
       "      <td>4</td>\n",
       "      <td>1.000000</td>\n",
       "    </tr>\n",
       "    <tr>\n",
       "      <td>CH</td>\n",
       "      <td>0.730178</td>\n",
       "      <td>845</td>\n",
       "      <td>0.871006</td>\n",
       "    </tr>\n",
       "    <tr>\n",
       "      <td>CZ</td>\n",
       "      <td>0.381435</td>\n",
       "      <td>1185</td>\n",
       "      <td>0.854008</td>\n",
       "    </tr>\n",
       "    <tr>\n",
       "      <td>DE</td>\n",
       "      <td>0.607143</td>\n",
       "      <td>1652</td>\n",
       "      <td>0.831114</td>\n",
       "    </tr>\n",
       "    <tr>\n",
       "      <td>DK</td>\n",
       "      <td>0.813760</td>\n",
       "      <td>843</td>\n",
       "      <td>0.920522</td>\n",
       "    </tr>\n",
       "    <tr>\n",
       "      <td>EE</td>\n",
       "      <td>0.358156</td>\n",
       "      <td>1128</td>\n",
       "      <td>0.836879</td>\n",
       "    </tr>\n",
       "    <tr>\n",
       "      <td>ES</td>\n",
       "      <td>0.458969</td>\n",
       "      <td>1048</td>\n",
       "      <td>0.818702</td>\n",
       "    </tr>\n",
       "    <tr>\n",
       "      <td>FI</td>\n",
       "      <td>0.724826</td>\n",
       "      <td>1152</td>\n",
       "      <td>0.863715</td>\n",
       "    </tr>\n",
       "    <tr>\n",
       "      <td>FR</td>\n",
       "      <td>0.399236</td>\n",
       "      <td>1047</td>\n",
       "      <td>0.812798</td>\n",
       "    </tr>\n",
       "    <tr>\n",
       "      <td>GB</td>\n",
       "      <td>0.509646</td>\n",
       "      <td>1244</td>\n",
       "      <td>0.845659</td>\n",
       "    </tr>\n",
       "    <tr>\n",
       "      <td>HU</td>\n",
       "      <td>0.240000</td>\n",
       "      <td>950</td>\n",
       "      <td>0.874737</td>\n",
       "    </tr>\n",
       "    <tr>\n",
       "      <td>IE</td>\n",
       "      <td>0.453210</td>\n",
       "      <td>1293</td>\n",
       "      <td>0.813612</td>\n",
       "    </tr>\n",
       "    <tr>\n",
       "      <td>IL</td>\n",
       "      <td>0.571530</td>\n",
       "      <td>1405</td>\n",
       "      <td>0.839146</td>\n",
       "    </tr>\n",
       "    <tr>\n",
       "      <td>LT</td>\n",
       "      <td>0.263993</td>\n",
       "      <td>1197</td>\n",
       "      <td>0.878864</td>\n",
       "    </tr>\n",
       "    <tr>\n",
       "      <td>NL</td>\n",
       "      <td>0.633523</td>\n",
       "      <td>1056</td>\n",
       "      <td>0.856061</td>\n",
       "    </tr>\n",
       "    <tr>\n",
       "      <td>NO</td>\n",
       "      <td>0.712435</td>\n",
       "      <td>772</td>\n",
       "      <td>0.869171</td>\n",
       "    </tr>\n",
       "    <tr>\n",
       "      <td>PL</td>\n",
       "      <td>0.483982</td>\n",
       "      <td>874</td>\n",
       "      <td>0.839817</td>\n",
       "    </tr>\n",
       "    <tr>\n",
       "      <td>PT</td>\n",
       "      <td>0.271429</td>\n",
       "      <td>700</td>\n",
       "      <td>0.872857</td>\n",
       "    </tr>\n",
       "    <tr>\n",
       "      <td>SE</td>\n",
       "      <td>0.692383</td>\n",
       "      <td>1024</td>\n",
       "      <td>0.865234</td>\n",
       "    </tr>\n",
       "    <tr>\n",
       "      <td>SI</td>\n",
       "      <td>0.437870</td>\n",
       "      <td>676</td>\n",
       "      <td>0.823964</td>\n",
       "    </tr>\n",
       "  </tbody>\n",
       "</table>\n",
       "</div>"
      ],
      "text/plain": [
       "      satisfied         correct\n",
       "           mean count      mean\n",
       "cntry                          \n",
       "AT     0.565036   961  0.862643\n",
       "BE     0.750000     4  1.000000\n",
       "CH     0.730178   845  0.871006\n",
       "CZ     0.381435  1185  0.854008\n",
       "DE     0.607143  1652  0.831114\n",
       "DK     0.813760   843  0.920522\n",
       "EE     0.358156  1128  0.836879\n",
       "ES     0.458969  1048  0.818702\n",
       "FI     0.724826  1152  0.863715\n",
       "FR     0.399236  1047  0.812798\n",
       "GB     0.509646  1244  0.845659\n",
       "HU     0.240000   950  0.874737\n",
       "IE     0.453210  1293  0.813612\n",
       "IL     0.571530  1405  0.839146\n",
       "LT     0.263993  1197  0.878864\n",
       "NL     0.633523  1056  0.856061\n",
       "NO     0.712435   772  0.869171\n",
       "PL     0.483982   874  0.839817\n",
       "PT     0.271429   700  0.872857\n",
       "SE     0.692383  1024  0.865234\n",
       "SI     0.437870   676  0.823964"
      ]
     },
     "execution_count": 353,
     "metadata": {},
     "output_type": "execute_result"
    }
   ],
   "source": [
    "temp = df_ori.groupby(\"cntry\").agg({\"satisfied\": [\"mean\", \"count\"], \"correct\": [\"mean\"]})\n",
    "temp"
   ]
  },
  {
   "cell_type": "code",
   "execution_count": 354,
   "metadata": {},
   "outputs": [],
   "source": [
    "hapiness = temp[\"satisfied\"][\"mean\"]\n",
    "correctness = temp[\"correct\"][\"mean\"]\n",
    "size = temp[\"satisfied\"][\"count\"]"
   ]
  },
  {
   "cell_type": "code",
   "execution_count": 355,
   "metadata": {},
   "outputs": [
    {
     "data": {
      "text/plain": [
       "<matplotlib.collections.PathCollection at 0x1a37f72650>"
      ]
     },
     "execution_count": 355,
     "metadata": {},
     "output_type": "execute_result"
    },
    {
     "data": {
      "image/png": "[encoded data removed]",
      "text/plain": [
       "<Figure size 432x288 with 1 Axes>"
      ]
     },
     "metadata": {
      "needs_background": "light"
     },
     "output_type": "display_data"
    }
   ],
   "source": [
    "plt.scatter(hapiness, correctness, s=size, alpha=0.5)"
   ]
  },
  {
   "cell_type": "code",
   "execution_count": 267,
   "metadata": {},
   "outputs": [
    {
     "data": {
      "text/plain": [
       "<matplotlib.collections.PathCollection at 0x1abfe73510>"
      ]
     },
     "execution_count": 267,
     "metadata": {},
     "output_type": "execute_result"
    },
    {
     "data": {
      "image/png": "[encoded data removed]",
      "text/plain": [
       "<Figure size 432x288 with 1 Axes>"
      ]
     },
     "metadata": {
      "needs_background": "light"
     },
     "output_type": "display_data"
    }
   ],
   "source": [
    "plt.scatter(size, correctness)"
   ]
  },
  {
   "cell_type": "code",
   "execution_count": 268,
   "metadata": {},
   "outputs": [
    {
     "data": {
      "text/html": [
       "<div>\n",
       "<style scoped>\n",
       "    .dataframe tbody tr th:only-of-type {\n",
       "        vertical-align: middle;\n",
       "    }\n",
       "\n",
       "    .dataframe tbody tr th {\n",
       "        vertical-align: top;\n",
       "    }\n",
       "\n",
       "    .dataframe thead tr th {\n",
       "        text-align: left;\n",
       "    }\n",
       "\n",
       "    .dataframe thead tr:last-of-type th {\n",
       "        text-align: right;\n",
       "    }\n",
       "</style>\n",
       "<table border=\"1\" class=\"dataframe\">\n",
       "  <thead>\n",
       "    <tr>\n",
       "      <th></th>\n",
       "      <th colspan=\"2\" halign=\"left\">satisfied</th>\n",
       "      <th>correct</th>\n",
       "    </tr>\n",
       "    <tr>\n",
       "      <th></th>\n",
       "      <th>mean</th>\n",
       "      <th>count</th>\n",
       "      <th>mean</th>\n",
       "    </tr>\n",
       "    <tr>\n",
       "      <th>cntry</th>\n",
       "      <th></th>\n",
       "      <th></th>\n",
       "      <th></th>\n",
       "    </tr>\n",
       "  </thead>\n",
       "  <tbody>\n",
       "    <tr>\n",
       "      <td>CZ</td>\n",
       "      <td>0.413655</td>\n",
       "      <td>498</td>\n",
       "      <td>0.785141</td>\n",
       "    </tr>\n",
       "    <tr>\n",
       "      <td>DE</td>\n",
       "      <td>0.599185</td>\n",
       "      <td>736</td>\n",
       "      <td>0.788043</td>\n",
       "    </tr>\n",
       "    <tr>\n",
       "      <td>EE</td>\n",
       "      <td>0.341004</td>\n",
       "      <td>478</td>\n",
       "      <td>0.799163</td>\n",
       "    </tr>\n",
       "    <tr>\n",
       "      <td>ES</td>\n",
       "      <td>0.521186</td>\n",
       "      <td>472</td>\n",
       "      <td>0.781780</td>\n",
       "    </tr>\n",
       "    <tr>\n",
       "      <td>FR</td>\n",
       "      <td>0.430769</td>\n",
       "      <td>455</td>\n",
       "      <td>0.764835</td>\n",
       "    </tr>\n",
       "    <tr>\n",
       "      <td>IE</td>\n",
       "      <td>0.503623</td>\n",
       "      <td>552</td>\n",
       "      <td>0.777174</td>\n",
       "    </tr>\n",
       "    <tr>\n",
       "      <td>PL</td>\n",
       "      <td>0.484043</td>\n",
       "      <td>376</td>\n",
       "      <td>0.747340</td>\n",
       "    </tr>\n",
       "    <tr>\n",
       "      <td>PT</td>\n",
       "      <td>0.318493</td>\n",
       "      <td>292</td>\n",
       "      <td>0.739726</td>\n",
       "    </tr>\n",
       "    <tr>\n",
       "      <td>SI</td>\n",
       "      <td>0.364964</td>\n",
       "      <td>274</td>\n",
       "      <td>0.791971</td>\n",
       "    </tr>\n",
       "  </tbody>\n",
       "</table>\n",
       "</div>"
      ],
      "text/plain": [
       "      satisfied         correct\n",
       "           mean count      mean\n",
       "cntry                          \n",
       "CZ     0.413655   498  0.785141\n",
       "DE     0.599185   736  0.788043\n",
       "EE     0.341004   478  0.799163\n",
       "ES     0.521186   472  0.781780\n",
       "FR     0.430769   455  0.764835\n",
       "IE     0.503623   552  0.777174\n",
       "PL     0.484043   376  0.747340\n",
       "PT     0.318493   292  0.739726\n",
       "SI     0.364964   274  0.791971"
      ]
     },
     "execution_count": 268,
     "metadata": {},
     "output_type": "execute_result"
    }
   ],
   "source": [
    "temp[temp[\"correct\"][\"mean\"] < 0.8]"
   ]
  },
  {
   "cell_type": "code",
   "execution_count": 269,
   "metadata": {},
   "outputs": [],
   "source": [
    "bad = temp[(temp[\"satisfied\"][\"mean\"] > 0.3) & (temp[\"satisfied\"][\"mean\"] < 0.6)].index"
   ]
  },
  {
   "cell_type": "code",
   "execution_count": 272,
   "metadata": {},
   "outputs": [],
   "source": [
    "bad_ind = df_ori[df_ori[\"cntry\"].isin(bad)].index"
   ]
  },
  {
   "cell_type": "code",
   "execution_count": 273,
   "metadata": {},
   "outputs": [],
   "source": [
    "df_train = df[df[\"test\"] == 0].drop(columns=[\"test\"]).set_index(\"id\")"
   ]
  },
  {
   "cell_type": "code",
   "execution_count": 276,
   "metadata": {},
   "outputs": [],
   "source": [
    "df_train = df_train.loc[bad_ind]"
   ]
  },
  {
   "cell_type": "code",
   "execution_count": 277,
   "metadata": {},
   "outputs": [],
   "source": [
    "X = df_train.drop(columns=[\"satisfied\"])\n",
    "y = df_train[\"satisfied\"]"
   ]
  },
  {
   "cell_type": "code",
   "execution_count": 284,
   "metadata": {},
   "outputs": [],
   "source": [
    "X_train, X_test, y_train, y_test = train_test_split(X, y, test_size=0.30, random_state=1001)\n",
    "# X_train_id, X_test_id, _, _ = train_test_split(X_id, y, test_size=0.30, random_state=1001)\n",
    "\n",
    "params = {\n",
    "    'subsample': 1.0,\n",
    "    'scale_pos_weight': 1.0,\n",
    "    'max_depth': 2,\n",
    "    'colsample_bytree': 0.5,\n",
    "    'colsample_bynode': 1.0,\n",
    "    'colsample_bylevel': 0.5\n",
    "}\n",
    "\n",
    "final_model = xgb.XGBClassifier(\n",
    "    learning_rate=0.1,\n",
    "    objective='binary:logistic',\n",
    "    silent=True, \n",
    "    missing=MISSING,\n",
    "    nthread=8,\n",
    "    **params\n",
    "    )\n",
    "\n",
    "\n",
    "final_model.fit(X_train, y_train)\n",
    "\n",
    "y_pred_train = final_model.predict(X_train)\n",
    "y_prob_train = final_model.predict_proba(X_train)[:,1]\n",
    "\n",
    "y_pred_test = final_model.predict(X_test)\n",
    "y_prob_test = final_model.predict_proba(X_test)[:,1]"
   ]
  },
  {
   "cell_type": "code",
   "execution_count": 285,
   "metadata": {},
   "outputs": [
    {
     "data": {
      "text/plain": [
       "(0.8755794913603105, 0.8904912771560237)"
      ]
     },
     "execution_count": 285,
     "metadata": {},
     "output_type": "execute_result"
    }
   ],
   "source": [
    "roc_auc_score(y_test, y_prob_test), roc_auc_score(y_train, y_prob_train)"
   ]
  },
  {
   "cell_type": "code",
   "execution_count": null,
   "metadata": {},
   "outputs": [],
   "source": []
  },
  {
   "cell_type": "code",
   "execution_count": 287,
   "metadata": {},
   "outputs": [],
   "source": [
    "df_ori2 = df_original.set_index(\"id\").loc[X_test.index]"
   ]
  },
  {
   "cell_type": "code",
   "execution_count": 288,
   "metadata": {},
   "outputs": [],
   "source": [
    "df_ori2[\"pred\"] = y_pred_test\n",
    "df_ori2[\"prob\"] = y_prob_test"
   ]
  },
  {
   "cell_type": "code",
   "execution_count": 289,
   "metadata": {},
   "outputs": [],
   "source": [
    "df_ori2[\"correct\"] = (df_ori2[\"satisfied\"] == df_ori2[\"pred\"]).astype(int)"
   ]
  },
  {
   "cell_type": "code",
   "execution_count": 290,
   "metadata": {},
   "outputs": [
    {
     "data": {
      "text/html": [
       "<div>\n",
       "<style scoped>\n",
       "    .dataframe tbody tr th:only-of-type {\n",
       "        vertical-align: middle;\n",
       "    }\n",
       "\n",
       "    .dataframe tbody tr th {\n",
       "        vertical-align: top;\n",
       "    }\n",
       "\n",
       "    .dataframe thead th {\n",
       "        text-align: right;\n",
       "    }\n",
       "</style>\n",
       "<table border=\"1\" class=\"dataframe\">\n",
       "  <thead>\n",
       "    <tr style=\"text-align: right;\">\n",
       "      <th></th>\n",
       "      <th>v1</th>\n",
       "      <th>v2</th>\n",
       "      <th>v3</th>\n",
       "      <th>v4</th>\n",
       "      <th>v5</th>\n",
       "      <th>v6</th>\n",
       "      <th>v7</th>\n",
       "      <th>v8</th>\n",
       "      <th>v9</th>\n",
       "      <th>v10</th>\n",
       "      <th>...</th>\n",
       "      <th>v266</th>\n",
       "      <th>v267</th>\n",
       "      <th>v268</th>\n",
       "      <th>v269</th>\n",
       "      <th>v270</th>\n",
       "      <th>cntry</th>\n",
       "      <th>satisfied</th>\n",
       "      <th>pred</th>\n",
       "      <th>prob</th>\n",
       "      <th>correct</th>\n",
       "    </tr>\n",
       "    <tr>\n",
       "      <th>id</th>\n",
       "      <th></th>\n",
       "      <th></th>\n",
       "      <th></th>\n",
       "      <th></th>\n",
       "      <th></th>\n",
       "      <th></th>\n",
       "      <th></th>\n",
       "      <th></th>\n",
       "      <th></th>\n",
       "      <th></th>\n",
       "      <th></th>\n",
       "      <th></th>\n",
       "      <th></th>\n",
       "      <th></th>\n",
       "      <th></th>\n",
       "      <th></th>\n",
       "      <th></th>\n",
       "      <th></th>\n",
       "      <th></th>\n",
       "      <th></th>\n",
       "      <th></th>\n",
       "    </tr>\n",
       "  </thead>\n",
       "  <tbody>\n",
       "    <tr>\n",
       "      <td>23751</td>\n",
       "      <td>3</td>\n",
       "      <td>2</td>\n",
       "      <td>26</td>\n",
       "      <td>11080</td>\n",
       "      <td>.a</td>\n",
       "      <td>1</td>\n",
       "      <td>2</td>\n",
       "      <td>2</td>\n",
       "      <td>2</td>\n",
       "      <td>1</td>\n",
       "      <td>...</td>\n",
       "      <td>2011</td>\n",
       "      <td>.a</td>\n",
       "      <td>.a</td>\n",
       "      <td>.a</td>\n",
       "      <td>.a</td>\n",
       "      <td>IE</td>\n",
       "      <td>1</td>\n",
       "      <td>1.0</td>\n",
       "      <td>0.861591</td>\n",
       "      <td>1</td>\n",
       "    </tr>\n",
       "    <tr>\n",
       "      <td>25617</td>\n",
       "      <td>2</td>\n",
       "      <td>2</td>\n",
       "      <td>47</td>\n",
       "      <td>11010</td>\n",
       "      <td>11010</td>\n",
       "      <td>1</td>\n",
       "      <td>2</td>\n",
       "      <td>2</td>\n",
       "      <td>2</td>\n",
       "      <td>1</td>\n",
       "      <td>...</td>\n",
       "      <td>.a</td>\n",
       "      <td>.a</td>\n",
       "      <td>.a</td>\n",
       "      <td>.a</td>\n",
       "      <td>NaN</td>\n",
       "      <td>AT</td>\n",
       "      <td>1</td>\n",
       "      <td>0.0</td>\n",
       "      <td>0.248110</td>\n",
       "      <td>0</td>\n",
       "    </tr>\n",
       "    <tr>\n",
       "      <td>18832</td>\n",
       "      <td>5</td>\n",
       "      <td>2</td>\n",
       "      <td>35</td>\n",
       "      <td>41030</td>\n",
       "      <td>.a</td>\n",
       "      <td>2</td>\n",
       "      <td>2</td>\n",
       "      <td>2</td>\n",
       "      <td>2</td>\n",
       "      <td>2</td>\n",
       "      <td>...</td>\n",
       "      <td>.a</td>\n",
       "      <td>.a</td>\n",
       "      <td>.a</td>\n",
       "      <td>.a</td>\n",
       "      <td>NaN</td>\n",
       "      <td>GB</td>\n",
       "      <td>0</td>\n",
       "      <td>0.0</td>\n",
       "      <td>0.058236</td>\n",
       "      <td>1</td>\n",
       "    </tr>\n",
       "    <tr>\n",
       "      <td>12235</td>\n",
       "      <td>9</td>\n",
       "      <td>2</td>\n",
       "      <td>33</td>\n",
       "      <td>15020</td>\n",
       "      <td>.a</td>\n",
       "      <td>2</td>\n",
       "      <td>1</td>\n",
       "      <td>2</td>\n",
       "      <td>2</td>\n",
       "      <td>1</td>\n",
       "      <td>...</td>\n",
       "      <td>.a</td>\n",
       "      <td>.a</td>\n",
       "      <td>NaN</td>\n",
       "      <td>NaN</td>\n",
       "      <td>NaN</td>\n",
       "      <td>CZ</td>\n",
       "      <td>1</td>\n",
       "      <td>1.0</td>\n",
       "      <td>0.863148</td>\n",
       "      <td>1</td>\n",
       "    </tr>\n",
       "    <tr>\n",
       "      <td>22091</td>\n",
       "      <td>0</td>\n",
       "      <td>3</td>\n",
       "      <td>54</td>\n",
       "      <td>11080</td>\n",
       "      <td>.a</td>\n",
       "      <td>2</td>\n",
       "      <td>2</td>\n",
       "      <td>2</td>\n",
       "      <td>2</td>\n",
       "      <td>1</td>\n",
       "      <td>...</td>\n",
       "      <td>1988</td>\n",
       "      <td>.a</td>\n",
       "      <td>.a</td>\n",
       "      <td>.a</td>\n",
       "      <td>.a</td>\n",
       "      <td>IE</td>\n",
       "      <td>1</td>\n",
       "      <td>1.0</td>\n",
       "      <td>0.757092</td>\n",
       "      <td>1</td>\n",
       "    </tr>\n",
       "    <tr>\n",
       "      <td>...</td>\n",
       "      <td>...</td>\n",
       "      <td>...</td>\n",
       "      <td>...</td>\n",
       "      <td>...</td>\n",
       "      <td>...</td>\n",
       "      <td>...</td>\n",
       "      <td>...</td>\n",
       "      <td>...</td>\n",
       "      <td>...</td>\n",
       "      <td>...</td>\n",
       "      <td>...</td>\n",
       "      <td>...</td>\n",
       "      <td>...</td>\n",
       "      <td>...</td>\n",
       "      <td>...</td>\n",
       "      <td>...</td>\n",
       "      <td>...</td>\n",
       "      <td>...</td>\n",
       "      <td>...</td>\n",
       "      <td>...</td>\n",
       "      <td>...</td>\n",
       "    </tr>\n",
       "    <tr>\n",
       "      <td>23529</td>\n",
       "      <td>1</td>\n",
       "      <td>2</td>\n",
       "      <td>58</td>\n",
       "      <td>13070</td>\n",
       "      <td>13990</td>\n",
       "      <td>1</td>\n",
       "      <td>2</td>\n",
       "      <td>1</td>\n",
       "      <td>2</td>\n",
       "      <td>1</td>\n",
       "      <td>...</td>\n",
       "      <td>.a</td>\n",
       "      <td>.a</td>\n",
       "      <td>.a</td>\n",
       "      <td>.a</td>\n",
       "      <td>.a</td>\n",
       "      <td>ES</td>\n",
       "      <td>0</td>\n",
       "      <td>0.0</td>\n",
       "      <td>0.428250</td>\n",
       "      <td>1</td>\n",
       "    </tr>\n",
       "    <tr>\n",
       "      <td>2441</td>\n",
       "      <td>0</td>\n",
       "      <td>2</td>\n",
       "      <td>47</td>\n",
       "      <td>43000</td>\n",
       "      <td>.a</td>\n",
       "      <td>1</td>\n",
       "      <td>2</td>\n",
       "      <td>2</td>\n",
       "      <td>2</td>\n",
       "      <td>2</td>\n",
       "      <td>...</td>\n",
       "      <td>.a</td>\n",
       "      <td>.a</td>\n",
       "      <td>.a</td>\n",
       "      <td>.a</td>\n",
       "      <td>.a</td>\n",
       "      <td>PT</td>\n",
       "      <td>0</td>\n",
       "      <td>1.0</td>\n",
       "      <td>0.637797</td>\n",
       "      <td>0</td>\n",
       "    </tr>\n",
       "    <tr>\n",
       "      <td>14431</td>\n",
       "      <td>0</td>\n",
       "      <td>3</td>\n",
       "      <td>61</td>\n",
       "      <td>13060</td>\n",
       "      <td>.a</td>\n",
       "      <td>2</td>\n",
       "      <td>2</td>\n",
       "      <td>2</td>\n",
       "      <td>2</td>\n",
       "      <td>1</td>\n",
       "      <td>...</td>\n",
       "      <td>.a</td>\n",
       "      <td>.a</td>\n",
       "      <td>.a</td>\n",
       "      <td>.a</td>\n",
       "      <td>.a</td>\n",
       "      <td>PT</td>\n",
       "      <td>0</td>\n",
       "      <td>0.0</td>\n",
       "      <td>0.210856</td>\n",
       "      <td>1</td>\n",
       "    </tr>\n",
       "    <tr>\n",
       "      <td>17633</td>\n",
       "      <td>2</td>\n",
       "      <td>3</td>\n",
       "      <td>66</td>\n",
       "      <td>15030</td>\n",
       "      <td>.a</td>\n",
       "      <td>2</td>\n",
       "      <td>2</td>\n",
       "      <td>2</td>\n",
       "      <td>2</td>\n",
       "      <td>1</td>\n",
       "      <td>...</td>\n",
       "      <td>.a</td>\n",
       "      <td>.a</td>\n",
       "      <td>.a</td>\n",
       "      <td>NaN</td>\n",
       "      <td>NaN</td>\n",
       "      <td>EE</td>\n",
       "      <td>0</td>\n",
       "      <td>0.0</td>\n",
       "      <td>0.081017</td>\n",
       "      <td>1</td>\n",
       "    </tr>\n",
       "    <tr>\n",
       "      <td>22957</td>\n",
       "      <td>5</td>\n",
       "      <td>1</td>\n",
       "      <td>47</td>\n",
       "      <td>13071</td>\n",
       "      <td>13070</td>\n",
       "      <td>1</td>\n",
       "      <td>2</td>\n",
       "      <td>2</td>\n",
       "      <td>2</td>\n",
       "      <td>1</td>\n",
       "      <td>...</td>\n",
       "      <td>.a</td>\n",
       "      <td>.a</td>\n",
       "      <td>.a</td>\n",
       "      <td>.a</td>\n",
       "      <td>.a</td>\n",
       "      <td>ES</td>\n",
       "      <td>1</td>\n",
       "      <td>1.0</td>\n",
       "      <td>0.623427</td>\n",
       "      <td>1</td>\n",
       "    </tr>\n",
       "  </tbody>\n",
       "</table>\n",
       "<p>1525 rows × 275 columns</p>\n",
       "</div>"
      ],
      "text/plain": [
       "      v1 v2  v3     v4     v5 v6 v7 v8 v9 v10  ...  v266 v267 v268 v269  v270  \\\n",
       "id                                             ...                              \n",
       "23751  3  2  26  11080     .a  1  2  2  2   1  ...  2011   .a   .a   .a    .a   \n",
       "25617  2  2  47  11010  11010  1  2  2  2   1  ...    .a   .a   .a   .a   NaN   \n",
       "18832  5  2  35  41030     .a  2  2  2  2   2  ...    .a   .a   .a   .a   NaN   \n",
       "12235  9  2  33  15020     .a  2  1  2  2   1  ...    .a   .a  NaN  NaN   NaN   \n",
       "22091  0  3  54  11080     .a  2  2  2  2   1  ...  1988   .a   .a   .a    .a   \n",
       "...   .. ..  ..    ...    ... .. .. .. ..  ..  ...   ...  ...  ...  ...   ...   \n",
       "23529  1  2  58  13070  13990  1  2  1  2   1  ...    .a   .a   .a   .a    .a   \n",
       "2441   0  2  47  43000     .a  1  2  2  2   2  ...    .a   .a   .a   .a    .a   \n",
       "14431  0  3  61  13060     .a  2  2  2  2   1  ...    .a   .a   .a   .a    .a   \n",
       "17633  2  3  66  15030     .a  2  2  2  2   1  ...    .a   .a   .a  NaN   NaN   \n",
       "22957  5  1  47  13071  13070  1  2  2  2   1  ...    .a   .a   .a   .a    .a   \n",
       "\n",
       "       cntry satisfied pred      prob correct  \n",
       "id                                             \n",
       "23751     IE         1  1.0  0.861591       1  \n",
       "25617     AT         1  0.0  0.248110       0  \n",
       "18832     GB         0  0.0  0.058236       1  \n",
       "12235     CZ         1  1.0  0.863148       1  \n",
       "22091     IE         1  1.0  0.757092       1  \n",
       "...      ...       ...  ...       ...     ...  \n",
       "23529     ES         0  0.0  0.428250       1  \n",
       "2441      PT         0  1.0  0.637797       0  \n",
       "14431     PT         0  0.0  0.210856       1  \n",
       "17633     EE         0  0.0  0.081017       1  \n",
       "22957     ES         1  1.0  0.623427       1  \n",
       "\n",
       "[1525 rows x 275 columns]"
      ]
     },
     "execution_count": 290,
     "metadata": {},
     "output_type": "execute_result"
    }
   ],
   "source": [
    "df_ori2"
   ]
  },
  {
   "cell_type": "code",
   "execution_count": 291,
   "metadata": {},
   "outputs": [
    {
     "data": {
      "text/html": [
       "<div>\n",
       "<style scoped>\n",
       "    .dataframe tbody tr th:only-of-type {\n",
       "        vertical-align: middle;\n",
       "    }\n",
       "\n",
       "    .dataframe tbody tr th {\n",
       "        vertical-align: top;\n",
       "    }\n",
       "\n",
       "    .dataframe thead tr th {\n",
       "        text-align: left;\n",
       "    }\n",
       "\n",
       "    .dataframe thead tr:last-of-type th {\n",
       "        text-align: right;\n",
       "    }\n",
       "</style>\n",
       "<table border=\"1\" class=\"dataframe\">\n",
       "  <thead>\n",
       "    <tr>\n",
       "      <th></th>\n",
       "      <th colspan=\"2\" halign=\"left\">satisfied</th>\n",
       "      <th>correct</th>\n",
       "    </tr>\n",
       "    <tr>\n",
       "      <th></th>\n",
       "      <th>mean</th>\n",
       "      <th>count</th>\n",
       "      <th>mean</th>\n",
       "    </tr>\n",
       "    <tr>\n",
       "      <th>cntry</th>\n",
       "      <th></th>\n",
       "      <th></th>\n",
       "      <th></th>\n",
       "    </tr>\n",
       "  </thead>\n",
       "  <tbody>\n",
       "    <tr>\n",
       "      <td>AT</td>\n",
       "      <td>0.533835</td>\n",
       "      <td>133</td>\n",
       "      <td>0.834586</td>\n",
       "    </tr>\n",
       "    <tr>\n",
       "      <td>BE</td>\n",
       "      <td>0.500000</td>\n",
       "      <td>2</td>\n",
       "      <td>1.000000</td>\n",
       "    </tr>\n",
       "    <tr>\n",
       "      <td>CZ</td>\n",
       "      <td>0.356061</td>\n",
       "      <td>132</td>\n",
       "      <td>0.810606</td>\n",
       "    </tr>\n",
       "    <tr>\n",
       "      <td>DE</td>\n",
       "      <td>0.580357</td>\n",
       "      <td>224</td>\n",
       "      <td>0.776786</td>\n",
       "    </tr>\n",
       "    <tr>\n",
       "      <td>EE</td>\n",
       "      <td>0.324841</td>\n",
       "      <td>157</td>\n",
       "      <td>0.821656</td>\n",
       "    </tr>\n",
       "    <tr>\n",
       "      <td>ES</td>\n",
       "      <td>0.576923</td>\n",
       "      <td>130</td>\n",
       "      <td>0.815385</td>\n",
       "    </tr>\n",
       "    <tr>\n",
       "      <td>FR</td>\n",
       "      <td>0.421053</td>\n",
       "      <td>152</td>\n",
       "      <td>0.789474</td>\n",
       "    </tr>\n",
       "    <tr>\n",
       "      <td>GB</td>\n",
       "      <td>0.557047</td>\n",
       "      <td>149</td>\n",
       "      <td>0.825503</td>\n",
       "    </tr>\n",
       "    <tr>\n",
       "      <td>IE</td>\n",
       "      <td>0.480769</td>\n",
       "      <td>156</td>\n",
       "      <td>0.794872</td>\n",
       "    </tr>\n",
       "    <tr>\n",
       "      <td>PL</td>\n",
       "      <td>0.491379</td>\n",
       "      <td>116</td>\n",
       "      <td>0.732759</td>\n",
       "    </tr>\n",
       "    <tr>\n",
       "      <td>PT</td>\n",
       "      <td>0.298851</td>\n",
       "      <td>87</td>\n",
       "      <td>0.770115</td>\n",
       "    </tr>\n",
       "    <tr>\n",
       "      <td>SI</td>\n",
       "      <td>0.379310</td>\n",
       "      <td>87</td>\n",
       "      <td>0.793103</td>\n",
       "    </tr>\n",
       "  </tbody>\n",
       "</table>\n",
       "</div>"
      ],
      "text/plain": [
       "      satisfied         correct\n",
       "           mean count      mean\n",
       "cntry                          \n",
       "AT     0.533835   133  0.834586\n",
       "BE     0.500000     2  1.000000\n",
       "CZ     0.356061   132  0.810606\n",
       "DE     0.580357   224  0.776786\n",
       "EE     0.324841   157  0.821656\n",
       "ES     0.576923   130  0.815385\n",
       "FR     0.421053   152  0.789474\n",
       "GB     0.557047   149  0.825503\n",
       "IE     0.480769   156  0.794872\n",
       "PL     0.491379   116  0.732759\n",
       "PT     0.298851    87  0.770115\n",
       "SI     0.379310    87  0.793103"
      ]
     },
     "execution_count": 291,
     "metadata": {},
     "output_type": "execute_result"
    }
   ],
   "source": [
    "temp = df_ori2.groupby(\"cntry\").agg({\"satisfied\": [\"mean\", \"count\"], \"correct\": [\"mean\"]})\n",
    "temp"
   ]
  },
  {
   "cell_type": "code",
   "execution_count": null,
   "metadata": {},
   "outputs": [],
   "source": [
    "hapiness = temp[\"satisfied\"][\"mean\"]\n",
    "correctness = temp[\"correct\"][\"mean\"]\n",
    "size = temp[\"satisfied\"][\"count\"]"
   ]
  },
  {
   "cell_type": "code",
   "execution_count": null,
   "metadata": {},
   "outputs": [],
   "source": [
    "plt.scatter(hapiness, correctness, s=size, alpha=0.5)"
   ]
  },
  {
   "cell_type": "code",
   "execution_count": null,
   "metadata": {},
   "outputs": [],
   "source": [
    "plt.scatter(size, correctness)"
   ]
  },
  {
   "cell_type": "code",
   "execution_count": null,
   "metadata": {},
   "outputs": [],
   "source": [
    "temp[temp[\"correct\"][\"mean\"] < 0.8]"
   ]
  },
  {
   "cell_type": "code",
   "execution_count": null,
   "metadata": {},
   "outputs": [],
   "source": []
  },
  {
   "cell_type": "code",
   "execution_count": null,
   "metadata": {},
   "outputs": [],
   "source": []
  },
  {
   "cell_type": "code",
   "execution_count": null,
   "metadata": {},
   "outputs": [],
   "source": []
  }
 ],
 "metadata": {
  "kernelspec": {
   "display_name": "Python 3",
   "language": "python",
   "name": "python3"
  },
  "language_info": {
   "codemirror_mode": {
    "name": "ipython",
    "version": 3
   },
   "file_extension": ".py",
   "mimetype": "text/x-python",
   "name": "python",
   "nbconvert_exporter": "python",
   "pygments_lexer": "ipython3",
   "version": "3.7.4"
  }
 },
 "nbformat": 4,
 "nbformat_minor": 2
}
